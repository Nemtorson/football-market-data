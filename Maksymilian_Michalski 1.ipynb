{
 "cells": [
  {
   "cell_type": "code",
   "execution_count": 158,
   "metadata": {},
   "outputs": [],
   "source": [
    "import pandas as pd\n",
    "import numpy as np\n",
    "import seaborn as sns\n",
    "import matplotlib.pyplot as plt\n",
    "import plotly.express as px\n",
    "import plotly.graph_objects as go\n",
    "import statsmodels.api as sm\n",
    "import dash\n",
    "from sklearn.model_selection import train_test_split, GridSearchCV\n",
    "from sklearn.ensemble import RandomForestRegressor\n",
    "from sklearn.metrics import mean_absolute_error, mean_squared_error, r2_score\n",
    "from sklearn.neighbors import KNeighborsClassifier\n",
    "from sklearn.metrics import classification_report, accuracy_score\n",
    "from sklearn.preprocessing import LabelEncoder\n",
    "from datetime import datetime\n",
    "from sklearn.preprocessing import StandardScaler\n",
    "from sklearn.linear_model import Ridge\n",
    "from sklearn.linear_model import LinearRegression\n",
    "from sklearn.tree import DecisionTreeClassifier\n",
    "from sklearn import svm\n",
    "from sklearn.svm import SVR\n",
    "from dash.dependencies import Input, Output, State\n",
    "from dash import dcc, html"
   ]
  },
  {
   "cell_type": "markdown",
   "metadata": {},
   "source": [
    "Kaggle data"
   ]
  },
  {
   "cell_type": "code",
   "execution_count": 159,
   "metadata": {},
   "outputs": [],
   "source": [
    "apps = pd.read_csv('appearances.csv')\n",
    "player_val = pd.read_csv('player_valuations.csv')\n",
    "players = pd.read_csv('players.csv')"
   ]
  },
  {
   "cell_type": "markdown",
   "metadata": {},
   "source": [
    "Scrapped data"
   ]
  },
  {
   "cell_type": "code",
   "execution_count": 160,
   "metadata": {},
   "outputs": [],
   "source": [
    "df_keep1 = pd.read_csv('scrapping/goalkeeping_17-18.csv')\n",
    "df_keep2 = pd.read_csv('scrapping/goalkeeping_18-19.csv')\n",
    "df_keep3 = pd.read_csv('scrapping/goalkeeping_19-20.csv')\n",
    "df_keep4 = pd.read_csv('scrapping/goalkeeping_20-21.csv')\n",
    "df_keep5 = pd.read_csv('scrapping/goalkeeping_21-22.csv')\n",
    "df_keep6 = pd.read_csv('scrapping/goalkeeping_22-23.csv')\n",
    "df_keep7 = pd.read_csv('scrapping/goalkeeping_23-24.csv')\n",
    "\n",
    "df_def1 = pd.read_csv('scrapping/defense_17-18.csv')\n",
    "df_def2 = pd.read_csv('scrapping/defense_18-19.csv')\n",
    "df_def3 = pd.read_csv('scrapping/defense_19-20.csv')\n",
    "df_def4 = pd.read_csv('scrapping/defense_20-21.csv')\n",
    "df_def5 = pd.read_csv('scrapping/defense_21-22.csv')\n",
    "df_def6 = pd.read_csv('scrapping/defense_22-23.csv')\n",
    "df_def7 = pd.read_csv('scrapping/defense_23-24.csv')\n",
    "\n",
    "df_pass1 = pd.read_csv('scrapping/passes_17-18.csv')\n",
    "df_pass2 = pd.read_csv('scrapping/passes_18-19.csv')\n",
    "df_pass3 = pd.read_csv('scrapping/passes_19-20.csv')\n",
    "df_pass4 = pd.read_csv('scrapping/passes_20-21.csv')\n",
    "df_pass5 = pd.read_csv('scrapping/passes_21-22.csv')\n",
    "df_pass6 = pd.read_csv('scrapping/passes_22-23.csv')\n",
    "df_pass7 = pd.read_csv('scrapping/passes_23-24.csv')\n",
    "\n",
    "df_shoot1 = pd.read_csv('scrapping/shooting_17-18.csv')\n",
    "df_shoot2 = pd.read_csv('scrapping/shooting_18-19.csv')\n",
    "df_shoot3 = pd.read_csv('scrapping/shooting_19-20.csv')\n",
    "df_shoot4 = pd.read_csv('scrapping/shooting_20-21.csv')\n",
    "df_shoot5 = pd.read_csv('scrapping/shooting_21-22.csv')\n",
    "df_shoot6 = pd.read_csv('scrapping/shooting_22-23.csv')\n",
    "df_shoot7 = pd.read_csv('scrapping/shooting_23-24.csv')\n",
    "\n",
    "df_possess1 = pd.read_csv('scrapping/possession_17-18.csv')\n",
    "df_possess2 = pd.read_csv('scrapping/possession_18-19.csv')\n",
    "df_possess3 = pd.read_csv('scrapping/possession_19-20.csv')\n",
    "df_possess4 = pd.read_csv('scrapping/possession_20-21.csv')\n",
    "df_possess5 = pd.read_csv('scrapping/possession_21-22.csv')\n",
    "df_possess6 = pd.read_csv('scrapping/possession_22-23.csv')\n",
    "df_possess7 = pd.read_csv('scrapping/possession_23-24.csv')\n"
   ]
  },
  {
   "cell_type": "code",
   "execution_count": 161,
   "metadata": {},
   "outputs": [],
   "source": [
    "csv = [apps, player_val, players]"
   ]
  },
  {
   "cell_type": "code",
   "execution_count": 162,
   "metadata": {},
   "outputs": [],
   "source": [
    "dataframes = [df_def1, df_def2, df_def3, df_def4, df_def5, df_def6, df_def7, df_keep1, df_keep2, df_keep3, df_keep4, df_keep5, df_keep6, df_keep7,\n",
    "              df_shoot1, df_shoot2, df_shoot3, df_shoot4, df_shoot5, df_shoot6, df_shoot7, df_pass1, df_pass2, df_pass3, df_pass4, df_pass5, df_pass6,\n",
    "              df_pass7, df_possess1, df_possess2, df_possess3, df_possess4, df_possess5, df_possess6, df_possess7]"
   ]
  },
  {
   "cell_type": "code",
   "execution_count": 163,
   "metadata": {},
   "outputs": [],
   "source": [
    "for df in dataframes:\n",
    "    if 'Unnamed: 0' in df.columns:\n",
    "        df.drop(columns=['Unnamed: 0'], inplace=True)\n",
    "    df.rename(columns = {'Player' : 'name'}, inplace=True)\n",
    "\n",
    "    for col in df.columns:\n",
    "        df[col] = df[col].fillna(0)\n",
    "        "
   ]
  },
  {
   "cell_type": "markdown",
   "metadata": {},
   "source": [
    "<h4>Check for Nans and remove them</h4>"
   ]
  },
  {
   "cell_type": "code",
   "execution_count": 164,
   "metadata": {},
   "outputs": [
    {
     "name": "stdout",
     "output_type": "stream",
     "text": [
      "appearance_id             False\n",
      "game_id                   False\n",
      "player_id                 False\n",
      "player_club_id            False\n",
      "player_current_club_id    False\n",
      "date                      False\n",
      "player_name                True\n",
      "competition_id            False\n",
      "yellow_cards              False\n",
      "red_cards                 False\n",
      "goals                     False\n",
      "assists                   False\n",
      "minutes_played            False\n",
      "dtype: bool\n",
      "appearance_id             1573073\n",
      "game_id                   1573073\n",
      "player_id                 1573073\n",
      "player_club_id            1573073\n",
      "player_current_club_id    1573073\n",
      "date                      1573073\n",
      "player_name               1573073\n",
      "competition_id            1573073\n",
      "yellow_cards              1573073\n",
      "red_cards                 1573073\n",
      "goals                     1573073\n",
      "assists                   1573073\n",
      "minutes_played            1573073\n",
      "dtype: int64\n"
     ]
    }
   ],
   "source": [
    "print(apps.isna().any())\n",
    "apps = apps.dropna()\n",
    "print(apps.isna().count())\n"
   ]
  },
  {
   "cell_type": "code",
   "execution_count": 165,
   "metadata": {},
   "outputs": [
    {
     "name": "stdout",
     "output_type": "stream",
     "text": [
      "appearance_id             False\n",
      "game_id                   False\n",
      "player_id                 False\n",
      "player_club_id            False\n",
      "player_current_club_id    False\n",
      "date                      False\n",
      "player_name                True\n",
      "competition_id            False\n",
      "yellow_cards              False\n",
      "red_cards                 False\n",
      "goals                     False\n",
      "assists                   False\n",
      "minutes_played            False\n",
      "dtype: bool\n",
      "player_id                              False\n",
      "date                                   False\n",
      "market_value_in_eur                    False\n",
      "current_club_id                        False\n",
      "player_club_domestic_competition_id    False\n",
      "dtype: bool\n",
      "player_id                               False\n",
      "first_name                               True\n",
      "last_name                               False\n",
      "name                                    False\n",
      "last_season                             False\n",
      "current_club_id                         False\n",
      "player_code                             False\n",
      "country_of_birth                         True\n",
      "city_of_birth                            True\n",
      "country_of_citizenship                   True\n",
      "date_of_birth                            True\n",
      "sub_position                             True\n",
      "position                                False\n",
      "foot                                     True\n",
      "height_in_cm                             True\n",
      "contract_expiration_date                 True\n",
      "agent_name                               True\n",
      "image_url                               False\n",
      "url                                     False\n",
      "current_club_domestic_competition_id    False\n",
      "current_club_name                       False\n",
      "market_value_in_eur                      True\n",
      "highest_market_value_in_eur              True\n",
      "dtype: bool\n"
     ]
    }
   ],
   "source": [
    "for file in csv:\n",
    "    print(file.isna().any())"
   ]
  },
  {
   "cell_type": "code",
   "execution_count": 166,
   "metadata": {},
   "outputs": [
    {
     "data": {
      "text/plain": [
       "Index(['player_id', 'first_name', 'last_name', 'name', 'last_season',\n",
       "       'current_club_id', 'player_code', 'country_of_birth', 'city_of_birth',\n",
       "       'country_of_citizenship', 'date_of_birth', 'sub_position', 'position',\n",
       "       'foot', 'height_in_cm', 'contract_expiration_date', 'agent_name',\n",
       "       'image_url', 'url', 'current_club_domestic_competition_id',\n",
       "       'current_club_name', 'market_value_in_eur',\n",
       "       'highest_market_value_in_eur'],\n",
       "      dtype='object')"
      ]
     },
     "execution_count": 166,
     "metadata": {},
     "output_type": "execute_result"
    }
   ],
   "source": [
    "players.columns"
   ]
  },
  {
   "cell_type": "code",
   "execution_count": 167,
   "metadata": {},
   "outputs": [
    {
     "data": {
      "text/plain": [
       "player_id                               False\n",
       "first_name                               True\n",
       "last_name                               False\n",
       "name                                    False\n",
       "last_season                             False\n",
       "current_club_id                         False\n",
       "player_code                             False\n",
       "country_of_birth                         True\n",
       "city_of_birth                            True\n",
       "country_of_citizenship                   True\n",
       "date_of_birth                            True\n",
       "sub_position                             True\n",
       "position                                False\n",
       "foot                                     True\n",
       "height_in_cm                             True\n",
       "contract_expiration_date                 True\n",
       "agent_name                               True\n",
       "image_url                               False\n",
       "url                                     False\n",
       "current_club_domestic_competition_id    False\n",
       "current_club_name                       False\n",
       "market_value_in_eur                      True\n",
       "highest_market_value_in_eur              True\n",
       "dtype: bool"
      ]
     },
     "execution_count": 167,
     "metadata": {},
     "output_type": "execute_result"
    }
   ],
   "source": [
    "players.isna().any()"
   ]
  },
  {
   "cell_type": "code",
   "execution_count": 168,
   "metadata": {},
   "outputs": [
    {
     "data": {
      "text/plain": [
       "Index(['player_id', 'date', 'market_value_in_eur', 'current_club_id',\n",
       "       'player_club_domestic_competition_id'],\n",
       "      dtype='object')"
      ]
     },
     "execution_count": 168,
     "metadata": {},
     "output_type": "execute_result"
    }
   ],
   "source": [
    "player_val.columns"
   ]
  },
  {
   "cell_type": "markdown",
   "metadata": {},
   "source": [
    "<h4>Statystyki klubów Premier League</h4>"
   ]
  },
  {
   "cell_type": "code",
   "execution_count": 169,
   "metadata": {},
   "outputs": [
    {
     "data": {
      "application/vnd.plotly.v1+json": {
       "config": {
        "plotlyServerURL": "https://plot.ly"
       },
       "data": [
        {
         "labels": [
          "Manchester City Football Club",
          "Arsenal Football Club",
          "Chelsea Football Club",
          "Liverpool Football Club",
          "Tottenham Hotspur Football Club",
          "Manchester United Football Club",
          "Aston Villa Football Club",
          "Newcastle United Football Club",
          "Brighton and Hove Albion Football Club",
          "West Ham United Football Club",
          "Brentford Football Club",
          "Crystal Palace Football Club",
          "Nottingham Forest Football Club",
          "Association Football Club Bournemouth",
          "Everton Football Club",
          "Wolverhampton Wanderers Football Club",
          "Fulham Football Club",
          "Burnley Football Club",
          "Sheffield United Football Club",
          "Luton Town Football Club"
         ],
         "type": "pie",
         "values": [
          1270200000,
          1118500000,
          928300000,
          921400000,
          777300000,
          734250000,
          646200000,
          637700000,
          505100000,
          446600000,
          426075000,
          404700000,
          369650000,
          352800000,
          345400000,
          339900000,
          338000000,
          256100000,
          144200000,
          125100000
         ]
        }
       ],
       "layout": {
        "template": {
         "data": {
          "bar": [
           {
            "error_x": {
             "color": "#2a3f5f"
            },
            "error_y": {
             "color": "#2a3f5f"
            },
            "marker": {
             "line": {
              "color": "#E5ECF6",
              "width": 0.5
             },
             "pattern": {
              "fillmode": "overlay",
              "size": 10,
              "solidity": 0.2
             }
            },
            "type": "bar"
           }
          ],
          "barpolar": [
           {
            "marker": {
             "line": {
              "color": "#E5ECF6",
              "width": 0.5
             },
             "pattern": {
              "fillmode": "overlay",
              "size": 10,
              "solidity": 0.2
             }
            },
            "type": "barpolar"
           }
          ],
          "carpet": [
           {
            "aaxis": {
             "endlinecolor": "#2a3f5f",
             "gridcolor": "white",
             "linecolor": "white",
             "minorgridcolor": "white",
             "startlinecolor": "#2a3f5f"
            },
            "baxis": {
             "endlinecolor": "#2a3f5f",
             "gridcolor": "white",
             "linecolor": "white",
             "minorgridcolor": "white",
             "startlinecolor": "#2a3f5f"
            },
            "type": "carpet"
           }
          ],
          "choropleth": [
           {
            "colorbar": {
             "outlinewidth": 0,
             "ticks": ""
            },
            "type": "choropleth"
           }
          ],
          "contour": [
           {
            "colorbar": {
             "outlinewidth": 0,
             "ticks": ""
            },
            "colorscale": [
             [
              0,
              "#0d0887"
             ],
             [
              0.1111111111111111,
              "#46039f"
             ],
             [
              0.2222222222222222,
              "#7201a8"
             ],
             [
              0.3333333333333333,
              "#9c179e"
             ],
             [
              0.4444444444444444,
              "#bd3786"
             ],
             [
              0.5555555555555556,
              "#d8576b"
             ],
             [
              0.6666666666666666,
              "#ed7953"
             ],
             [
              0.7777777777777778,
              "#fb9f3a"
             ],
             [
              0.8888888888888888,
              "#fdca26"
             ],
             [
              1,
              "#f0f921"
             ]
            ],
            "type": "contour"
           }
          ],
          "contourcarpet": [
           {
            "colorbar": {
             "outlinewidth": 0,
             "ticks": ""
            },
            "type": "contourcarpet"
           }
          ],
          "heatmap": [
           {
            "colorbar": {
             "outlinewidth": 0,
             "ticks": ""
            },
            "colorscale": [
             [
              0,
              "#0d0887"
             ],
             [
              0.1111111111111111,
              "#46039f"
             ],
             [
              0.2222222222222222,
              "#7201a8"
             ],
             [
              0.3333333333333333,
              "#9c179e"
             ],
             [
              0.4444444444444444,
              "#bd3786"
             ],
             [
              0.5555555555555556,
              "#d8576b"
             ],
             [
              0.6666666666666666,
              "#ed7953"
             ],
             [
              0.7777777777777778,
              "#fb9f3a"
             ],
             [
              0.8888888888888888,
              "#fdca26"
             ],
             [
              1,
              "#f0f921"
             ]
            ],
            "type": "heatmap"
           }
          ],
          "heatmapgl": [
           {
            "colorbar": {
             "outlinewidth": 0,
             "ticks": ""
            },
            "colorscale": [
             [
              0,
              "#0d0887"
             ],
             [
              0.1111111111111111,
              "#46039f"
             ],
             [
              0.2222222222222222,
              "#7201a8"
             ],
             [
              0.3333333333333333,
              "#9c179e"
             ],
             [
              0.4444444444444444,
              "#bd3786"
             ],
             [
              0.5555555555555556,
              "#d8576b"
             ],
             [
              0.6666666666666666,
              "#ed7953"
             ],
             [
              0.7777777777777778,
              "#fb9f3a"
             ],
             [
              0.8888888888888888,
              "#fdca26"
             ],
             [
              1,
              "#f0f921"
             ]
            ],
            "type": "heatmapgl"
           }
          ],
          "histogram": [
           {
            "marker": {
             "pattern": {
              "fillmode": "overlay",
              "size": 10,
              "solidity": 0.2
             }
            },
            "type": "histogram"
           }
          ],
          "histogram2d": [
           {
            "colorbar": {
             "outlinewidth": 0,
             "ticks": ""
            },
            "colorscale": [
             [
              0,
              "#0d0887"
             ],
             [
              0.1111111111111111,
              "#46039f"
             ],
             [
              0.2222222222222222,
              "#7201a8"
             ],
             [
              0.3333333333333333,
              "#9c179e"
             ],
             [
              0.4444444444444444,
              "#bd3786"
             ],
             [
              0.5555555555555556,
              "#d8576b"
             ],
             [
              0.6666666666666666,
              "#ed7953"
             ],
             [
              0.7777777777777778,
              "#fb9f3a"
             ],
             [
              0.8888888888888888,
              "#fdca26"
             ],
             [
              1,
              "#f0f921"
             ]
            ],
            "type": "histogram2d"
           }
          ],
          "histogram2dcontour": [
           {
            "colorbar": {
             "outlinewidth": 0,
             "ticks": ""
            },
            "colorscale": [
             [
              0,
              "#0d0887"
             ],
             [
              0.1111111111111111,
              "#46039f"
             ],
             [
              0.2222222222222222,
              "#7201a8"
             ],
             [
              0.3333333333333333,
              "#9c179e"
             ],
             [
              0.4444444444444444,
              "#bd3786"
             ],
             [
              0.5555555555555556,
              "#d8576b"
             ],
             [
              0.6666666666666666,
              "#ed7953"
             ],
             [
              0.7777777777777778,
              "#fb9f3a"
             ],
             [
              0.8888888888888888,
              "#fdca26"
             ],
             [
              1,
              "#f0f921"
             ]
            ],
            "type": "histogram2dcontour"
           }
          ],
          "mesh3d": [
           {
            "colorbar": {
             "outlinewidth": 0,
             "ticks": ""
            },
            "type": "mesh3d"
           }
          ],
          "parcoords": [
           {
            "line": {
             "colorbar": {
              "outlinewidth": 0,
              "ticks": ""
             }
            },
            "type": "parcoords"
           }
          ],
          "pie": [
           {
            "automargin": true,
            "type": "pie"
           }
          ],
          "scatter": [
           {
            "fillpattern": {
             "fillmode": "overlay",
             "size": 10,
             "solidity": 0.2
            },
            "type": "scatter"
           }
          ],
          "scatter3d": [
           {
            "line": {
             "colorbar": {
              "outlinewidth": 0,
              "ticks": ""
             }
            },
            "marker": {
             "colorbar": {
              "outlinewidth": 0,
              "ticks": ""
             }
            },
            "type": "scatter3d"
           }
          ],
          "scattercarpet": [
           {
            "marker": {
             "colorbar": {
              "outlinewidth": 0,
              "ticks": ""
             }
            },
            "type": "scattercarpet"
           }
          ],
          "scattergeo": [
           {
            "marker": {
             "colorbar": {
              "outlinewidth": 0,
              "ticks": ""
             }
            },
            "type": "scattergeo"
           }
          ],
          "scattergl": [
           {
            "marker": {
             "colorbar": {
              "outlinewidth": 0,
              "ticks": ""
             }
            },
            "type": "scattergl"
           }
          ],
          "scattermapbox": [
           {
            "marker": {
             "colorbar": {
              "outlinewidth": 0,
              "ticks": ""
             }
            },
            "type": "scattermapbox"
           }
          ],
          "scatterpolar": [
           {
            "marker": {
             "colorbar": {
              "outlinewidth": 0,
              "ticks": ""
             }
            },
            "type": "scatterpolar"
           }
          ],
          "scatterpolargl": [
           {
            "marker": {
             "colorbar": {
              "outlinewidth": 0,
              "ticks": ""
             }
            },
            "type": "scatterpolargl"
           }
          ],
          "scatterternary": [
           {
            "marker": {
             "colorbar": {
              "outlinewidth": 0,
              "ticks": ""
             }
            },
            "type": "scatterternary"
           }
          ],
          "surface": [
           {
            "colorbar": {
             "outlinewidth": 0,
             "ticks": ""
            },
            "colorscale": [
             [
              0,
              "#0d0887"
             ],
             [
              0.1111111111111111,
              "#46039f"
             ],
             [
              0.2222222222222222,
              "#7201a8"
             ],
             [
              0.3333333333333333,
              "#9c179e"
             ],
             [
              0.4444444444444444,
              "#bd3786"
             ],
             [
              0.5555555555555556,
              "#d8576b"
             ],
             [
              0.6666666666666666,
              "#ed7953"
             ],
             [
              0.7777777777777778,
              "#fb9f3a"
             ],
             [
              0.8888888888888888,
              "#fdca26"
             ],
             [
              1,
              "#f0f921"
             ]
            ],
            "type": "surface"
           }
          ],
          "table": [
           {
            "cells": {
             "fill": {
              "color": "#EBF0F8"
             },
             "line": {
              "color": "white"
             }
            },
            "header": {
             "fill": {
              "color": "#C8D4E3"
             },
             "line": {
              "color": "white"
             }
            },
            "type": "table"
           }
          ]
         },
         "layout": {
          "annotationdefaults": {
           "arrowcolor": "#2a3f5f",
           "arrowhead": 0,
           "arrowwidth": 1
          },
          "autotypenumbers": "strict",
          "coloraxis": {
           "colorbar": {
            "outlinewidth": 0,
            "ticks": ""
           }
          },
          "colorscale": {
           "diverging": [
            [
             0,
             "#8e0152"
            ],
            [
             0.1,
             "#c51b7d"
            ],
            [
             0.2,
             "#de77ae"
            ],
            [
             0.3,
             "#f1b6da"
            ],
            [
             0.4,
             "#fde0ef"
            ],
            [
             0.5,
             "#f7f7f7"
            ],
            [
             0.6,
             "#e6f5d0"
            ],
            [
             0.7,
             "#b8e186"
            ],
            [
             0.8,
             "#7fbc41"
            ],
            [
             0.9,
             "#4d9221"
            ],
            [
             1,
             "#276419"
            ]
           ],
           "sequential": [
            [
             0,
             "#0d0887"
            ],
            [
             0.1111111111111111,
             "#46039f"
            ],
            [
             0.2222222222222222,
             "#7201a8"
            ],
            [
             0.3333333333333333,
             "#9c179e"
            ],
            [
             0.4444444444444444,
             "#bd3786"
            ],
            [
             0.5555555555555556,
             "#d8576b"
            ],
            [
             0.6666666666666666,
             "#ed7953"
            ],
            [
             0.7777777777777778,
             "#fb9f3a"
            ],
            [
             0.8888888888888888,
             "#fdca26"
            ],
            [
             1,
             "#f0f921"
            ]
           ],
           "sequentialminus": [
            [
             0,
             "#0d0887"
            ],
            [
             0.1111111111111111,
             "#46039f"
            ],
            [
             0.2222222222222222,
             "#7201a8"
            ],
            [
             0.3333333333333333,
             "#9c179e"
            ],
            [
             0.4444444444444444,
             "#bd3786"
            ],
            [
             0.5555555555555556,
             "#d8576b"
            ],
            [
             0.6666666666666666,
             "#ed7953"
            ],
            [
             0.7777777777777778,
             "#fb9f3a"
            ],
            [
             0.8888888888888888,
             "#fdca26"
            ],
            [
             1,
             "#f0f921"
            ]
           ]
          },
          "colorway": [
           "#636efa",
           "#EF553B",
           "#00cc96",
           "#ab63fa",
           "#FFA15A",
           "#19d3f3",
           "#FF6692",
           "#B6E880",
           "#FF97FF",
           "#FECB52"
          ],
          "font": {
           "color": "#2a3f5f"
          },
          "geo": {
           "bgcolor": "white",
           "lakecolor": "white",
           "landcolor": "#E5ECF6",
           "showlakes": true,
           "showland": true,
           "subunitcolor": "white"
          },
          "hoverlabel": {
           "align": "left"
          },
          "hovermode": "closest",
          "mapbox": {
           "style": "light"
          },
          "paper_bgcolor": "white",
          "plot_bgcolor": "#E5ECF6",
          "polar": {
           "angularaxis": {
            "gridcolor": "white",
            "linecolor": "white",
            "ticks": ""
           },
           "bgcolor": "#E5ECF6",
           "radialaxis": {
            "gridcolor": "white",
            "linecolor": "white",
            "ticks": ""
           }
          },
          "scene": {
           "xaxis": {
            "backgroundcolor": "#E5ECF6",
            "gridcolor": "white",
            "gridwidth": 2,
            "linecolor": "white",
            "showbackground": true,
            "ticks": "",
            "zerolinecolor": "white"
           },
           "yaxis": {
            "backgroundcolor": "#E5ECF6",
            "gridcolor": "white",
            "gridwidth": 2,
            "linecolor": "white",
            "showbackground": true,
            "ticks": "",
            "zerolinecolor": "white"
           },
           "zaxis": {
            "backgroundcolor": "#E5ECF6",
            "gridcolor": "white",
            "gridwidth": 2,
            "linecolor": "white",
            "showbackground": true,
            "ticks": "",
            "zerolinecolor": "white"
           }
          },
          "shapedefaults": {
           "line": {
            "color": "#2a3f5f"
           }
          },
          "ternary": {
           "aaxis": {
            "gridcolor": "white",
            "linecolor": "white",
            "ticks": ""
           },
           "baxis": {
            "gridcolor": "white",
            "linecolor": "white",
            "ticks": ""
           },
           "bgcolor": "#E5ECF6",
           "caxis": {
            "gridcolor": "white",
            "linecolor": "white",
            "ticks": ""
           }
          },
          "title": {
           "x": 0.05
          },
          "xaxis": {
           "automargin": true,
           "gridcolor": "white",
           "linecolor": "white",
           "ticks": "",
           "title": {
            "standoff": 15
           },
           "zerolinecolor": "white",
           "zerolinewidth": 2
          },
          "yaxis": {
           "automargin": true,
           "gridcolor": "white",
           "linecolor": "white",
           "ticks": "",
           "title": {
            "standoff": 15
           },
           "zerolinecolor": "white",
           "zerolinewidth": 2
          }
         }
        },
        "title": {
         "text": "Market value of Premier League clubs"
        }
       }
      }
     },
     "metadata": {},
     "output_type": "display_data"
    }
   ],
   "source": [
    "premier_league_clubs = ['Tottenham Hotspur Football Club', 'Association Football Club Bournemouth', 'Liverpool Football Club', 'Brighton and Hove Albion Football Club',\n",
    "                       'Nottingham Forest Football Club', 'Luton Town Football Club', 'Newcastle United Football Club', 'Brentford Football Club', 'Crystal Palace Football Club',\n",
    "                       'West Ham United Football Club', 'Fulham Football Club', 'Manchester United Football Club', 'Burnley Football Club', 'Arsenal Football Club', \n",
    "                        'Manchester City Football Club', 'Aston Villa Football Club', 'Wolverhampton Wanderers Football Club', 'Sheffield United Football Club', \n",
    "                        'Chelsea Football Club', 'Everton Football Club']\n",
    "premier_league_players = players[(players['current_club_name'].isin(premier_league_clubs)) & (players['last_season'] == 2023)]\n",
    "club_value_premier_league = premier_league_players.groupby('current_club_name')['market_value_in_eur'].sum().reset_index()\n",
    "club_value_premier_league.columns = ['Club', 'Squad Market Value (EUR)']\n",
    "club_value_premier_league = club_value_premier_league.sort_values(by='Squad Market Value (EUR)', ascending = False)\n",
    "club_value_premier_league['Market Value'] = club_value_premier_league['Squad Market Value (EUR)'].apply(lambda x: '{:,.2f} EUR'.format(x))\n",
    "fig = go.Figure(data=[go.Pie(labels=club_value_premier_league['Club'], \n",
    "                             values=club_value_premier_league['Squad Market Value (EUR)'])])\n",
    "\n",
    "fig.update_layout(title='Market value of Premier League clubs')\n",
    "\n",
    "fig.show()"
   ]
  },
  {
   "cell_type": "markdown",
   "metadata": {},
   "source": [
    "<h4>Statystyki klubów Serie A</h4>"
   ]
  },
  {
   "cell_type": "code",
   "execution_count": 170,
   "metadata": {},
   "outputs": [
    {
     "data": {
      "application/vnd.plotly.v1+json": {
       "config": {
        "plotlyServerURL": "https://plot.ly"
       },
       "data": [
        {
         "labels": [
          "Football Club Internazionale Milano S.p.A.",
          "Associazione Calcio Milan",
          "Società Sportiva Calcio Napoli",
          "Juventus Football Club",
          "Atalanta Bergamasca Calcio S.p.a.",
          "Associazione Sportiva Roma",
          "Bologna Football Club 1909",
          "Associazione Calcio Fiorentina",
          "Società Sportiva Lazio S.p.A.",
          "Torino Calcio",
          "Unione Sportiva Sassuolo Calcio",
          "Genoa Cricket and Football Club",
          "Udinese Calcio",
          "Associazione Calcio Monza",
          "Frosinone Calcio S.r.l.",
          "Unione Sportiva Lecce",
          "U.S. Salernitana 1919 S.r.l.",
          "Cagliari Calcio",
          "Empoli Football Club S.r.l.",
          "Verona Hellas Football Club"
         ],
         "type": "pie",
         "values": [
          622350000,
          533450000,
          513150000,
          505200000,
          349600000,
          327650000,
          254550000,
          248400000,
          227625000,
          181400000,
          140900000,
          135750000,
          135700000,
          133300000,
          103500000,
          80825000,
          79400000,
          78475000,
          68600000,
          68375000
         ]
        }
       ],
       "layout": {
        "template": {
         "data": {
          "bar": [
           {
            "error_x": {
             "color": "#2a3f5f"
            },
            "error_y": {
             "color": "#2a3f5f"
            },
            "marker": {
             "line": {
              "color": "#E5ECF6",
              "width": 0.5
             },
             "pattern": {
              "fillmode": "overlay",
              "size": 10,
              "solidity": 0.2
             }
            },
            "type": "bar"
           }
          ],
          "barpolar": [
           {
            "marker": {
             "line": {
              "color": "#E5ECF6",
              "width": 0.5
             },
             "pattern": {
              "fillmode": "overlay",
              "size": 10,
              "solidity": 0.2
             }
            },
            "type": "barpolar"
           }
          ],
          "carpet": [
           {
            "aaxis": {
             "endlinecolor": "#2a3f5f",
             "gridcolor": "white",
             "linecolor": "white",
             "minorgridcolor": "white",
             "startlinecolor": "#2a3f5f"
            },
            "baxis": {
             "endlinecolor": "#2a3f5f",
             "gridcolor": "white",
             "linecolor": "white",
             "minorgridcolor": "white",
             "startlinecolor": "#2a3f5f"
            },
            "type": "carpet"
           }
          ],
          "choropleth": [
           {
            "colorbar": {
             "outlinewidth": 0,
             "ticks": ""
            },
            "type": "choropleth"
           }
          ],
          "contour": [
           {
            "colorbar": {
             "outlinewidth": 0,
             "ticks": ""
            },
            "colorscale": [
             [
              0,
              "#0d0887"
             ],
             [
              0.1111111111111111,
              "#46039f"
             ],
             [
              0.2222222222222222,
              "#7201a8"
             ],
             [
              0.3333333333333333,
              "#9c179e"
             ],
             [
              0.4444444444444444,
              "#bd3786"
             ],
             [
              0.5555555555555556,
              "#d8576b"
             ],
             [
              0.6666666666666666,
              "#ed7953"
             ],
             [
              0.7777777777777778,
              "#fb9f3a"
             ],
             [
              0.8888888888888888,
              "#fdca26"
             ],
             [
              1,
              "#f0f921"
             ]
            ],
            "type": "contour"
           }
          ],
          "contourcarpet": [
           {
            "colorbar": {
             "outlinewidth": 0,
             "ticks": ""
            },
            "type": "contourcarpet"
           }
          ],
          "heatmap": [
           {
            "colorbar": {
             "outlinewidth": 0,
             "ticks": ""
            },
            "colorscale": [
             [
              0,
              "#0d0887"
             ],
             [
              0.1111111111111111,
              "#46039f"
             ],
             [
              0.2222222222222222,
              "#7201a8"
             ],
             [
              0.3333333333333333,
              "#9c179e"
             ],
             [
              0.4444444444444444,
              "#bd3786"
             ],
             [
              0.5555555555555556,
              "#d8576b"
             ],
             [
              0.6666666666666666,
              "#ed7953"
             ],
             [
              0.7777777777777778,
              "#fb9f3a"
             ],
             [
              0.8888888888888888,
              "#fdca26"
             ],
             [
              1,
              "#f0f921"
             ]
            ],
            "type": "heatmap"
           }
          ],
          "heatmapgl": [
           {
            "colorbar": {
             "outlinewidth": 0,
             "ticks": ""
            },
            "colorscale": [
             [
              0,
              "#0d0887"
             ],
             [
              0.1111111111111111,
              "#46039f"
             ],
             [
              0.2222222222222222,
              "#7201a8"
             ],
             [
              0.3333333333333333,
              "#9c179e"
             ],
             [
              0.4444444444444444,
              "#bd3786"
             ],
             [
              0.5555555555555556,
              "#d8576b"
             ],
             [
              0.6666666666666666,
              "#ed7953"
             ],
             [
              0.7777777777777778,
              "#fb9f3a"
             ],
             [
              0.8888888888888888,
              "#fdca26"
             ],
             [
              1,
              "#f0f921"
             ]
            ],
            "type": "heatmapgl"
           }
          ],
          "histogram": [
           {
            "marker": {
             "pattern": {
              "fillmode": "overlay",
              "size": 10,
              "solidity": 0.2
             }
            },
            "type": "histogram"
           }
          ],
          "histogram2d": [
           {
            "colorbar": {
             "outlinewidth": 0,
             "ticks": ""
            },
            "colorscale": [
             [
              0,
              "#0d0887"
             ],
             [
              0.1111111111111111,
              "#46039f"
             ],
             [
              0.2222222222222222,
              "#7201a8"
             ],
             [
              0.3333333333333333,
              "#9c179e"
             ],
             [
              0.4444444444444444,
              "#bd3786"
             ],
             [
              0.5555555555555556,
              "#d8576b"
             ],
             [
              0.6666666666666666,
              "#ed7953"
             ],
             [
              0.7777777777777778,
              "#fb9f3a"
             ],
             [
              0.8888888888888888,
              "#fdca26"
             ],
             [
              1,
              "#f0f921"
             ]
            ],
            "type": "histogram2d"
           }
          ],
          "histogram2dcontour": [
           {
            "colorbar": {
             "outlinewidth": 0,
             "ticks": ""
            },
            "colorscale": [
             [
              0,
              "#0d0887"
             ],
             [
              0.1111111111111111,
              "#46039f"
             ],
             [
              0.2222222222222222,
              "#7201a8"
             ],
             [
              0.3333333333333333,
              "#9c179e"
             ],
             [
              0.4444444444444444,
              "#bd3786"
             ],
             [
              0.5555555555555556,
              "#d8576b"
             ],
             [
              0.6666666666666666,
              "#ed7953"
             ],
             [
              0.7777777777777778,
              "#fb9f3a"
             ],
             [
              0.8888888888888888,
              "#fdca26"
             ],
             [
              1,
              "#f0f921"
             ]
            ],
            "type": "histogram2dcontour"
           }
          ],
          "mesh3d": [
           {
            "colorbar": {
             "outlinewidth": 0,
             "ticks": ""
            },
            "type": "mesh3d"
           }
          ],
          "parcoords": [
           {
            "line": {
             "colorbar": {
              "outlinewidth": 0,
              "ticks": ""
             }
            },
            "type": "parcoords"
           }
          ],
          "pie": [
           {
            "automargin": true,
            "type": "pie"
           }
          ],
          "scatter": [
           {
            "fillpattern": {
             "fillmode": "overlay",
             "size": 10,
             "solidity": 0.2
            },
            "type": "scatter"
           }
          ],
          "scatter3d": [
           {
            "line": {
             "colorbar": {
              "outlinewidth": 0,
              "ticks": ""
             }
            },
            "marker": {
             "colorbar": {
              "outlinewidth": 0,
              "ticks": ""
             }
            },
            "type": "scatter3d"
           }
          ],
          "scattercarpet": [
           {
            "marker": {
             "colorbar": {
              "outlinewidth": 0,
              "ticks": ""
             }
            },
            "type": "scattercarpet"
           }
          ],
          "scattergeo": [
           {
            "marker": {
             "colorbar": {
              "outlinewidth": 0,
              "ticks": ""
             }
            },
            "type": "scattergeo"
           }
          ],
          "scattergl": [
           {
            "marker": {
             "colorbar": {
              "outlinewidth": 0,
              "ticks": ""
             }
            },
            "type": "scattergl"
           }
          ],
          "scattermapbox": [
           {
            "marker": {
             "colorbar": {
              "outlinewidth": 0,
              "ticks": ""
             }
            },
            "type": "scattermapbox"
           }
          ],
          "scatterpolar": [
           {
            "marker": {
             "colorbar": {
              "outlinewidth": 0,
              "ticks": ""
             }
            },
            "type": "scatterpolar"
           }
          ],
          "scatterpolargl": [
           {
            "marker": {
             "colorbar": {
              "outlinewidth": 0,
              "ticks": ""
             }
            },
            "type": "scatterpolargl"
           }
          ],
          "scatterternary": [
           {
            "marker": {
             "colorbar": {
              "outlinewidth": 0,
              "ticks": ""
             }
            },
            "type": "scatterternary"
           }
          ],
          "surface": [
           {
            "colorbar": {
             "outlinewidth": 0,
             "ticks": ""
            },
            "colorscale": [
             [
              0,
              "#0d0887"
             ],
             [
              0.1111111111111111,
              "#46039f"
             ],
             [
              0.2222222222222222,
              "#7201a8"
             ],
             [
              0.3333333333333333,
              "#9c179e"
             ],
             [
              0.4444444444444444,
              "#bd3786"
             ],
             [
              0.5555555555555556,
              "#d8576b"
             ],
             [
              0.6666666666666666,
              "#ed7953"
             ],
             [
              0.7777777777777778,
              "#fb9f3a"
             ],
             [
              0.8888888888888888,
              "#fdca26"
             ],
             [
              1,
              "#f0f921"
             ]
            ],
            "type": "surface"
           }
          ],
          "table": [
           {
            "cells": {
             "fill": {
              "color": "#EBF0F8"
             },
             "line": {
              "color": "white"
             }
            },
            "header": {
             "fill": {
              "color": "#C8D4E3"
             },
             "line": {
              "color": "white"
             }
            },
            "type": "table"
           }
          ]
         },
         "layout": {
          "annotationdefaults": {
           "arrowcolor": "#2a3f5f",
           "arrowhead": 0,
           "arrowwidth": 1
          },
          "autotypenumbers": "strict",
          "coloraxis": {
           "colorbar": {
            "outlinewidth": 0,
            "ticks": ""
           }
          },
          "colorscale": {
           "diverging": [
            [
             0,
             "#8e0152"
            ],
            [
             0.1,
             "#c51b7d"
            ],
            [
             0.2,
             "#de77ae"
            ],
            [
             0.3,
             "#f1b6da"
            ],
            [
             0.4,
             "#fde0ef"
            ],
            [
             0.5,
             "#f7f7f7"
            ],
            [
             0.6,
             "#e6f5d0"
            ],
            [
             0.7,
             "#b8e186"
            ],
            [
             0.8,
             "#7fbc41"
            ],
            [
             0.9,
             "#4d9221"
            ],
            [
             1,
             "#276419"
            ]
           ],
           "sequential": [
            [
             0,
             "#0d0887"
            ],
            [
             0.1111111111111111,
             "#46039f"
            ],
            [
             0.2222222222222222,
             "#7201a8"
            ],
            [
             0.3333333333333333,
             "#9c179e"
            ],
            [
             0.4444444444444444,
             "#bd3786"
            ],
            [
             0.5555555555555556,
             "#d8576b"
            ],
            [
             0.6666666666666666,
             "#ed7953"
            ],
            [
             0.7777777777777778,
             "#fb9f3a"
            ],
            [
             0.8888888888888888,
             "#fdca26"
            ],
            [
             1,
             "#f0f921"
            ]
           ],
           "sequentialminus": [
            [
             0,
             "#0d0887"
            ],
            [
             0.1111111111111111,
             "#46039f"
            ],
            [
             0.2222222222222222,
             "#7201a8"
            ],
            [
             0.3333333333333333,
             "#9c179e"
            ],
            [
             0.4444444444444444,
             "#bd3786"
            ],
            [
             0.5555555555555556,
             "#d8576b"
            ],
            [
             0.6666666666666666,
             "#ed7953"
            ],
            [
             0.7777777777777778,
             "#fb9f3a"
            ],
            [
             0.8888888888888888,
             "#fdca26"
            ],
            [
             1,
             "#f0f921"
            ]
           ]
          },
          "colorway": [
           "#636efa",
           "#EF553B",
           "#00cc96",
           "#ab63fa",
           "#FFA15A",
           "#19d3f3",
           "#FF6692",
           "#B6E880",
           "#FF97FF",
           "#FECB52"
          ],
          "font": {
           "color": "#2a3f5f"
          },
          "geo": {
           "bgcolor": "white",
           "lakecolor": "white",
           "landcolor": "#E5ECF6",
           "showlakes": true,
           "showland": true,
           "subunitcolor": "white"
          },
          "hoverlabel": {
           "align": "left"
          },
          "hovermode": "closest",
          "mapbox": {
           "style": "light"
          },
          "paper_bgcolor": "white",
          "plot_bgcolor": "#E5ECF6",
          "polar": {
           "angularaxis": {
            "gridcolor": "white",
            "linecolor": "white",
            "ticks": ""
           },
           "bgcolor": "#E5ECF6",
           "radialaxis": {
            "gridcolor": "white",
            "linecolor": "white",
            "ticks": ""
           }
          },
          "scene": {
           "xaxis": {
            "backgroundcolor": "#E5ECF6",
            "gridcolor": "white",
            "gridwidth": 2,
            "linecolor": "white",
            "showbackground": true,
            "ticks": "",
            "zerolinecolor": "white"
           },
           "yaxis": {
            "backgroundcolor": "#E5ECF6",
            "gridcolor": "white",
            "gridwidth": 2,
            "linecolor": "white",
            "showbackground": true,
            "ticks": "",
            "zerolinecolor": "white"
           },
           "zaxis": {
            "backgroundcolor": "#E5ECF6",
            "gridcolor": "white",
            "gridwidth": 2,
            "linecolor": "white",
            "showbackground": true,
            "ticks": "",
            "zerolinecolor": "white"
           }
          },
          "shapedefaults": {
           "line": {
            "color": "#2a3f5f"
           }
          },
          "ternary": {
           "aaxis": {
            "gridcolor": "white",
            "linecolor": "white",
            "ticks": ""
           },
           "baxis": {
            "gridcolor": "white",
            "linecolor": "white",
            "ticks": ""
           },
           "bgcolor": "#E5ECF6",
           "caxis": {
            "gridcolor": "white",
            "linecolor": "white",
            "ticks": ""
           }
          },
          "title": {
           "x": 0.05
          },
          "xaxis": {
           "automargin": true,
           "gridcolor": "white",
           "linecolor": "white",
           "ticks": "",
           "title": {
            "standoff": 15
           },
           "zerolinecolor": "white",
           "zerolinewidth": 2
          },
          "yaxis": {
           "automargin": true,
           "gridcolor": "white",
           "linecolor": "white",
           "ticks": "",
           "title": {
            "standoff": 15
           },
           "zerolinecolor": "white",
           "zerolinewidth": 2
          }
         }
        },
        "title": {
         "text": "Market value of Serie A clubs"
        }
       }
      }
     },
     "metadata": {},
     "output_type": "display_data"
    }
   ],
   "source": [
    "serie_a_clubs = [\"Associazione Sportiva Roma\", \"Bologna Football Club 1909\", \"Udinese Calcio\", \"Football Club Internazionale Milano S.p.A.\", \"Società Sportiva Calcio Napoli\",\n",
    "                 \"Verona Hellas Football Club\", \"U.S. Salernitana 1919 S.r.l.\", \"Juventus Football Club\", \"Associazione Calcio Monza\", \"Società Sportiva Lazio S.p.A.\",\n",
    "                 \"Unione Sportiva Sassuolo Calcio\", \"Cagliari Calcio\", \"Associazione Calcio Fiorentina\", \"Associazione Calcio Milan\", \"Genoa Cricket and Football Club\",\n",
    "                 \"Frosinone Calcio S.r.l.\", \"Unione Sportiva Lecce\", \"Torino Calcio\", \"Empoli Football Club S.r.l.\", \"Atalanta Bergamasca Calcio S.p.a.\"]\n",
    "serie_a_players = players[(players['current_club_name'].isin(serie_a_clubs)) & (players['last_season'] == 2023)]\n",
    "club_value_serie_a = serie_a_players.groupby('current_club_name')['market_value_in_eur'].sum().reset_index()\n",
    "club_value_serie_a.columns = ['Club', 'Squad Market Value (EUR)']\n",
    "club_value_serie_a = club_value_serie_a.sort_values(by='Squad Market Value (EUR)', ascending = False)\n",
    "club_value_serie_a['Market Value'] = club_value_serie_a['Squad Market Value (EUR)'].apply(lambda x: '{:,.2f} EUR'.format(x))\n",
    "fig = go.Figure(data=[go.Pie(labels=club_value_serie_a['Club'], \n",
    "                             values=club_value_serie_a['Squad Market Value (EUR)'])])\n",
    "\n",
    "fig.update_layout(title='Market value of Serie A clubs')\n",
    "\n",
    "fig.show()"
   ]
  },
  {
   "cell_type": "markdown",
   "metadata": {},
   "source": [
    "<h4>Statystyki klubów La Liga "
   ]
  },
  {
   "cell_type": "code",
   "execution_count": 171,
   "metadata": {},
   "outputs": [
    {
     "data": {
      "application/vnd.plotly.v1+json": {
       "config": {
        "plotlyServerURL": "https://plot.ly"
       },
       "data": [
        {
         "labels": [
          "Real Madrid Club de Fútbol",
          "Futbol Club Barcelona",
          "Real Sociedad de Fútbol S.A.D.",
          "Club Atlético de Madrid S.A.D.",
          "Athletic Club Bilbao",
          "Girona Fútbol Club S. A. D.",
          "Valencia Club de Fútbol S. A. D.",
          "Villarreal Club de Fútbol S.A.D.",
          "Sevilla Fútbol Club S.A.D.",
          "Real Betis Balompié S.A.D.",
          "Real Club Celta de Vigo S. A. D.",
          "Club Atlético Osasuna",
          "Deportivo Alavés S.A.D.",
          "Unión Deportiva Las Palmas S.A.D.",
          "Getafe Club de Fútbol S.A.D. Team Dubai",
          "Granada Club de Fútbol S.A.D.",
          "Real Club Deportivo Mallorca S.A.D.",
          "Unión Deportiva Almería S.A.D.",
          "Rayo Vallecano de Madrid S.A.D.",
          "Cádiz Club de Fútbol S.A.D"
         ],
         "type": "pie",
         "values": [
          1037000000,
          839500000,
          480600000,
          417800000,
          261600000,
          246800000,
          215950000,
          213700000,
          212000000,
          198500000,
          112100000,
          99300000,
          97200000,
          96600000,
          95600000,
          87500000,
          87100000,
          72800000,
          68600000,
          62100000
         ]
        }
       ],
       "layout": {
        "template": {
         "data": {
          "bar": [
           {
            "error_x": {
             "color": "#2a3f5f"
            },
            "error_y": {
             "color": "#2a3f5f"
            },
            "marker": {
             "line": {
              "color": "#E5ECF6",
              "width": 0.5
             },
             "pattern": {
              "fillmode": "overlay",
              "size": 10,
              "solidity": 0.2
             }
            },
            "type": "bar"
           }
          ],
          "barpolar": [
           {
            "marker": {
             "line": {
              "color": "#E5ECF6",
              "width": 0.5
             },
             "pattern": {
              "fillmode": "overlay",
              "size": 10,
              "solidity": 0.2
             }
            },
            "type": "barpolar"
           }
          ],
          "carpet": [
           {
            "aaxis": {
             "endlinecolor": "#2a3f5f",
             "gridcolor": "white",
             "linecolor": "white",
             "minorgridcolor": "white",
             "startlinecolor": "#2a3f5f"
            },
            "baxis": {
             "endlinecolor": "#2a3f5f",
             "gridcolor": "white",
             "linecolor": "white",
             "minorgridcolor": "white",
             "startlinecolor": "#2a3f5f"
            },
            "type": "carpet"
           }
          ],
          "choropleth": [
           {
            "colorbar": {
             "outlinewidth": 0,
             "ticks": ""
            },
            "type": "choropleth"
           }
          ],
          "contour": [
           {
            "colorbar": {
             "outlinewidth": 0,
             "ticks": ""
            },
            "colorscale": [
             [
              0,
              "#0d0887"
             ],
             [
              0.1111111111111111,
              "#46039f"
             ],
             [
              0.2222222222222222,
              "#7201a8"
             ],
             [
              0.3333333333333333,
              "#9c179e"
             ],
             [
              0.4444444444444444,
              "#bd3786"
             ],
             [
              0.5555555555555556,
              "#d8576b"
             ],
             [
              0.6666666666666666,
              "#ed7953"
             ],
             [
              0.7777777777777778,
              "#fb9f3a"
             ],
             [
              0.8888888888888888,
              "#fdca26"
             ],
             [
              1,
              "#f0f921"
             ]
            ],
            "type": "contour"
           }
          ],
          "contourcarpet": [
           {
            "colorbar": {
             "outlinewidth": 0,
             "ticks": ""
            },
            "type": "contourcarpet"
           }
          ],
          "heatmap": [
           {
            "colorbar": {
             "outlinewidth": 0,
             "ticks": ""
            },
            "colorscale": [
             [
              0,
              "#0d0887"
             ],
             [
              0.1111111111111111,
              "#46039f"
             ],
             [
              0.2222222222222222,
              "#7201a8"
             ],
             [
              0.3333333333333333,
              "#9c179e"
             ],
             [
              0.4444444444444444,
              "#bd3786"
             ],
             [
              0.5555555555555556,
              "#d8576b"
             ],
             [
              0.6666666666666666,
              "#ed7953"
             ],
             [
              0.7777777777777778,
              "#fb9f3a"
             ],
             [
              0.8888888888888888,
              "#fdca26"
             ],
             [
              1,
              "#f0f921"
             ]
            ],
            "type": "heatmap"
           }
          ],
          "heatmapgl": [
           {
            "colorbar": {
             "outlinewidth": 0,
             "ticks": ""
            },
            "colorscale": [
             [
              0,
              "#0d0887"
             ],
             [
              0.1111111111111111,
              "#46039f"
             ],
             [
              0.2222222222222222,
              "#7201a8"
             ],
             [
              0.3333333333333333,
              "#9c179e"
             ],
             [
              0.4444444444444444,
              "#bd3786"
             ],
             [
              0.5555555555555556,
              "#d8576b"
             ],
             [
              0.6666666666666666,
              "#ed7953"
             ],
             [
              0.7777777777777778,
              "#fb9f3a"
             ],
             [
              0.8888888888888888,
              "#fdca26"
             ],
             [
              1,
              "#f0f921"
             ]
            ],
            "type": "heatmapgl"
           }
          ],
          "histogram": [
           {
            "marker": {
             "pattern": {
              "fillmode": "overlay",
              "size": 10,
              "solidity": 0.2
             }
            },
            "type": "histogram"
           }
          ],
          "histogram2d": [
           {
            "colorbar": {
             "outlinewidth": 0,
             "ticks": ""
            },
            "colorscale": [
             [
              0,
              "#0d0887"
             ],
             [
              0.1111111111111111,
              "#46039f"
             ],
             [
              0.2222222222222222,
              "#7201a8"
             ],
             [
              0.3333333333333333,
              "#9c179e"
             ],
             [
              0.4444444444444444,
              "#bd3786"
             ],
             [
              0.5555555555555556,
              "#d8576b"
             ],
             [
              0.6666666666666666,
              "#ed7953"
             ],
             [
              0.7777777777777778,
              "#fb9f3a"
             ],
             [
              0.8888888888888888,
              "#fdca26"
             ],
             [
              1,
              "#f0f921"
             ]
            ],
            "type": "histogram2d"
           }
          ],
          "histogram2dcontour": [
           {
            "colorbar": {
             "outlinewidth": 0,
             "ticks": ""
            },
            "colorscale": [
             [
              0,
              "#0d0887"
             ],
             [
              0.1111111111111111,
              "#46039f"
             ],
             [
              0.2222222222222222,
              "#7201a8"
             ],
             [
              0.3333333333333333,
              "#9c179e"
             ],
             [
              0.4444444444444444,
              "#bd3786"
             ],
             [
              0.5555555555555556,
              "#d8576b"
             ],
             [
              0.6666666666666666,
              "#ed7953"
             ],
             [
              0.7777777777777778,
              "#fb9f3a"
             ],
             [
              0.8888888888888888,
              "#fdca26"
             ],
             [
              1,
              "#f0f921"
             ]
            ],
            "type": "histogram2dcontour"
           }
          ],
          "mesh3d": [
           {
            "colorbar": {
             "outlinewidth": 0,
             "ticks": ""
            },
            "type": "mesh3d"
           }
          ],
          "parcoords": [
           {
            "line": {
             "colorbar": {
              "outlinewidth": 0,
              "ticks": ""
             }
            },
            "type": "parcoords"
           }
          ],
          "pie": [
           {
            "automargin": true,
            "type": "pie"
           }
          ],
          "scatter": [
           {
            "fillpattern": {
             "fillmode": "overlay",
             "size": 10,
             "solidity": 0.2
            },
            "type": "scatter"
           }
          ],
          "scatter3d": [
           {
            "line": {
             "colorbar": {
              "outlinewidth": 0,
              "ticks": ""
             }
            },
            "marker": {
             "colorbar": {
              "outlinewidth": 0,
              "ticks": ""
             }
            },
            "type": "scatter3d"
           }
          ],
          "scattercarpet": [
           {
            "marker": {
             "colorbar": {
              "outlinewidth": 0,
              "ticks": ""
             }
            },
            "type": "scattercarpet"
           }
          ],
          "scattergeo": [
           {
            "marker": {
             "colorbar": {
              "outlinewidth": 0,
              "ticks": ""
             }
            },
            "type": "scattergeo"
           }
          ],
          "scattergl": [
           {
            "marker": {
             "colorbar": {
              "outlinewidth": 0,
              "ticks": ""
             }
            },
            "type": "scattergl"
           }
          ],
          "scattermapbox": [
           {
            "marker": {
             "colorbar": {
              "outlinewidth": 0,
              "ticks": ""
             }
            },
            "type": "scattermapbox"
           }
          ],
          "scatterpolar": [
           {
            "marker": {
             "colorbar": {
              "outlinewidth": 0,
              "ticks": ""
             }
            },
            "type": "scatterpolar"
           }
          ],
          "scatterpolargl": [
           {
            "marker": {
             "colorbar": {
              "outlinewidth": 0,
              "ticks": ""
             }
            },
            "type": "scatterpolargl"
           }
          ],
          "scatterternary": [
           {
            "marker": {
             "colorbar": {
              "outlinewidth": 0,
              "ticks": ""
             }
            },
            "type": "scatterternary"
           }
          ],
          "surface": [
           {
            "colorbar": {
             "outlinewidth": 0,
             "ticks": ""
            },
            "colorscale": [
             [
              0,
              "#0d0887"
             ],
             [
              0.1111111111111111,
              "#46039f"
             ],
             [
              0.2222222222222222,
              "#7201a8"
             ],
             [
              0.3333333333333333,
              "#9c179e"
             ],
             [
              0.4444444444444444,
              "#bd3786"
             ],
             [
              0.5555555555555556,
              "#d8576b"
             ],
             [
              0.6666666666666666,
              "#ed7953"
             ],
             [
              0.7777777777777778,
              "#fb9f3a"
             ],
             [
              0.8888888888888888,
              "#fdca26"
             ],
             [
              1,
              "#f0f921"
             ]
            ],
            "type": "surface"
           }
          ],
          "table": [
           {
            "cells": {
             "fill": {
              "color": "#EBF0F8"
             },
             "line": {
              "color": "white"
             }
            },
            "header": {
             "fill": {
              "color": "#C8D4E3"
             },
             "line": {
              "color": "white"
             }
            },
            "type": "table"
           }
          ]
         },
         "layout": {
          "annotationdefaults": {
           "arrowcolor": "#2a3f5f",
           "arrowhead": 0,
           "arrowwidth": 1
          },
          "autotypenumbers": "strict",
          "coloraxis": {
           "colorbar": {
            "outlinewidth": 0,
            "ticks": ""
           }
          },
          "colorscale": {
           "diverging": [
            [
             0,
             "#8e0152"
            ],
            [
             0.1,
             "#c51b7d"
            ],
            [
             0.2,
             "#de77ae"
            ],
            [
             0.3,
             "#f1b6da"
            ],
            [
             0.4,
             "#fde0ef"
            ],
            [
             0.5,
             "#f7f7f7"
            ],
            [
             0.6,
             "#e6f5d0"
            ],
            [
             0.7,
             "#b8e186"
            ],
            [
             0.8,
             "#7fbc41"
            ],
            [
             0.9,
             "#4d9221"
            ],
            [
             1,
             "#276419"
            ]
           ],
           "sequential": [
            [
             0,
             "#0d0887"
            ],
            [
             0.1111111111111111,
             "#46039f"
            ],
            [
             0.2222222222222222,
             "#7201a8"
            ],
            [
             0.3333333333333333,
             "#9c179e"
            ],
            [
             0.4444444444444444,
             "#bd3786"
            ],
            [
             0.5555555555555556,
             "#d8576b"
            ],
            [
             0.6666666666666666,
             "#ed7953"
            ],
            [
             0.7777777777777778,
             "#fb9f3a"
            ],
            [
             0.8888888888888888,
             "#fdca26"
            ],
            [
             1,
             "#f0f921"
            ]
           ],
           "sequentialminus": [
            [
             0,
             "#0d0887"
            ],
            [
             0.1111111111111111,
             "#46039f"
            ],
            [
             0.2222222222222222,
             "#7201a8"
            ],
            [
             0.3333333333333333,
             "#9c179e"
            ],
            [
             0.4444444444444444,
             "#bd3786"
            ],
            [
             0.5555555555555556,
             "#d8576b"
            ],
            [
             0.6666666666666666,
             "#ed7953"
            ],
            [
             0.7777777777777778,
             "#fb9f3a"
            ],
            [
             0.8888888888888888,
             "#fdca26"
            ],
            [
             1,
             "#f0f921"
            ]
           ]
          },
          "colorway": [
           "#636efa",
           "#EF553B",
           "#00cc96",
           "#ab63fa",
           "#FFA15A",
           "#19d3f3",
           "#FF6692",
           "#B6E880",
           "#FF97FF",
           "#FECB52"
          ],
          "font": {
           "color": "#2a3f5f"
          },
          "geo": {
           "bgcolor": "white",
           "lakecolor": "white",
           "landcolor": "#E5ECF6",
           "showlakes": true,
           "showland": true,
           "subunitcolor": "white"
          },
          "hoverlabel": {
           "align": "left"
          },
          "hovermode": "closest",
          "mapbox": {
           "style": "light"
          },
          "paper_bgcolor": "white",
          "plot_bgcolor": "#E5ECF6",
          "polar": {
           "angularaxis": {
            "gridcolor": "white",
            "linecolor": "white",
            "ticks": ""
           },
           "bgcolor": "#E5ECF6",
           "radialaxis": {
            "gridcolor": "white",
            "linecolor": "white",
            "ticks": ""
           }
          },
          "scene": {
           "xaxis": {
            "backgroundcolor": "#E5ECF6",
            "gridcolor": "white",
            "gridwidth": 2,
            "linecolor": "white",
            "showbackground": true,
            "ticks": "",
            "zerolinecolor": "white"
           },
           "yaxis": {
            "backgroundcolor": "#E5ECF6",
            "gridcolor": "white",
            "gridwidth": 2,
            "linecolor": "white",
            "showbackground": true,
            "ticks": "",
            "zerolinecolor": "white"
           },
           "zaxis": {
            "backgroundcolor": "#E5ECF6",
            "gridcolor": "white",
            "gridwidth": 2,
            "linecolor": "white",
            "showbackground": true,
            "ticks": "",
            "zerolinecolor": "white"
           }
          },
          "shapedefaults": {
           "line": {
            "color": "#2a3f5f"
           }
          },
          "ternary": {
           "aaxis": {
            "gridcolor": "white",
            "linecolor": "white",
            "ticks": ""
           },
           "baxis": {
            "gridcolor": "white",
            "linecolor": "white",
            "ticks": ""
           },
           "bgcolor": "#E5ECF6",
           "caxis": {
            "gridcolor": "white",
            "linecolor": "white",
            "ticks": ""
           }
          },
          "title": {
           "x": 0.05
          },
          "xaxis": {
           "automargin": true,
           "gridcolor": "white",
           "linecolor": "white",
           "ticks": "",
           "title": {
            "standoff": 15
           },
           "zerolinecolor": "white",
           "zerolinewidth": 2
          },
          "yaxis": {
           "automargin": true,
           "gridcolor": "white",
           "linecolor": "white",
           "ticks": "",
           "title": {
            "standoff": 15
           },
           "zerolinecolor": "white",
           "zerolinewidth": 2
          }
         }
        },
        "title": {
         "text": "Market value of La Liga clubs"
        }
       }
      }
     },
     "metadata": {},
     "output_type": "display_data"
    }
   ],
   "source": [
    "la_liga_clubs = ['Deportivo Alavés S.A.D.', 'Club Atlético de Madrid S.A.D.', 'Futbol Club Barcelona', 'Villarreal Club de Fútbol S.A.D.', 'Villarreal Club de Fútbol S.A.D.',\n",
    "                'Club Atlético Osasuna', 'Getafe Club de Fútbol S.A.D. Team Dubai', 'Real Club Deportivo Mallorca S.A.D.', 'Real Sociedad de Fútbol S.A.D.', 'Rayo Vallecano de Madrid S.A.D.',\n",
    "                'Athletic Club Bilbao', 'Real Betis Balompié S.A.D.', 'Cádiz Club de Fútbol S.A.D', 'Real Madrid Club de Fútbol', 'Real Club Celta de Vigo S. A. D.', 'Granada Club de Fútbol S.A.D.',\n",
    "                'Unión Deportiva Almería S.A.D.', 'Girona Fútbol Club S. A. D.', 'Unión Deportiva Las Palmas S.A.D.', 'Sevilla Fútbol Club S.A.D.', 'Valencia Club de Fútbol S. A. D.']\n",
    "la_liga_players = players[(players['current_club_name'].isin(la_liga_clubs)) & (players['last_season'] == 2023)]\n",
    "club_value_la_liga = la_liga_players.groupby('current_club_name')['market_value_in_eur'].sum().reset_index()\n",
    "club_value_la_liga.columns = ['Club', 'Squad Market Value (EUR)']\n",
    "club_value_la_liga = club_value_la_liga.sort_values(by='Squad Market Value (EUR)', ascending = False)\n",
    "club_value_la_liga['Market Value'] = club_value_la_liga['Squad Market Value (EUR)'].apply(lambda x: '{:,.2f} EUR'.format(x))\n",
    "fig = go.Figure(data=[go.Pie(labels=club_value_la_liga['Club'], \n",
    "                             values=club_value_la_liga['Squad Market Value (EUR)'])])\n",
    "\n",
    "fig.update_layout(title='Market value of La Liga clubs')\n",
    "\n",
    "fig.show()"
   ]
  },
  {
   "cell_type": "markdown",
   "metadata": {},
   "source": [
    "<h4>Statystyki klubów Bundesligi</h4>"
   ]
  },
  {
   "cell_type": "code",
   "execution_count": 172,
   "metadata": {},
   "outputs": [
    {
     "data": {
      "application/vnd.plotly.v1+json": {
       "config": {
        "plotlyServerURL": "https://plot.ly"
       },
       "data": [
        {
         "labels": [
          "FC Bayern München",
          "Bayer 04 Leverkusen Fußball",
          "RasenBallsport Leipzig",
          "Borussia Dortmund",
          "Verein für Bewegungsspiele Stuttgart 1893",
          "Eintracht Frankfurt Fußball AG",
          "Verein für Leibesübungen Wolfsburg",
          "Sport-Club Freiburg",
          "Borussia Verein für Leibesübungen 1900 Mönchengladbach",
          "1. FC Union Berlin",
          "TSG 1899 Hoffenheim Fußball-Spielbetriebs GmbH",
          "FC Augsburg 1907",
          "1. Fußball- und Sportverein Mainz 05",
          "Sportverein Werder Bremen von 1899",
          "1. Fußball-Club Köln",
          "Sportverein Darmstadt 1898 e. V."
         ],
         "type": "pie",
         "values": [
          929450000,
          594550000,
          496900000,
          463700000,
          277900000,
          240850000,
          226200000,
          188650000,
          185225000,
          144650000,
          144350000,
          122550000,
          102850000,
          97600000,
          93550000,
          40850000
         ]
        }
       ],
       "layout": {
        "template": {
         "data": {
          "bar": [
           {
            "error_x": {
             "color": "#2a3f5f"
            },
            "error_y": {
             "color": "#2a3f5f"
            },
            "marker": {
             "line": {
              "color": "#E5ECF6",
              "width": 0.5
             },
             "pattern": {
              "fillmode": "overlay",
              "size": 10,
              "solidity": 0.2
             }
            },
            "type": "bar"
           }
          ],
          "barpolar": [
           {
            "marker": {
             "line": {
              "color": "#E5ECF6",
              "width": 0.5
             },
             "pattern": {
              "fillmode": "overlay",
              "size": 10,
              "solidity": 0.2
             }
            },
            "type": "barpolar"
           }
          ],
          "carpet": [
           {
            "aaxis": {
             "endlinecolor": "#2a3f5f",
             "gridcolor": "white",
             "linecolor": "white",
             "minorgridcolor": "white",
             "startlinecolor": "#2a3f5f"
            },
            "baxis": {
             "endlinecolor": "#2a3f5f",
             "gridcolor": "white",
             "linecolor": "white",
             "minorgridcolor": "white",
             "startlinecolor": "#2a3f5f"
            },
            "type": "carpet"
           }
          ],
          "choropleth": [
           {
            "colorbar": {
             "outlinewidth": 0,
             "ticks": ""
            },
            "type": "choropleth"
           }
          ],
          "contour": [
           {
            "colorbar": {
             "outlinewidth": 0,
             "ticks": ""
            },
            "colorscale": [
             [
              0,
              "#0d0887"
             ],
             [
              0.1111111111111111,
              "#46039f"
             ],
             [
              0.2222222222222222,
              "#7201a8"
             ],
             [
              0.3333333333333333,
              "#9c179e"
             ],
             [
              0.4444444444444444,
              "#bd3786"
             ],
             [
              0.5555555555555556,
              "#d8576b"
             ],
             [
              0.6666666666666666,
              "#ed7953"
             ],
             [
              0.7777777777777778,
              "#fb9f3a"
             ],
             [
              0.8888888888888888,
              "#fdca26"
             ],
             [
              1,
              "#f0f921"
             ]
            ],
            "type": "contour"
           }
          ],
          "contourcarpet": [
           {
            "colorbar": {
             "outlinewidth": 0,
             "ticks": ""
            },
            "type": "contourcarpet"
           }
          ],
          "heatmap": [
           {
            "colorbar": {
             "outlinewidth": 0,
             "ticks": ""
            },
            "colorscale": [
             [
              0,
              "#0d0887"
             ],
             [
              0.1111111111111111,
              "#46039f"
             ],
             [
              0.2222222222222222,
              "#7201a8"
             ],
             [
              0.3333333333333333,
              "#9c179e"
             ],
             [
              0.4444444444444444,
              "#bd3786"
             ],
             [
              0.5555555555555556,
              "#d8576b"
             ],
             [
              0.6666666666666666,
              "#ed7953"
             ],
             [
              0.7777777777777778,
              "#fb9f3a"
             ],
             [
              0.8888888888888888,
              "#fdca26"
             ],
             [
              1,
              "#f0f921"
             ]
            ],
            "type": "heatmap"
           }
          ],
          "heatmapgl": [
           {
            "colorbar": {
             "outlinewidth": 0,
             "ticks": ""
            },
            "colorscale": [
             [
              0,
              "#0d0887"
             ],
             [
              0.1111111111111111,
              "#46039f"
             ],
             [
              0.2222222222222222,
              "#7201a8"
             ],
             [
              0.3333333333333333,
              "#9c179e"
             ],
             [
              0.4444444444444444,
              "#bd3786"
             ],
             [
              0.5555555555555556,
              "#d8576b"
             ],
             [
              0.6666666666666666,
              "#ed7953"
             ],
             [
              0.7777777777777778,
              "#fb9f3a"
             ],
             [
              0.8888888888888888,
              "#fdca26"
             ],
             [
              1,
              "#f0f921"
             ]
            ],
            "type": "heatmapgl"
           }
          ],
          "histogram": [
           {
            "marker": {
             "pattern": {
              "fillmode": "overlay",
              "size": 10,
              "solidity": 0.2
             }
            },
            "type": "histogram"
           }
          ],
          "histogram2d": [
           {
            "colorbar": {
             "outlinewidth": 0,
             "ticks": ""
            },
            "colorscale": [
             [
              0,
              "#0d0887"
             ],
             [
              0.1111111111111111,
              "#46039f"
             ],
             [
              0.2222222222222222,
              "#7201a8"
             ],
             [
              0.3333333333333333,
              "#9c179e"
             ],
             [
              0.4444444444444444,
              "#bd3786"
             ],
             [
              0.5555555555555556,
              "#d8576b"
             ],
             [
              0.6666666666666666,
              "#ed7953"
             ],
             [
              0.7777777777777778,
              "#fb9f3a"
             ],
             [
              0.8888888888888888,
              "#fdca26"
             ],
             [
              1,
              "#f0f921"
             ]
            ],
            "type": "histogram2d"
           }
          ],
          "histogram2dcontour": [
           {
            "colorbar": {
             "outlinewidth": 0,
             "ticks": ""
            },
            "colorscale": [
             [
              0,
              "#0d0887"
             ],
             [
              0.1111111111111111,
              "#46039f"
             ],
             [
              0.2222222222222222,
              "#7201a8"
             ],
             [
              0.3333333333333333,
              "#9c179e"
             ],
             [
              0.4444444444444444,
              "#bd3786"
             ],
             [
              0.5555555555555556,
              "#d8576b"
             ],
             [
              0.6666666666666666,
              "#ed7953"
             ],
             [
              0.7777777777777778,
              "#fb9f3a"
             ],
             [
              0.8888888888888888,
              "#fdca26"
             ],
             [
              1,
              "#f0f921"
             ]
            ],
            "type": "histogram2dcontour"
           }
          ],
          "mesh3d": [
           {
            "colorbar": {
             "outlinewidth": 0,
             "ticks": ""
            },
            "type": "mesh3d"
           }
          ],
          "parcoords": [
           {
            "line": {
             "colorbar": {
              "outlinewidth": 0,
              "ticks": ""
             }
            },
            "type": "parcoords"
           }
          ],
          "pie": [
           {
            "automargin": true,
            "type": "pie"
           }
          ],
          "scatter": [
           {
            "fillpattern": {
             "fillmode": "overlay",
             "size": 10,
             "solidity": 0.2
            },
            "type": "scatter"
           }
          ],
          "scatter3d": [
           {
            "line": {
             "colorbar": {
              "outlinewidth": 0,
              "ticks": ""
             }
            },
            "marker": {
             "colorbar": {
              "outlinewidth": 0,
              "ticks": ""
             }
            },
            "type": "scatter3d"
           }
          ],
          "scattercarpet": [
           {
            "marker": {
             "colorbar": {
              "outlinewidth": 0,
              "ticks": ""
             }
            },
            "type": "scattercarpet"
           }
          ],
          "scattergeo": [
           {
            "marker": {
             "colorbar": {
              "outlinewidth": 0,
              "ticks": ""
             }
            },
            "type": "scattergeo"
           }
          ],
          "scattergl": [
           {
            "marker": {
             "colorbar": {
              "outlinewidth": 0,
              "ticks": ""
             }
            },
            "type": "scattergl"
           }
          ],
          "scattermapbox": [
           {
            "marker": {
             "colorbar": {
              "outlinewidth": 0,
              "ticks": ""
             }
            },
            "type": "scattermapbox"
           }
          ],
          "scatterpolar": [
           {
            "marker": {
             "colorbar": {
              "outlinewidth": 0,
              "ticks": ""
             }
            },
            "type": "scatterpolar"
           }
          ],
          "scatterpolargl": [
           {
            "marker": {
             "colorbar": {
              "outlinewidth": 0,
              "ticks": ""
             }
            },
            "type": "scatterpolargl"
           }
          ],
          "scatterternary": [
           {
            "marker": {
             "colorbar": {
              "outlinewidth": 0,
              "ticks": ""
             }
            },
            "type": "scatterternary"
           }
          ],
          "surface": [
           {
            "colorbar": {
             "outlinewidth": 0,
             "ticks": ""
            },
            "colorscale": [
             [
              0,
              "#0d0887"
             ],
             [
              0.1111111111111111,
              "#46039f"
             ],
             [
              0.2222222222222222,
              "#7201a8"
             ],
             [
              0.3333333333333333,
              "#9c179e"
             ],
             [
              0.4444444444444444,
              "#bd3786"
             ],
             [
              0.5555555555555556,
              "#d8576b"
             ],
             [
              0.6666666666666666,
              "#ed7953"
             ],
             [
              0.7777777777777778,
              "#fb9f3a"
             ],
             [
              0.8888888888888888,
              "#fdca26"
             ],
             [
              1,
              "#f0f921"
             ]
            ],
            "type": "surface"
           }
          ],
          "table": [
           {
            "cells": {
             "fill": {
              "color": "#EBF0F8"
             },
             "line": {
              "color": "white"
             }
            },
            "header": {
             "fill": {
              "color": "#C8D4E3"
             },
             "line": {
              "color": "white"
             }
            },
            "type": "table"
           }
          ]
         },
         "layout": {
          "annotationdefaults": {
           "arrowcolor": "#2a3f5f",
           "arrowhead": 0,
           "arrowwidth": 1
          },
          "autotypenumbers": "strict",
          "coloraxis": {
           "colorbar": {
            "outlinewidth": 0,
            "ticks": ""
           }
          },
          "colorscale": {
           "diverging": [
            [
             0,
             "#8e0152"
            ],
            [
             0.1,
             "#c51b7d"
            ],
            [
             0.2,
             "#de77ae"
            ],
            [
             0.3,
             "#f1b6da"
            ],
            [
             0.4,
             "#fde0ef"
            ],
            [
             0.5,
             "#f7f7f7"
            ],
            [
             0.6,
             "#e6f5d0"
            ],
            [
             0.7,
             "#b8e186"
            ],
            [
             0.8,
             "#7fbc41"
            ],
            [
             0.9,
             "#4d9221"
            ],
            [
             1,
             "#276419"
            ]
           ],
           "sequential": [
            [
             0,
             "#0d0887"
            ],
            [
             0.1111111111111111,
             "#46039f"
            ],
            [
             0.2222222222222222,
             "#7201a8"
            ],
            [
             0.3333333333333333,
             "#9c179e"
            ],
            [
             0.4444444444444444,
             "#bd3786"
            ],
            [
             0.5555555555555556,
             "#d8576b"
            ],
            [
             0.6666666666666666,
             "#ed7953"
            ],
            [
             0.7777777777777778,
             "#fb9f3a"
            ],
            [
             0.8888888888888888,
             "#fdca26"
            ],
            [
             1,
             "#f0f921"
            ]
           ],
           "sequentialminus": [
            [
             0,
             "#0d0887"
            ],
            [
             0.1111111111111111,
             "#46039f"
            ],
            [
             0.2222222222222222,
             "#7201a8"
            ],
            [
             0.3333333333333333,
             "#9c179e"
            ],
            [
             0.4444444444444444,
             "#bd3786"
            ],
            [
             0.5555555555555556,
             "#d8576b"
            ],
            [
             0.6666666666666666,
             "#ed7953"
            ],
            [
             0.7777777777777778,
             "#fb9f3a"
            ],
            [
             0.8888888888888888,
             "#fdca26"
            ],
            [
             1,
             "#f0f921"
            ]
           ]
          },
          "colorway": [
           "#636efa",
           "#EF553B",
           "#00cc96",
           "#ab63fa",
           "#FFA15A",
           "#19d3f3",
           "#FF6692",
           "#B6E880",
           "#FF97FF",
           "#FECB52"
          ],
          "font": {
           "color": "#2a3f5f"
          },
          "geo": {
           "bgcolor": "white",
           "lakecolor": "white",
           "landcolor": "#E5ECF6",
           "showlakes": true,
           "showland": true,
           "subunitcolor": "white"
          },
          "hoverlabel": {
           "align": "left"
          },
          "hovermode": "closest",
          "mapbox": {
           "style": "light"
          },
          "paper_bgcolor": "white",
          "plot_bgcolor": "#E5ECF6",
          "polar": {
           "angularaxis": {
            "gridcolor": "white",
            "linecolor": "white",
            "ticks": ""
           },
           "bgcolor": "#E5ECF6",
           "radialaxis": {
            "gridcolor": "white",
            "linecolor": "white",
            "ticks": ""
           }
          },
          "scene": {
           "xaxis": {
            "backgroundcolor": "#E5ECF6",
            "gridcolor": "white",
            "gridwidth": 2,
            "linecolor": "white",
            "showbackground": true,
            "ticks": "",
            "zerolinecolor": "white"
           },
           "yaxis": {
            "backgroundcolor": "#E5ECF6",
            "gridcolor": "white",
            "gridwidth": 2,
            "linecolor": "white",
            "showbackground": true,
            "ticks": "",
            "zerolinecolor": "white"
           },
           "zaxis": {
            "backgroundcolor": "#E5ECF6",
            "gridcolor": "white",
            "gridwidth": 2,
            "linecolor": "white",
            "showbackground": true,
            "ticks": "",
            "zerolinecolor": "white"
           }
          },
          "shapedefaults": {
           "line": {
            "color": "#2a3f5f"
           }
          },
          "ternary": {
           "aaxis": {
            "gridcolor": "white",
            "linecolor": "white",
            "ticks": ""
           },
           "baxis": {
            "gridcolor": "white",
            "linecolor": "white",
            "ticks": ""
           },
           "bgcolor": "#E5ECF6",
           "caxis": {
            "gridcolor": "white",
            "linecolor": "white",
            "ticks": ""
           }
          },
          "title": {
           "x": 0.05
          },
          "xaxis": {
           "automargin": true,
           "gridcolor": "white",
           "linecolor": "white",
           "ticks": "",
           "title": {
            "standoff": 15
           },
           "zerolinecolor": "white",
           "zerolinewidth": 2
          },
          "yaxis": {
           "automargin": true,
           "gridcolor": "white",
           "linecolor": "white",
           "ticks": "",
           "title": {
            "standoff": 15
           },
           "zerolinecolor": "white",
           "zerolinewidth": 2
          }
         }
        },
        "title": {
         "text": "Market value of Bundesliga clubs"
        }
       }
      }
     },
     "metadata": {},
     "output_type": "display_data"
    }
   ],
   "source": [
    "bundesliga_clubs = ['Sportverein Darmstadt 1898 e. V.', 'Borussia Verein für Leibesübungen 1900 Mönchengladbach', 'Verein für Leibesübungen Wolfsburg',\n",
    " 'Bayer 04 Leverkusen Fußball', 'Eintracht Frankfurt Fußball AG', 'Borussia Dortmund', 'Verein für Bewegungsspiele Stuttgart 1893',\n",
    " 'Sportverein Werder Bremen von 1899', 'RasenBallsport Leipzig', '1. FC Union Berlin', 'FC Augsburg 1907', '1. Fußball-Club Köln', '1. Fußball- und Sportverein Mainz 05', 'Sport-Club Freiburg',\n",
    " 'FC Schalke 04', 'Hertha BSC', 'FC Bayern München', 'TSG 1899 Hoffenheim Fußball-Spielbetriebs GmbH']\n",
    "bundesliga_players = players[(players['current_club_name'].isin(bundesliga_clubs)) & (players['last_season'] == 2023)]\n",
    "club_value_bundesliga = bundesliga_players.groupby('current_club_name')['market_value_in_eur'].sum().reset_index()\n",
    "club_value_bundesliga.columns = ['Club', 'Squad Market Value (EUR)']\n",
    "club_value_bundesliga = club_value_bundesliga.sort_values(by='Squad Market Value (EUR)', ascending = False)\n",
    "club_value_bundesliga['Market Value'] = club_value_bundesliga['Squad Market Value (EUR)'].apply(lambda x: '{:,.2f} EUR'.format(x))\n",
    "fig = go.Figure(data=[go.Pie(labels=club_value_bundesliga['Club'], \n",
    "                             values=club_value_bundesliga['Squad Market Value (EUR)'])])\n",
    "\n",
    "fig.update_layout(title='Market value of Bundesliga clubs')\n",
    "\n",
    "fig.show()\n"
   ]
  },
  {
   "cell_type": "markdown",
   "metadata": {},
   "source": [
    "<h4>Statystyki klubów Ligue 1</h4>"
   ]
  },
  {
   "cell_type": "code",
   "execution_count": 173,
   "metadata": {},
   "outputs": [
    {
     "data": {
      "application/vnd.plotly.v1+json": {
       "config": {
        "plotlyServerURL": "https://plot.ly"
       },
       "data": [
        {
         "labels": [
          "Paris Saint-Germain Football Club",
          "Association sportive de Monaco Football Club",
          "Stade Rennais Football Club",
          "Olympique Gymnaste Club Nice Côte d'Azur",
          "Lille Olympique Sporting Club Lille Métropole",
          "Olympique Lyonnais",
          "Olympique de Marseille",
          "Racing Club de Lens",
          "Racing Club de Strasbourg Alsace",
          "Stade de Reims",
          "Football Club Lorient-Bretagne Sud",
          "Toulouse Football Club",
          "Montpellier Hérault Sport Club",
          "Football Club de Nantes",
          "Le Havre Athletic Club",
          "Clermont Foot 63",
          "Football Club de Metz"
         ],
         "type": "pie",
         "values": [
          1019800000,
          347200000,
          274650000,
          261800000,
          249500000,
          238800000,
          231300000,
          200850000,
          122650000,
          118100000,
          106250000,
          100400000,
          98600000,
          94650000,
          61500000,
          52000000,
          45700000
         ]
        }
       ],
       "layout": {
        "template": {
         "data": {
          "bar": [
           {
            "error_x": {
             "color": "#2a3f5f"
            },
            "error_y": {
             "color": "#2a3f5f"
            },
            "marker": {
             "line": {
              "color": "#E5ECF6",
              "width": 0.5
             },
             "pattern": {
              "fillmode": "overlay",
              "size": 10,
              "solidity": 0.2
             }
            },
            "type": "bar"
           }
          ],
          "barpolar": [
           {
            "marker": {
             "line": {
              "color": "#E5ECF6",
              "width": 0.5
             },
             "pattern": {
              "fillmode": "overlay",
              "size": 10,
              "solidity": 0.2
             }
            },
            "type": "barpolar"
           }
          ],
          "carpet": [
           {
            "aaxis": {
             "endlinecolor": "#2a3f5f",
             "gridcolor": "white",
             "linecolor": "white",
             "minorgridcolor": "white",
             "startlinecolor": "#2a3f5f"
            },
            "baxis": {
             "endlinecolor": "#2a3f5f",
             "gridcolor": "white",
             "linecolor": "white",
             "minorgridcolor": "white",
             "startlinecolor": "#2a3f5f"
            },
            "type": "carpet"
           }
          ],
          "choropleth": [
           {
            "colorbar": {
             "outlinewidth": 0,
             "ticks": ""
            },
            "type": "choropleth"
           }
          ],
          "contour": [
           {
            "colorbar": {
             "outlinewidth": 0,
             "ticks": ""
            },
            "colorscale": [
             [
              0,
              "#0d0887"
             ],
             [
              0.1111111111111111,
              "#46039f"
             ],
             [
              0.2222222222222222,
              "#7201a8"
             ],
             [
              0.3333333333333333,
              "#9c179e"
             ],
             [
              0.4444444444444444,
              "#bd3786"
             ],
             [
              0.5555555555555556,
              "#d8576b"
             ],
             [
              0.6666666666666666,
              "#ed7953"
             ],
             [
              0.7777777777777778,
              "#fb9f3a"
             ],
             [
              0.8888888888888888,
              "#fdca26"
             ],
             [
              1,
              "#f0f921"
             ]
            ],
            "type": "contour"
           }
          ],
          "contourcarpet": [
           {
            "colorbar": {
             "outlinewidth": 0,
             "ticks": ""
            },
            "type": "contourcarpet"
           }
          ],
          "heatmap": [
           {
            "colorbar": {
             "outlinewidth": 0,
             "ticks": ""
            },
            "colorscale": [
             [
              0,
              "#0d0887"
             ],
             [
              0.1111111111111111,
              "#46039f"
             ],
             [
              0.2222222222222222,
              "#7201a8"
             ],
             [
              0.3333333333333333,
              "#9c179e"
             ],
             [
              0.4444444444444444,
              "#bd3786"
             ],
             [
              0.5555555555555556,
              "#d8576b"
             ],
             [
              0.6666666666666666,
              "#ed7953"
             ],
             [
              0.7777777777777778,
              "#fb9f3a"
             ],
             [
              0.8888888888888888,
              "#fdca26"
             ],
             [
              1,
              "#f0f921"
             ]
            ],
            "type": "heatmap"
           }
          ],
          "heatmapgl": [
           {
            "colorbar": {
             "outlinewidth": 0,
             "ticks": ""
            },
            "colorscale": [
             [
              0,
              "#0d0887"
             ],
             [
              0.1111111111111111,
              "#46039f"
             ],
             [
              0.2222222222222222,
              "#7201a8"
             ],
             [
              0.3333333333333333,
              "#9c179e"
             ],
             [
              0.4444444444444444,
              "#bd3786"
             ],
             [
              0.5555555555555556,
              "#d8576b"
             ],
             [
              0.6666666666666666,
              "#ed7953"
             ],
             [
              0.7777777777777778,
              "#fb9f3a"
             ],
             [
              0.8888888888888888,
              "#fdca26"
             ],
             [
              1,
              "#f0f921"
             ]
            ],
            "type": "heatmapgl"
           }
          ],
          "histogram": [
           {
            "marker": {
             "pattern": {
              "fillmode": "overlay",
              "size": 10,
              "solidity": 0.2
             }
            },
            "type": "histogram"
           }
          ],
          "histogram2d": [
           {
            "colorbar": {
             "outlinewidth": 0,
             "ticks": ""
            },
            "colorscale": [
             [
              0,
              "#0d0887"
             ],
             [
              0.1111111111111111,
              "#46039f"
             ],
             [
              0.2222222222222222,
              "#7201a8"
             ],
             [
              0.3333333333333333,
              "#9c179e"
             ],
             [
              0.4444444444444444,
              "#bd3786"
             ],
             [
              0.5555555555555556,
              "#d8576b"
             ],
             [
              0.6666666666666666,
              "#ed7953"
             ],
             [
              0.7777777777777778,
              "#fb9f3a"
             ],
             [
              0.8888888888888888,
              "#fdca26"
             ],
             [
              1,
              "#f0f921"
             ]
            ],
            "type": "histogram2d"
           }
          ],
          "histogram2dcontour": [
           {
            "colorbar": {
             "outlinewidth": 0,
             "ticks": ""
            },
            "colorscale": [
             [
              0,
              "#0d0887"
             ],
             [
              0.1111111111111111,
              "#46039f"
             ],
             [
              0.2222222222222222,
              "#7201a8"
             ],
             [
              0.3333333333333333,
              "#9c179e"
             ],
             [
              0.4444444444444444,
              "#bd3786"
             ],
             [
              0.5555555555555556,
              "#d8576b"
             ],
             [
              0.6666666666666666,
              "#ed7953"
             ],
             [
              0.7777777777777778,
              "#fb9f3a"
             ],
             [
              0.8888888888888888,
              "#fdca26"
             ],
             [
              1,
              "#f0f921"
             ]
            ],
            "type": "histogram2dcontour"
           }
          ],
          "mesh3d": [
           {
            "colorbar": {
             "outlinewidth": 0,
             "ticks": ""
            },
            "type": "mesh3d"
           }
          ],
          "parcoords": [
           {
            "line": {
             "colorbar": {
              "outlinewidth": 0,
              "ticks": ""
             }
            },
            "type": "parcoords"
           }
          ],
          "pie": [
           {
            "automargin": true,
            "type": "pie"
           }
          ],
          "scatter": [
           {
            "fillpattern": {
             "fillmode": "overlay",
             "size": 10,
             "solidity": 0.2
            },
            "type": "scatter"
           }
          ],
          "scatter3d": [
           {
            "line": {
             "colorbar": {
              "outlinewidth": 0,
              "ticks": ""
             }
            },
            "marker": {
             "colorbar": {
              "outlinewidth": 0,
              "ticks": ""
             }
            },
            "type": "scatter3d"
           }
          ],
          "scattercarpet": [
           {
            "marker": {
             "colorbar": {
              "outlinewidth": 0,
              "ticks": ""
             }
            },
            "type": "scattercarpet"
           }
          ],
          "scattergeo": [
           {
            "marker": {
             "colorbar": {
              "outlinewidth": 0,
              "ticks": ""
             }
            },
            "type": "scattergeo"
           }
          ],
          "scattergl": [
           {
            "marker": {
             "colorbar": {
              "outlinewidth": 0,
              "ticks": ""
             }
            },
            "type": "scattergl"
           }
          ],
          "scattermapbox": [
           {
            "marker": {
             "colorbar": {
              "outlinewidth": 0,
              "ticks": ""
             }
            },
            "type": "scattermapbox"
           }
          ],
          "scatterpolar": [
           {
            "marker": {
             "colorbar": {
              "outlinewidth": 0,
              "ticks": ""
             }
            },
            "type": "scatterpolar"
           }
          ],
          "scatterpolargl": [
           {
            "marker": {
             "colorbar": {
              "outlinewidth": 0,
              "ticks": ""
             }
            },
            "type": "scatterpolargl"
           }
          ],
          "scatterternary": [
           {
            "marker": {
             "colorbar": {
              "outlinewidth": 0,
              "ticks": ""
             }
            },
            "type": "scatterternary"
           }
          ],
          "surface": [
           {
            "colorbar": {
             "outlinewidth": 0,
             "ticks": ""
            },
            "colorscale": [
             [
              0,
              "#0d0887"
             ],
             [
              0.1111111111111111,
              "#46039f"
             ],
             [
              0.2222222222222222,
              "#7201a8"
             ],
             [
              0.3333333333333333,
              "#9c179e"
             ],
             [
              0.4444444444444444,
              "#bd3786"
             ],
             [
              0.5555555555555556,
              "#d8576b"
             ],
             [
              0.6666666666666666,
              "#ed7953"
             ],
             [
              0.7777777777777778,
              "#fb9f3a"
             ],
             [
              0.8888888888888888,
              "#fdca26"
             ],
             [
              1,
              "#f0f921"
             ]
            ],
            "type": "surface"
           }
          ],
          "table": [
           {
            "cells": {
             "fill": {
              "color": "#EBF0F8"
             },
             "line": {
              "color": "white"
             }
            },
            "header": {
             "fill": {
              "color": "#C8D4E3"
             },
             "line": {
              "color": "white"
             }
            },
            "type": "table"
           }
          ]
         },
         "layout": {
          "annotationdefaults": {
           "arrowcolor": "#2a3f5f",
           "arrowhead": 0,
           "arrowwidth": 1
          },
          "autotypenumbers": "strict",
          "coloraxis": {
           "colorbar": {
            "outlinewidth": 0,
            "ticks": ""
           }
          },
          "colorscale": {
           "diverging": [
            [
             0,
             "#8e0152"
            ],
            [
             0.1,
             "#c51b7d"
            ],
            [
             0.2,
             "#de77ae"
            ],
            [
             0.3,
             "#f1b6da"
            ],
            [
             0.4,
             "#fde0ef"
            ],
            [
             0.5,
             "#f7f7f7"
            ],
            [
             0.6,
             "#e6f5d0"
            ],
            [
             0.7,
             "#b8e186"
            ],
            [
             0.8,
             "#7fbc41"
            ],
            [
             0.9,
             "#4d9221"
            ],
            [
             1,
             "#276419"
            ]
           ],
           "sequential": [
            [
             0,
             "#0d0887"
            ],
            [
             0.1111111111111111,
             "#46039f"
            ],
            [
             0.2222222222222222,
             "#7201a8"
            ],
            [
             0.3333333333333333,
             "#9c179e"
            ],
            [
             0.4444444444444444,
             "#bd3786"
            ],
            [
             0.5555555555555556,
             "#d8576b"
            ],
            [
             0.6666666666666666,
             "#ed7953"
            ],
            [
             0.7777777777777778,
             "#fb9f3a"
            ],
            [
             0.8888888888888888,
             "#fdca26"
            ],
            [
             1,
             "#f0f921"
            ]
           ],
           "sequentialminus": [
            [
             0,
             "#0d0887"
            ],
            [
             0.1111111111111111,
             "#46039f"
            ],
            [
             0.2222222222222222,
             "#7201a8"
            ],
            [
             0.3333333333333333,
             "#9c179e"
            ],
            [
             0.4444444444444444,
             "#bd3786"
            ],
            [
             0.5555555555555556,
             "#d8576b"
            ],
            [
             0.6666666666666666,
             "#ed7953"
            ],
            [
             0.7777777777777778,
             "#fb9f3a"
            ],
            [
             0.8888888888888888,
             "#fdca26"
            ],
            [
             1,
             "#f0f921"
            ]
           ]
          },
          "colorway": [
           "#636efa",
           "#EF553B",
           "#00cc96",
           "#ab63fa",
           "#FFA15A",
           "#19d3f3",
           "#FF6692",
           "#B6E880",
           "#FF97FF",
           "#FECB52"
          ],
          "font": {
           "color": "#2a3f5f"
          },
          "geo": {
           "bgcolor": "white",
           "lakecolor": "white",
           "landcolor": "#E5ECF6",
           "showlakes": true,
           "showland": true,
           "subunitcolor": "white"
          },
          "hoverlabel": {
           "align": "left"
          },
          "hovermode": "closest",
          "mapbox": {
           "style": "light"
          },
          "paper_bgcolor": "white",
          "plot_bgcolor": "#E5ECF6",
          "polar": {
           "angularaxis": {
            "gridcolor": "white",
            "linecolor": "white",
            "ticks": ""
           },
           "bgcolor": "#E5ECF6",
           "radialaxis": {
            "gridcolor": "white",
            "linecolor": "white",
            "ticks": ""
           }
          },
          "scene": {
           "xaxis": {
            "backgroundcolor": "#E5ECF6",
            "gridcolor": "white",
            "gridwidth": 2,
            "linecolor": "white",
            "showbackground": true,
            "ticks": "",
            "zerolinecolor": "white"
           },
           "yaxis": {
            "backgroundcolor": "#E5ECF6",
            "gridcolor": "white",
            "gridwidth": 2,
            "linecolor": "white",
            "showbackground": true,
            "ticks": "",
            "zerolinecolor": "white"
           },
           "zaxis": {
            "backgroundcolor": "#E5ECF6",
            "gridcolor": "white",
            "gridwidth": 2,
            "linecolor": "white",
            "showbackground": true,
            "ticks": "",
            "zerolinecolor": "white"
           }
          },
          "shapedefaults": {
           "line": {
            "color": "#2a3f5f"
           }
          },
          "ternary": {
           "aaxis": {
            "gridcolor": "white",
            "linecolor": "white",
            "ticks": ""
           },
           "baxis": {
            "gridcolor": "white",
            "linecolor": "white",
            "ticks": ""
           },
           "bgcolor": "#E5ECF6",
           "caxis": {
            "gridcolor": "white",
            "linecolor": "white",
            "ticks": ""
           }
          },
          "title": {
           "x": 0.05
          },
          "xaxis": {
           "automargin": true,
           "gridcolor": "white",
           "linecolor": "white",
           "ticks": "",
           "title": {
            "standoff": 15
           },
           "zerolinecolor": "white",
           "zerolinewidth": 2
          },
          "yaxis": {
           "automargin": true,
           "gridcolor": "white",
           "linecolor": "white",
           "ticks": "",
           "title": {
            "standoff": 15
           },
           "zerolinecolor": "white",
           "zerolinewidth": 2
          }
         }
        },
        "title": {
         "text": "Market value of Ligue 1 clubs"
        }
       }
      }
     },
     "metadata": {},
     "output_type": "display_data"
    }
   ],
   "source": [
    "ligue_clubs = ['Montpellier Hérault Sport Club', 'Lille Olympique Sporting Club Lille Métropole', 'Football Club Lorient-Bretagne Sud', 'Stade Rennais Football Club',\n",
    " 'Football Club de Nantes', 'Stade de Reims', 'Association sportive de Monaco Football Club', 'FC Sochaux-Montbéliard', 'Olympique Lyonnais', 'Racing Club de Strasbourg Alsace',\n",
    " 'Olympique de Marseille', 'Paris Saint-Germain Football Club', 'Clermont Foot 63', 'Le Havre Athletic Club', 'Racing Club de Lens', 'Toulouse Football Club',\n",
    " \"Olympique Gymnaste Club Nice Côte d'Azur\", 'Football Club de Metz']\n",
    "ligue_players = players[(players['current_club_name'].isin(ligue_clubs)) & (players['last_season'] == 2023)]\n",
    "club_value_ligue = ligue_players.groupby('current_club_name')['market_value_in_eur'].sum().reset_index()\n",
    "club_value_ligue.columns = ['Club', 'Squad Market Value (EUR)']\n",
    "club_value_ligue = club_value_ligue.sort_values(by='Squad Market Value (EUR)', ascending = False)\n",
    "club_value_ligue['Market Value'] = club_value_ligue['Squad Market Value (EUR)'].apply(lambda x: '{:,.2f} EUR'.format(x))\n",
    "fig = go.Figure(data=[go.Pie(labels=club_value_ligue['Club'], \n",
    "                             values=club_value_ligue['Squad Market Value (EUR)'])])\n",
    "\n",
    "fig.update_layout(title='Market value of Ligue 1 clubs')\n",
    "\n",
    "fig.show()"
   ]
  },
  {
   "cell_type": "code",
   "execution_count": 174,
   "metadata": {},
   "outputs": [],
   "source": [
    "top_leagues = ['CL', 'EL', 'FR1', 'GB1', 'ES1', 'IT1', 'L1']"
   ]
  },
  {
   "cell_type": "code",
   "execution_count": 175,
   "metadata": {},
   "outputs": [],
   "source": [
    "top5_leagues = [ 'FR1', 'GB1', 'ES1', 'IT1', 'L1']"
   ]
  },
  {
   "cell_type": "code",
   "execution_count": 176,
   "metadata": {},
   "outputs": [],
   "source": [
    "top5_id = apps[apps['competition_id'].isin(top_leagues)]['player_id']"
   ]
  },
  {
   "cell_type": "markdown",
   "metadata": {},
   "source": [
    "Filtr na piłkarzy grających w Premier League oraz będących obywatelami Anglii + tych, którzy tylko grali w PL"
   ]
  },
  {
   "cell_type": "code",
   "execution_count": 177,
   "metadata": {},
   "outputs": [
    {
     "data": {
      "text/plain": [
       "0             10\n",
       "1             26\n",
       "2             65\n",
       "3             77\n",
       "4             80\n",
       "          ...   \n",
       "30477    1144999\n",
       "30478    1146029\n",
       "30484    1159022\n",
       "30499    1176345\n",
       "30502    1178474\n",
       "Name: player_id, Length: 11411, dtype: int64"
      ]
     },
     "execution_count": 177,
     "metadata": {},
     "output_type": "execute_result"
    }
   ],
   "source": [
    "filt = players[(players['country_of_citizenship'] == 'England') & (players['current_club_domestic_competition_id'] == 'GB1')]\n",
    "english_players = filt['player_id']\n",
    "top5_players = players[players['player_id'].isin(top5_id)]['player_id']\n",
    "top5_players"
   ]
  },
  {
   "cell_type": "markdown",
   "metadata": {},
   "source": [
    "Piłkarze posortowani po wartości w czasie (wyszukani za pomocą filtra)"
   ]
  },
  {
   "cell_type": "code",
   "execution_count": 178,
   "metadata": {},
   "outputs": [],
   "source": [
    "\n",
    "filt2 = player_val[player_val['player_id'].isin(english_players.values)]\n",
    "filt2_sorted = filt2.sort_values(by='player_id')\n",
    "filt3 = player_val[player_val['player_id'].isin(top5_players.values)]\n",
    "filt3_sorted = filt3.sort_values(by='player_id')"
   ]
  },
  {
   "cell_type": "markdown",
   "metadata": {},
   "source": [
    "Statystyki graczy pasujących do filtru (eng + gb1)"
   ]
  },
  {
   "cell_type": "code",
   "execution_count": 179,
   "metadata": {},
   "outputs": [
    {
     "name": "stderr",
     "output_type": "stream",
     "text": [
      "/var/folders/k0/npn1p10j29xbj8plvsqs20b80000gn/T/ipykernel_30866/3007037286.py:3: SettingWithCopyWarning:\n",
      "\n",
      "\n",
      "A value is trying to be set on a copy of a slice from a DataFrame.\n",
      "Try using .loc[row_indexer,col_indexer] = value instead\n",
      "\n",
      "See the caveats in the documentation: https://pandas.pydata.org/pandas-docs/stable/user_guide/indexing.html#returning-a-view-versus-a-copy\n",
      "\n"
     ]
    }
   ],
   "source": [
    "start_date = '2012-08-31'\n",
    "end_date = '2013-06-14'\n",
    "apps['date'] = pd.to_datetime(apps['date'])\n",
    "\n",
    "start_date = pd.to_datetime(start_date)\n",
    "end_date = pd.to_datetime(end_date)\n",
    "seasons = []\n",
    "\n",
    "for x in range(12):\n",
    "    season_filter = apps[(apps['date'] >= start_date) & (apps['date'] <= end_date) & (apps['competition_id'] == 'GB1') & (apps['player_id'].isin(english_players))]\n",
    "    goals_dict = season_filter.groupby('player_id')['goals'].sum().to_dict()\n",
    "    yellow_cards_dict = season_filter.groupby('player_id')['yellow_cards'].sum().to_dict()\n",
    "    red_cards_dict = season_filter.groupby('player_id')['red_cards'].sum().to_dict()\n",
    "    assists_dict = season_filter.groupby('player_id')['assists'].sum().to_dict()\n",
    "    minutes_played_dict = season_filter.groupby('player_id')['minutes_played'].sum().to_dict()\n",
    "\n",
    "    df_goals = pd.DataFrame(list(goals_dict.items()), columns=['player_id', 'goals'])\n",
    "    df_assits = pd.DataFrame(list(assists_dict.items()), columns=['player_id', 'assists'])\n",
    "    df_yellow = pd.DataFrame(list(yellow_cards_dict.items()), columns=['player_id', 'yellow_cards'])\n",
    "    df_red = pd.DataFrame(list(red_cards_dict.items()), columns=['player_id', 'red_cards'])\n",
    "    df_minutes = pd.DataFrame(list(minutes_played_dict.items()), columns=['player_id', 'minutes_played'])\n",
    "\n",
    "    season = pd.merge(df_goals, df_assits, on='player_id', how='outer')\n",
    "    season = pd.merge(season, df_yellow, on='player_id', how='outer')\n",
    "    season = pd.merge(season, df_red, on='player_id', how='outer')\n",
    "    season = pd.merge(season, df_minutes, on='player_id', how='outer')\n",
    "\n",
    "    seasons.append(season)\n",
    "\n",
    "    start_date += pd.DateOffset(years=1)\n",
    "    end_date += pd.DateOffset(years=1)"
   ]
  },
  {
   "cell_type": "markdown",
   "metadata": {},
   "source": [
    "Statystyki wszystkich graczy (top5 lig)"
   ]
  },
  {
   "cell_type": "code",
   "execution_count": 180,
   "metadata": {},
   "outputs": [
    {
     "name": "stderr",
     "output_type": "stream",
     "text": [
      "/var/folders/k0/npn1p10j29xbj8plvsqs20b80000gn/T/ipykernel_30866/98835393.py:3: SettingWithCopyWarning:\n",
      "\n",
      "\n",
      "A value is trying to be set on a copy of a slice from a DataFrame.\n",
      "Try using .loc[row_indexer,col_indexer] = value instead\n",
      "\n",
      "See the caveats in the documentation: https://pandas.pydata.org/pandas-docs/stable/user_guide/indexing.html#returning-a-view-versus-a-copy\n",
      "\n"
     ]
    }
   ],
   "source": [
    "start_date = '2012-08-31'\n",
    "end_date = '2013-06-14'\n",
    "apps['date'] = pd.to_datetime(apps['date'])\n",
    "\n",
    "start_date = pd.to_datetime(start_date)\n",
    "end_date = pd.to_datetime(end_date)\n",
    "seasons_all_players = []\n",
    "\n",
    "for x in range(12):\n",
    "    season_filter = apps[(apps['date'] >= start_date) & (apps['date'] <= end_date) & (apps['player_id'].isin(top5_players))]\n",
    "    goals_dict = season_filter.groupby('player_id')['goals'].sum().to_dict()\n",
    "    yellow_cards_dict = season_filter.groupby('player_id')['yellow_cards'].sum().to_dict()\n",
    "    red_cards_dict = season_filter.groupby('player_id')['red_cards'].sum().to_dict()\n",
    "    assists_dict = season_filter.groupby('player_id')['assists'].sum().to_dict()\n",
    "    minutes_played_dict = season_filter.groupby('player_id')['minutes_played'].sum().to_dict()\n",
    "\n",
    "    df_goals = pd.DataFrame(list(goals_dict.items()), columns=['player_id', 'goals'])\n",
    "    df_assits = pd.DataFrame(list(assists_dict.items()), columns=['player_id', 'assists'])\n",
    "    df_yellow = pd.DataFrame(list(yellow_cards_dict.items()), columns=['player_id', 'yellow_cards'])\n",
    "    df_red = pd.DataFrame(list(red_cards_dict.items()), columns=['player_id', 'red_cards'])\n",
    "    df_minutes = pd.DataFrame(list(minutes_played_dict.items()), columns=['player_id', 'minutes_played'])\n",
    "\n",
    "    season = pd.merge(df_goals, df_assits, on='player_id', how='outer')\n",
    "    season = pd.merge(season, df_yellow, on='player_id', how='outer')\n",
    "    season = pd.merge(season, df_red, on='player_id', how='outer')\n",
    "    season = pd.merge(season, df_minutes, on='player_id', how='outer')\n",
    "\n",
    "    seasons_all_players.append(season)\n",
    "\n",
    "    start_date += pd.DateOffset(years=1)\n",
    "    end_date += pd.DateOffset(years=1)"
   ]
  },
  {
   "cell_type": "markdown",
   "metadata": {},
   "source": [
    "Dodanie imion dla graczy (top5 lig)"
   ]
  },
  {
   "cell_type": "code",
   "execution_count": 181,
   "metadata": {},
   "outputs": [
    {
     "data": {
      "text/html": [
       "<div>\n",
       "<style scoped>\n",
       "    .dataframe tbody tr th:only-of-type {\n",
       "        vertical-align: middle;\n",
       "    }\n",
       "\n",
       "    .dataframe tbody tr th {\n",
       "        vertical-align: top;\n",
       "    }\n",
       "\n",
       "    .dataframe thead th {\n",
       "        text-align: right;\n",
       "    }\n",
       "</style>\n",
       "<table border=\"1\" class=\"dataframe\">\n",
       "  <thead>\n",
       "    <tr style=\"text-align: right;\">\n",
       "      <th></th>\n",
       "      <th>player_id</th>\n",
       "      <th>date</th>\n",
       "      <th>market_value_in_eur</th>\n",
       "      <th>current_club_id</th>\n",
       "      <th>player_club_domestic_competition_id</th>\n",
       "      <th>name</th>\n",
       "    </tr>\n",
       "  </thead>\n",
       "  <tbody>\n",
       "    <tr>\n",
       "      <th>0</th>\n",
       "      <td>10</td>\n",
       "      <td>2012-07-03</td>\n",
       "      <td>6000000</td>\n",
       "      <td>398</td>\n",
       "      <td>IT1</td>\n",
       "      <td>Miroslav Klose</td>\n",
       "    </tr>\n",
       "    <tr>\n",
       "      <th>1</th>\n",
       "      <td>10</td>\n",
       "      <td>2015-01-07</td>\n",
       "      <td>1000000</td>\n",
       "      <td>398</td>\n",
       "      <td>IT1</td>\n",
       "      <td>Miroslav Klose</td>\n",
       "    </tr>\n",
       "    <tr>\n",
       "      <th>2</th>\n",
       "      <td>10</td>\n",
       "      <td>2005-05-05</td>\n",
       "      <td>12000000</td>\n",
       "      <td>398</td>\n",
       "      <td>IT1</td>\n",
       "      <td>Miroslav Klose</td>\n",
       "    </tr>\n",
       "    <tr>\n",
       "      <th>3</th>\n",
       "      <td>10</td>\n",
       "      <td>2016-01-04</td>\n",
       "      <td>1000000</td>\n",
       "      <td>398</td>\n",
       "      <td>IT1</td>\n",
       "      <td>Miroslav Klose</td>\n",
       "    </tr>\n",
       "    <tr>\n",
       "      <th>4</th>\n",
       "      <td>10</td>\n",
       "      <td>2015-07-01</td>\n",
       "      <td>1000000</td>\n",
       "      <td>398</td>\n",
       "      <td>IT1</td>\n",
       "      <td>Miroslav Klose</td>\n",
       "    </tr>\n",
       "    <tr>\n",
       "      <th>...</th>\n",
       "      <td>...</td>\n",
       "      <td>...</td>\n",
       "      <td>...</td>\n",
       "      <td>...</td>\n",
       "      <td>...</td>\n",
       "      <td>...</td>\n",
       "    </tr>\n",
       "    <tr>\n",
       "      <th>247690</th>\n",
       "      <td>1159022</td>\n",
       "      <td>2024-03-12</td>\n",
       "      <td>300000</td>\n",
       "      <td>8970</td>\n",
       "      <td>IT1</td>\n",
       "      <td>Mateus Lusuardi</td>\n",
       "    </tr>\n",
       "    <tr>\n",
       "      <th>247691</th>\n",
       "      <td>1176345</td>\n",
       "      <td>2024-03-19</td>\n",
       "      <td>500000</td>\n",
       "      <td>273</td>\n",
       "      <td>FR1</td>\n",
       "      <td>Mahamadou Nagida</td>\n",
       "    </tr>\n",
       "    <tr>\n",
       "      <th>247692</th>\n",
       "      <td>1176345</td>\n",
       "      <td>2023-12-18</td>\n",
       "      <td>150000</td>\n",
       "      <td>273</td>\n",
       "      <td>FR1</td>\n",
       "      <td>Mahamadou Nagida</td>\n",
       "    </tr>\n",
       "    <tr>\n",
       "      <th>247693</th>\n",
       "      <td>1178474</td>\n",
       "      <td>2024-03-19</td>\n",
       "      <td>400000</td>\n",
       "      <td>1421</td>\n",
       "      <td>FR1</td>\n",
       "      <td>Amadou Koné</td>\n",
       "    </tr>\n",
       "    <tr>\n",
       "      <th>247694</th>\n",
       "      <td>1178474</td>\n",
       "      <td>2023-12-18</td>\n",
       "      <td>50000</td>\n",
       "      <td>1421</td>\n",
       "      <td>FR1</td>\n",
       "      <td>Amadou Koné</td>\n",
       "    </tr>\n",
       "  </tbody>\n",
       "</table>\n",
       "<p>247695 rows × 6 columns</p>\n",
       "</div>"
      ],
      "text/plain": [
       "        player_id        date  market_value_in_eur  current_club_id  \\\n",
       "0              10  2012-07-03              6000000              398   \n",
       "1              10  2015-01-07              1000000              398   \n",
       "2              10  2005-05-05             12000000              398   \n",
       "3              10  2016-01-04              1000000              398   \n",
       "4              10  2015-07-01              1000000              398   \n",
       "...           ...         ...                  ...              ...   \n",
       "247690    1159022  2024-03-12               300000             8970   \n",
       "247691    1176345  2024-03-19               500000              273   \n",
       "247692    1176345  2023-12-18               150000              273   \n",
       "247693    1178474  2024-03-19               400000             1421   \n",
       "247694    1178474  2023-12-18                50000             1421   \n",
       "\n",
       "       player_club_domestic_competition_id              name  \n",
       "0                                      IT1    Miroslav Klose  \n",
       "1                                      IT1    Miroslav Klose  \n",
       "2                                      IT1    Miroslav Klose  \n",
       "3                                      IT1    Miroslav Klose  \n",
       "4                                      IT1    Miroslav Klose  \n",
       "...                                    ...               ...  \n",
       "247690                                 IT1   Mateus Lusuardi  \n",
       "247691                                 FR1  Mahamadou Nagida  \n",
       "247692                                 FR1  Mahamadou Nagida  \n",
       "247693                                 FR1       Amadou Koné  \n",
       "247694                                 FR1       Amadou Koné  \n",
       "\n",
       "[247695 rows x 6 columns]"
      ]
     },
     "execution_count": 181,
     "metadata": {},
     "output_type": "execute_result"
    }
   ],
   "source": [
    "names_all_players = players[['name', 'player_id']][players['player_id'].isin(top5_players.values)]\n",
    "merged_all_players = filt3_sorted.merge(names_all_players, on='player_id')\n",
    "merged_all_players"
   ]
  },
  {
   "cell_type": "markdown",
   "metadata": {},
   "source": [
    "Wycena graczy (top5 lig)"
   ]
  },
  {
   "cell_type": "code",
   "execution_count": 182,
   "metadata": {},
   "outputs": [
    {
     "name": "stderr",
     "output_type": "stream",
     "text": [
      "/var/folders/k0/npn1p10j29xbj8plvsqs20b80000gn/T/ipykernel_30866/205479306.py:15: SettingWithCopyWarning:\n",
      "\n",
      "\n",
      "A value is trying to be set on a copy of a slice from a DataFrame.\n",
      "Try using .loc[row_indexer,col_indexer] = value instead\n",
      "\n",
      "See the caveats in the documentation: https://pandas.pydata.org/pandas-docs/stable/user_guide/indexing.html#returning-a-view-versus-a-copy\n",
      "\n"
     ]
    }
   ],
   "source": [
    "start_date = '2012-08-31'\n",
    "end_date = '2013-06-14'\n",
    "merged_all_players['date'] = pd.to_datetime(merged_all_players['date'])\n",
    "start_date = pd.to_datetime(start_date)\n",
    "end_date = pd.to_datetime(end_date)\n",
    "all_values = []\n",
    "\n",
    "for i in range(12):\n",
    "\n",
    "    name_val = merged_all_players[(merged_all_players['date'] >= start_date) & (merged_all_players['date'] <= end_date)]\n",
    "\n",
    "    all_values.append(name_val)\n",
    "\n",
    "    temp = all_values[i]['player_id'].drop_duplicates(keep='first')\n",
    "    all_values[i]['player_id'] = temp\n",
    "    all_values[i] = all_values[i].dropna()\n",
    "    #all_values[i] = all_values[i].drop(columns='name')\n",
    "    start_date += pd.DateOffset(years=1)\n",
    "    end_date += pd.DateOffset(years=1)"
   ]
  },
  {
   "cell_type": "markdown",
   "metadata": {},
   "source": [
    "Połączenie wyceny ze statystykami"
   ]
  },
  {
   "cell_type": "code",
   "execution_count": 183,
   "metadata": {},
   "outputs": [],
   "source": [
    "for i in range(len(seasons_all_players)):\n",
    "    seasons_all_players[i] = pd.merge(seasons_all_players[i], all_values[i], on='player_id', how='outer')\n",
    "    seasons_all_players[i] = seasons_all_players[i].dropna()\n",
    "\n"
   ]
  },
  {
   "cell_type": "markdown",
   "metadata": {},
   "source": [
    "Sezony od 2012 do 2022"
   ]
  },
  {
   "cell_type": "code",
   "execution_count": 184,
   "metadata": {},
   "outputs": [],
   "source": [
    "season_stats = {\n",
    "    'season_2012_2013': seasons[0],\n",
    "    'season_2013_2014': seasons[1],\n",
    "    'season_2014_2015': seasons[2],\n",
    "    'season_2015_2016': seasons[3],\n",
    "    'season_2016_2017': seasons[4],\n",
    "    'season_2017_2018': seasons[5],\n",
    "    'season_2018_2019': seasons[6],\n",
    "    'season_2019_2020': seasons[7],\n",
    "    'season_2020_2021': seasons[8],\n",
    "    'season_2021_2022': seasons[9],\n",
    "    'season_2022_2023': seasons[10],\n",
    "    'season_2023_2024': seasons[11]\n",
    "}"
   ]
  },
  {
   "cell_type": "code",
   "execution_count": 185,
   "metadata": {},
   "outputs": [],
   "source": [
    "season_stats_all_players = {\n",
    "    'season_2012_2013': seasons_all_players[0],\n",
    "    'season_2013_2014': seasons_all_players[1],\n",
    "    'season_2014_2015': seasons_all_players[2],\n",
    "    'season_2015_2016': seasons_all_players[3],\n",
    "    'season_2016_2017': seasons_all_players[4],\n",
    "    'season_2017_2018': seasons_all_players[5],\n",
    "    'season_2018_2019': seasons_all_players[6],\n",
    "    'season_2019_2020': seasons_all_players[7],\n",
    "    'season_2020_2021': seasons_all_players[8],\n",
    "    'season_2021_2022': seasons_all_players[9],\n",
    "    'season_2022_2023': seasons_all_players[10],\n",
    "    'season_2023_2024': seasons_all_players[11]\n",
    "}"
   ]
  },
  {
   "cell_type": "code",
   "execution_count": 186,
   "metadata": {},
   "outputs": [
    {
     "name": "stdout",
     "output_type": "stream",
     "text": [
      "season_2012_2013\n",
      "season_2013_2014\n",
      "season_2014_2015\n",
      "season_2015_2016\n",
      "season_2016_2017\n",
      "season_2017_2018\n",
      "season_2018_2019\n",
      "season_2019_2020\n",
      "season_2020_2021\n",
      "season_2021_2022\n",
      "season_2022_2023\n",
      "season_2023_2024\n"
     ]
    }
   ],
   "source": [
    "for i, season in enumerate(season_stats):\n",
    "    print(season)"
   ]
  },
  {
   "cell_type": "code",
   "execution_count": 187,
   "metadata": {},
   "outputs": [
    {
     "data": {
      "text/html": [
       "<div>\n",
       "<style scoped>\n",
       "    .dataframe tbody tr th:only-of-type {\n",
       "        vertical-align: middle;\n",
       "    }\n",
       "\n",
       "    .dataframe tbody tr th {\n",
       "        vertical-align: top;\n",
       "    }\n",
       "\n",
       "    .dataframe thead th {\n",
       "        text-align: right;\n",
       "    }\n",
       "</style>\n",
       "<table border=\"1\" class=\"dataframe\">\n",
       "  <thead>\n",
       "    <tr style=\"text-align: right;\">\n",
       "      <th></th>\n",
       "      <th>player_id</th>\n",
       "      <th>goals</th>\n",
       "      <th>assists</th>\n",
       "      <th>yellow_cards</th>\n",
       "      <th>red_cards</th>\n",
       "      <th>minutes_played</th>\n",
       "      <th>date</th>\n",
       "      <th>market_value_in_eur</th>\n",
       "      <th>current_club_id</th>\n",
       "      <th>player_club_domestic_competition_id</th>\n",
       "      <th>name</th>\n",
       "    </tr>\n",
       "  </thead>\n",
       "  <tbody>\n",
       "    <tr>\n",
       "      <th>4392</th>\n",
       "      <td>258923.0</td>\n",
       "      <td>16.0</td>\n",
       "      <td>5.0</td>\n",
       "      <td>1.0</td>\n",
       "      <td>0.0</td>\n",
       "      <td>2535.0</td>\n",
       "      <td>2022-11-03</td>\n",
       "      <td>55000000.0</td>\n",
       "      <td>985.0</td>\n",
       "      <td>GB1</td>\n",
       "      <td>Marcus Rashford</td>\n",
       "    </tr>\n",
       "  </tbody>\n",
       "</table>\n",
       "</div>"
      ],
      "text/plain": [
       "      player_id  goals  assists  yellow_cards  red_cards  minutes_played  \\\n",
       "4392   258923.0   16.0      5.0           1.0        0.0          2535.0   \n",
       "\n",
       "           date  market_value_in_eur  current_club_id  \\\n",
       "4392 2022-11-03           55000000.0            985.0   \n",
       "\n",
       "     player_club_domestic_competition_id             name  \n",
       "4392                                 GB1  Marcus Rashford  "
      ]
     },
     "execution_count": 187,
     "metadata": {},
     "output_type": "execute_result"
    }
   ],
   "source": [
    "seasons_all_players[10][seasons_all_players[10]['name'] == 'Marcus Rashford']"
   ]
  },
  {
   "cell_type": "code",
   "execution_count": 188,
   "metadata": {},
   "outputs": [
    {
     "data": {
      "text/html": [
       "<div>\n",
       "<style scoped>\n",
       "    .dataframe tbody tr th:only-of-type {\n",
       "        vertical-align: middle;\n",
       "    }\n",
       "\n",
       "    .dataframe tbody tr th {\n",
       "        vertical-align: top;\n",
       "    }\n",
       "\n",
       "    .dataframe thead th {\n",
       "        text-align: right;\n",
       "    }\n",
       "</style>\n",
       "<table border=\"1\" class=\"dataframe\">\n",
       "  <thead>\n",
       "    <tr style=\"text-align: right;\">\n",
       "      <th></th>\n",
       "      <th>player_id</th>\n",
       "      <th>goals</th>\n",
       "      <th>assists</th>\n",
       "      <th>yellow_cards</th>\n",
       "      <th>red_cards</th>\n",
       "      <th>minutes_played</th>\n",
       "      <th>date</th>\n",
       "      <th>market_value_in_eur</th>\n",
       "      <th>current_club_id</th>\n",
       "      <th>player_club_domestic_competition_id</th>\n",
       "      <th>...</th>\n",
       "      <th>TklDribblers</th>\n",
       "      <th>Att</th>\n",
       "      <th>Tkl%</th>\n",
       "      <th>Lost</th>\n",
       "      <th>Blocks</th>\n",
       "      <th>Sh</th>\n",
       "      <th>Pass</th>\n",
       "      <th>Int</th>\n",
       "      <th>Clr</th>\n",
       "      <th>Err</th>\n",
       "    </tr>\n",
       "  </thead>\n",
       "  <tbody>\n",
       "    <tr>\n",
       "      <th>0</th>\n",
       "      <td>3333.0</td>\n",
       "      <td>0.0</td>\n",
       "      <td>0.0</td>\n",
       "      <td>2.0</td>\n",
       "      <td>0.0</td>\n",
       "      <td>705.0</td>\n",
       "      <td>2022-11-03</td>\n",
       "      <td>2000000.0</td>\n",
       "      <td>1237.0</td>\n",
       "      <td>GB1</td>\n",
       "      <td>...</td>\n",
       "      <td>15.0</td>\n",
       "      <td>34.0</td>\n",
       "      <td>44.1</td>\n",
       "      <td>19.0</td>\n",
       "      <td>14.0</td>\n",
       "      <td>2.0</td>\n",
       "      <td>12.0</td>\n",
       "      <td>12</td>\n",
       "      <td>15.0</td>\n",
       "      <td>0.0</td>\n",
       "    </tr>\n",
       "    <tr>\n",
       "      <th>1</th>\n",
       "      <td>8198.0</td>\n",
       "      <td>1.0</td>\n",
       "      <td>0.0</td>\n",
       "      <td>2.0</td>\n",
       "      <td>0.0</td>\n",
       "      <td>367.0</td>\n",
       "      <td>2023-06-12</td>\n",
       "      <td>15000000.0</td>\n",
       "      <td>985.0</td>\n",
       "      <td>GB1</td>\n",
       "      <td>...</td>\n",
       "      <td>1.0</td>\n",
       "      <td>2.0</td>\n",
       "      <td>50.0</td>\n",
       "      <td>1.0</td>\n",
       "      <td>0.0</td>\n",
       "      <td>0.0</td>\n",
       "      <td>0.0</td>\n",
       "      <td>1</td>\n",
       "      <td>9.0</td>\n",
       "      <td>0.0</td>\n",
       "    </tr>\n",
       "    <tr>\n",
       "      <th>2</th>\n",
       "      <td>14086.0</td>\n",
       "      <td>1.0</td>\n",
       "      <td>0.0</td>\n",
       "      <td>6.0</td>\n",
       "      <td>0.0</td>\n",
       "      <td>2037.0</td>\n",
       "      <td>2022-11-03</td>\n",
       "      <td>1000000.0</td>\n",
       "      <td>29.0</td>\n",
       "      <td>GB1</td>\n",
       "      <td>...</td>\n",
       "      <td>37.0</td>\n",
       "      <td>50.0</td>\n",
       "      <td>74.0</td>\n",
       "      <td>13.0</td>\n",
       "      <td>25.0</td>\n",
       "      <td>11.0</td>\n",
       "      <td>14.0</td>\n",
       "      <td>21</td>\n",
       "      <td>65.0</td>\n",
       "      <td>0.0</td>\n",
       "    </tr>\n",
       "    <tr>\n",
       "      <th>3</th>\n",
       "      <td>16306.0</td>\n",
       "      <td>4.0</td>\n",
       "      <td>3.0</td>\n",
       "      <td>7.0</td>\n",
       "      <td>2.0</td>\n",
       "      <td>2117.0</td>\n",
       "      <td>2022-09-15</td>\n",
       "      <td>50000000.0</td>\n",
       "      <td>985.0</td>\n",
       "      <td>GB1</td>\n",
       "      <td>...</td>\n",
       "      <td>47.0</td>\n",
       "      <td>92.0</td>\n",
       "      <td>51.1</td>\n",
       "      <td>45.0</td>\n",
       "      <td>49.0</td>\n",
       "      <td>11.0</td>\n",
       "      <td>38.0</td>\n",
       "      <td>34</td>\n",
       "      <td>64.0</td>\n",
       "      <td>0.0</td>\n",
       "    </tr>\n",
       "    <tr>\n",
       "      <th>4</th>\n",
       "      <td>16306.0</td>\n",
       "      <td>4.0</td>\n",
       "      <td>3.0</td>\n",
       "      <td>7.0</td>\n",
       "      <td>2.0</td>\n",
       "      <td>2117.0</td>\n",
       "      <td>2022-09-15</td>\n",
       "      <td>50000000.0</td>\n",
       "      <td>985.0</td>\n",
       "      <td>GB1</td>\n",
       "      <td>...</td>\n",
       "      <td>0.0</td>\n",
       "      <td>0.0</td>\n",
       "      <td>0.0</td>\n",
       "      <td>0.0</td>\n",
       "      <td>0.0</td>\n",
       "      <td>0.0</td>\n",
       "      <td>0.0</td>\n",
       "      <td>0</td>\n",
       "      <td>1.0</td>\n",
       "      <td>0.0</td>\n",
       "    </tr>\n",
       "    <tr>\n",
       "      <th>...</th>\n",
       "      <td>...</td>\n",
       "      <td>...</td>\n",
       "      <td>...</td>\n",
       "      <td>...</td>\n",
       "      <td>...</td>\n",
       "      <td>...</td>\n",
       "      <td>...</td>\n",
       "      <td>...</td>\n",
       "      <td>...</td>\n",
       "      <td>...</td>\n",
       "      <td>...</td>\n",
       "      <td>...</td>\n",
       "      <td>...</td>\n",
       "      <td>...</td>\n",
       "      <td>...</td>\n",
       "      <td>...</td>\n",
       "      <td>...</td>\n",
       "      <td>...</td>\n",
       "      <td>...</td>\n",
       "      <td>...</td>\n",
       "      <td>...</td>\n",
       "    </tr>\n",
       "    <tr>\n",
       "      <th>535</th>\n",
       "      <td>823231.0</td>\n",
       "      <td>1.0</td>\n",
       "      <td>3.0</td>\n",
       "      <td>1.0</td>\n",
       "      <td>0.0</td>\n",
       "      <td>1245.0</td>\n",
       "      <td>2022-11-02</td>\n",
       "      <td>10000000.0</td>\n",
       "      <td>989.0</td>\n",
       "      <td>GB1</td>\n",
       "      <td>...</td>\n",
       "      <td>13.0</td>\n",
       "      <td>32.0</td>\n",
       "      <td>40.6</td>\n",
       "      <td>19.0</td>\n",
       "      <td>20.0</td>\n",
       "      <td>3.0</td>\n",
       "      <td>17.0</td>\n",
       "      <td>13</td>\n",
       "      <td>29.0</td>\n",
       "      <td>1.0</td>\n",
       "    </tr>\n",
       "    <tr>\n",
       "      <th>536</th>\n",
       "      <td>823231.0</td>\n",
       "      <td>1.0</td>\n",
       "      <td>3.0</td>\n",
       "      <td>1.0</td>\n",
       "      <td>0.0</td>\n",
       "      <td>1245.0</td>\n",
       "      <td>2022-11-02</td>\n",
       "      <td>10000000.0</td>\n",
       "      <td>989.0</td>\n",
       "      <td>GB1</td>\n",
       "      <td>...</td>\n",
       "      <td>15.0</td>\n",
       "      <td>28.0</td>\n",
       "      <td>53.6</td>\n",
       "      <td>13.0</td>\n",
       "      <td>24.0</td>\n",
       "      <td>6.0</td>\n",
       "      <td>18.0</td>\n",
       "      <td>19</td>\n",
       "      <td>21.0</td>\n",
       "      <td>0.0</td>\n",
       "    </tr>\n",
       "    <tr>\n",
       "      <th>537</th>\n",
       "      <td>834742.0</td>\n",
       "      <td>0.0</td>\n",
       "      <td>0.0</td>\n",
       "      <td>0.0</td>\n",
       "      <td>0.0</td>\n",
       "      <td>24.0</td>\n",
       "      <td>2023-05-15</td>\n",
       "      <td>900000.0</td>\n",
       "      <td>399.0</td>\n",
       "      <td>GB1</td>\n",
       "      <td>...</td>\n",
       "      <td>0.0</td>\n",
       "      <td>0.0</td>\n",
       "      <td>0.0</td>\n",
       "      <td>0.0</td>\n",
       "      <td>1.0</td>\n",
       "      <td>0.0</td>\n",
       "      <td>1.0</td>\n",
       "      <td>0</td>\n",
       "      <td>1.0</td>\n",
       "      <td>0.0</td>\n",
       "    </tr>\n",
       "    <tr>\n",
       "      <th>538</th>\n",
       "      <td>864799.0</td>\n",
       "      <td>1.0</td>\n",
       "      <td>0.0</td>\n",
       "      <td>2.0</td>\n",
       "      <td>0.0</td>\n",
       "      <td>508.0</td>\n",
       "      <td>2023-03-16</td>\n",
       "      <td>13000000.0</td>\n",
       "      <td>31.0</td>\n",
       "      <td>GB1</td>\n",
       "      <td>...</td>\n",
       "      <td>8.0</td>\n",
       "      <td>27.0</td>\n",
       "      <td>29.6</td>\n",
       "      <td>19.0</td>\n",
       "      <td>7.0</td>\n",
       "      <td>0.0</td>\n",
       "      <td>7.0</td>\n",
       "      <td>9</td>\n",
       "      <td>4.0</td>\n",
       "      <td>0.0</td>\n",
       "    </tr>\n",
       "    <tr>\n",
       "      <th>539</th>\n",
       "      <td>983989.0</td>\n",
       "      <td>1.0</td>\n",
       "      <td>1.0</td>\n",
       "      <td>2.0</td>\n",
       "      <td>0.0</td>\n",
       "      <td>562.0</td>\n",
       "      <td>2022-09-06</td>\n",
       "      <td>6000000.0</td>\n",
       "      <td>1237.0</td>\n",
       "      <td>GB1</td>\n",
       "      <td>...</td>\n",
       "      <td>1.0</td>\n",
       "      <td>22.0</td>\n",
       "      <td>4.5</td>\n",
       "      <td>21.0</td>\n",
       "      <td>5.0</td>\n",
       "      <td>2.0</td>\n",
       "      <td>3.0</td>\n",
       "      <td>4</td>\n",
       "      <td>3.0</td>\n",
       "      <td>0.0</td>\n",
       "    </tr>\n",
       "  </tbody>\n",
       "</table>\n",
       "<p>540 rows × 26 columns</p>\n",
       "</div>"
      ],
      "text/plain": [
       "     player_id  goals  assists  yellow_cards  red_cards  minutes_played  \\\n",
       "0       3333.0    0.0      0.0           2.0        0.0           705.0   \n",
       "1       8198.0    1.0      0.0           2.0        0.0           367.0   \n",
       "2      14086.0    1.0      0.0           6.0        0.0          2037.0   \n",
       "3      16306.0    4.0      3.0           7.0        2.0          2117.0   \n",
       "4      16306.0    4.0      3.0           7.0        2.0          2117.0   \n",
       "..         ...    ...      ...           ...        ...             ...   \n",
       "535   823231.0    1.0      3.0           1.0        0.0          1245.0   \n",
       "536   823231.0    1.0      3.0           1.0        0.0          1245.0   \n",
       "537   834742.0    0.0      0.0           0.0        0.0            24.0   \n",
       "538   864799.0    1.0      0.0           2.0        0.0           508.0   \n",
       "539   983989.0    1.0      1.0           2.0        0.0           562.0   \n",
       "\n",
       "          date  market_value_in_eur  current_club_id  \\\n",
       "0   2022-11-03            2000000.0           1237.0   \n",
       "1   2023-06-12           15000000.0            985.0   \n",
       "2   2022-11-03            1000000.0             29.0   \n",
       "3   2022-09-15           50000000.0            985.0   \n",
       "4   2022-09-15           50000000.0            985.0   \n",
       "..         ...                  ...              ...   \n",
       "535 2022-11-02           10000000.0            989.0   \n",
       "536 2022-11-02           10000000.0            989.0   \n",
       "537 2023-05-15             900000.0            399.0   \n",
       "538 2023-03-16           13000000.0             31.0   \n",
       "539 2022-09-06            6000000.0           1237.0   \n",
       "\n",
       "    player_club_domestic_competition_id  ... TklDribblers   Att  Tkl%  Lost  \\\n",
       "0                                   GB1  ...         15.0  34.0  44.1  19.0   \n",
       "1                                   GB1  ...          1.0   2.0  50.0   1.0   \n",
       "2                                   GB1  ...         37.0  50.0  74.0  13.0   \n",
       "3                                   GB1  ...         47.0  92.0  51.1  45.0   \n",
       "4                                   GB1  ...          0.0   0.0   0.0   0.0   \n",
       "..                                  ...  ...          ...   ...   ...   ...   \n",
       "535                                 GB1  ...         13.0  32.0  40.6  19.0   \n",
       "536                                 GB1  ...         15.0  28.0  53.6  13.0   \n",
       "537                                 GB1  ...          0.0   0.0   0.0   0.0   \n",
       "538                                 GB1  ...          8.0  27.0  29.6  19.0   \n",
       "539                                 GB1  ...          1.0  22.0   4.5  21.0   \n",
       "\n",
       "     Blocks    Sh  Pass  Int   Clr  Err  \n",
       "0      14.0   2.0  12.0   12  15.0  0.0  \n",
       "1       0.0   0.0   0.0    1   9.0  0.0  \n",
       "2      25.0  11.0  14.0   21  65.0  0.0  \n",
       "3      49.0  11.0  38.0   34  64.0  0.0  \n",
       "4       0.0   0.0   0.0    0   1.0  0.0  \n",
       "..      ...   ...   ...  ...   ...  ...  \n",
       "535    20.0   3.0  17.0   13  29.0  1.0  \n",
       "536    24.0   6.0  18.0   19  21.0  0.0  \n",
       "537     1.0   0.0   1.0    0   1.0  0.0  \n",
       "538     7.0   0.0   7.0    9   4.0  0.0  \n",
       "539     5.0   2.0   3.0    4   3.0  0.0  \n",
       "\n",
       "[540 rows x 26 columns]"
      ]
     },
     "execution_count": 188,
     "metadata": {},
     "output_type": "execute_result"
    }
   ],
   "source": [
    "test_df = seasons_all_players[10].merge(df_def6, on='name')\n",
    "test_df"
   ]
  },
  {
   "cell_type": "markdown",
   "metadata": {},
   "source": [
    "Dodanie imion do ramki (eng + gb1)"
   ]
  },
  {
   "cell_type": "code",
   "execution_count": 189,
   "metadata": {},
   "outputs": [
    {
     "data": {
      "text/html": [
       "<div>\n",
       "<style scoped>\n",
       "    .dataframe tbody tr th:only-of-type {\n",
       "        vertical-align: middle;\n",
       "    }\n",
       "\n",
       "    .dataframe tbody tr th {\n",
       "        vertical-align: top;\n",
       "    }\n",
       "\n",
       "    .dataframe thead th {\n",
       "        text-align: right;\n",
       "    }\n",
       "</style>\n",
       "<table border=\"1\" class=\"dataframe\">\n",
       "  <thead>\n",
       "    <tr style=\"text-align: right;\">\n",
       "      <th></th>\n",
       "      <th>player_id</th>\n",
       "      <th>date</th>\n",
       "      <th>market_value_in_eur</th>\n",
       "      <th>current_club_id</th>\n",
       "      <th>player_club_domestic_competition_id</th>\n",
       "      <th>name</th>\n",
       "    </tr>\n",
       "  </thead>\n",
       "  <tbody>\n",
       "    <tr>\n",
       "      <th>0</th>\n",
       "      <td>1397</td>\n",
       "      <td>2004-10-04</td>\n",
       "      <td>30000000</td>\n",
       "      <td>512</td>\n",
       "      <td>GB1</td>\n",
       "      <td>Michael Owen</td>\n",
       "    </tr>\n",
       "    <tr>\n",
       "      <th>1</th>\n",
       "      <td>1397</td>\n",
       "      <td>2011-08-08</td>\n",
       "      <td>5000000</td>\n",
       "      <td>512</td>\n",
       "      <td>GB1</td>\n",
       "      <td>Michael Owen</td>\n",
       "    </tr>\n",
       "    <tr>\n",
       "      <th>2</th>\n",
       "      <td>1397</td>\n",
       "      <td>2011-02-01</td>\n",
       "      <td>7000000</td>\n",
       "      <td>512</td>\n",
       "      <td>GB1</td>\n",
       "      <td>Michael Owen</td>\n",
       "    </tr>\n",
       "    <tr>\n",
       "      <th>3</th>\n",
       "      <td>1397</td>\n",
       "      <td>2007-05-03</td>\n",
       "      <td>15000000</td>\n",
       "      <td>512</td>\n",
       "      <td>GB1</td>\n",
       "      <td>Michael Owen</td>\n",
       "    </tr>\n",
       "    <tr>\n",
       "      <th>4</th>\n",
       "      <td>1397</td>\n",
       "      <td>2012-02-06</td>\n",
       "      <td>2500000</td>\n",
       "      <td>512</td>\n",
       "      <td>GB1</td>\n",
       "      <td>Michael Owen</td>\n",
       "    </tr>\n",
       "    <tr>\n",
       "      <th>...</th>\n",
       "      <td>...</td>\n",
       "      <td>...</td>\n",
       "      <td>...</td>\n",
       "      <td>...</td>\n",
       "      <td>...</td>\n",
       "      <td>...</td>\n",
       "    </tr>\n",
       "    <tr>\n",
       "      <th>10981</th>\n",
       "      <td>922769</td>\n",
       "      <td>2023-10-09</td>\n",
       "      <td>2500000</td>\n",
       "      <td>762</td>\n",
       "      <td>GB1</td>\n",
       "      <td>Lewis Miley</td>\n",
       "    </tr>\n",
       "    <tr>\n",
       "      <th>10982</th>\n",
       "      <td>922769</td>\n",
       "      <td>2023-12-19</td>\n",
       "      <td>13000000</td>\n",
       "      <td>762</td>\n",
       "      <td>GB1</td>\n",
       "      <td>Lewis Miley</td>\n",
       "    </tr>\n",
       "    <tr>\n",
       "      <th>10983</th>\n",
       "      <td>933017</td>\n",
       "      <td>2022-11-03</td>\n",
       "      <td>250000</td>\n",
       "      <td>703</td>\n",
       "      <td>GB1</td>\n",
       "      <td>Zach Abbott</td>\n",
       "    </tr>\n",
       "    <tr>\n",
       "      <th>10984</th>\n",
       "      <td>936901</td>\n",
       "      <td>2022-11-03</td>\n",
       "      <td>100000</td>\n",
       "      <td>989</td>\n",
       "      <td>GB1</td>\n",
       "      <td>Dominic Sadi</td>\n",
       "    </tr>\n",
       "    <tr>\n",
       "      <th>10985</th>\n",
       "      <td>1043634</td>\n",
       "      <td>2024-03-14</td>\n",
       "      <td>200000</td>\n",
       "      <td>543</td>\n",
       "      <td>GB1</td>\n",
       "      <td>Leon Chiwome</td>\n",
       "    </tr>\n",
       "  </tbody>\n",
       "</table>\n",
       "<p>10986 rows × 6 columns</p>\n",
       "</div>"
      ],
      "text/plain": [
       "       player_id        date  market_value_in_eur  current_club_id  \\\n",
       "0           1397  2004-10-04             30000000              512   \n",
       "1           1397  2011-08-08              5000000              512   \n",
       "2           1397  2011-02-01              7000000              512   \n",
       "3           1397  2007-05-03             15000000              512   \n",
       "4           1397  2012-02-06              2500000              512   \n",
       "...          ...         ...                  ...              ...   \n",
       "10981     922769  2023-10-09              2500000              762   \n",
       "10982     922769  2023-12-19             13000000              762   \n",
       "10983     933017  2022-11-03               250000              703   \n",
       "10984     936901  2022-11-03               100000              989   \n",
       "10985    1043634  2024-03-14               200000              543   \n",
       "\n",
       "      player_club_domestic_competition_id          name  \n",
       "0                                     GB1  Michael Owen  \n",
       "1                                     GB1  Michael Owen  \n",
       "2                                     GB1  Michael Owen  \n",
       "3                                     GB1  Michael Owen  \n",
       "4                                     GB1  Michael Owen  \n",
       "...                                   ...           ...  \n",
       "10981                                 GB1   Lewis Miley  \n",
       "10982                                 GB1   Lewis Miley  \n",
       "10983                                 GB1   Zach Abbott  \n",
       "10984                                 GB1  Dominic Sadi  \n",
       "10985                                 GB1  Leon Chiwome  \n",
       "\n",
       "[10986 rows x 6 columns]"
      ]
     },
     "execution_count": 189,
     "metadata": {},
     "output_type": "execute_result"
    }
   ],
   "source": [
    "names = players[['name', 'player_id']][players['player_id'].isin(english_players.values)]\n",
    "merged = filt2_sorted.merge(names, on='player_id')\n",
    "merged"
   ]
  },
  {
   "cell_type": "code",
   "execution_count": 190,
   "metadata": {},
   "outputs": [],
   "source": [
    "for i in range(len(seasons)):\n",
    "    seasons[i] = seasons[i].merge(names, on='player_id')\n"
   ]
  },
  {
   "cell_type": "markdown",
   "metadata": {},
   "source": [
    "Dodanie wartosci pilkarzy jesli data aktualizacji ceny miesci sie w granicach sezonu."
   ]
  },
  {
   "cell_type": "code",
   "execution_count": 191,
   "metadata": {},
   "outputs": [
    {
     "name": "stderr",
     "output_type": "stream",
     "text": [
      "/var/folders/k0/npn1p10j29xbj8plvsqs20b80000gn/T/ipykernel_30866/3796747201.py:14: SettingWithCopyWarning:\n",
      "\n",
      "\n",
      "A value is trying to be set on a copy of a slice from a DataFrame.\n",
      "Try using .loc[row_indexer,col_indexer] = value instead\n",
      "\n",
      "See the caveats in the documentation: https://pandas.pydata.org/pandas-docs/stable/user_guide/indexing.html#returning-a-view-versus-a-copy\n",
      "\n",
      "/var/folders/k0/npn1p10j29xbj8plvsqs20b80000gn/T/ipykernel_30866/3796747201.py:14: SettingWithCopyWarning:\n",
      "\n",
      "\n",
      "A value is trying to be set on a copy of a slice from a DataFrame.\n",
      "Try using .loc[row_indexer,col_indexer] = value instead\n",
      "\n",
      "See the caveats in the documentation: https://pandas.pydata.org/pandas-docs/stable/user_guide/indexing.html#returning-a-view-versus-a-copy\n",
      "\n",
      "/var/folders/k0/npn1p10j29xbj8plvsqs20b80000gn/T/ipykernel_30866/3796747201.py:14: SettingWithCopyWarning:\n",
      "\n",
      "\n",
      "A value is trying to be set on a copy of a slice from a DataFrame.\n",
      "Try using .loc[row_indexer,col_indexer] = value instead\n",
      "\n",
      "See the caveats in the documentation: https://pandas.pydata.org/pandas-docs/stable/user_guide/indexing.html#returning-a-view-versus-a-copy\n",
      "\n",
      "/var/folders/k0/npn1p10j29xbj8plvsqs20b80000gn/T/ipykernel_30866/3796747201.py:14: SettingWithCopyWarning:\n",
      "\n",
      "\n",
      "A value is trying to be set on a copy of a slice from a DataFrame.\n",
      "Try using .loc[row_indexer,col_indexer] = value instead\n",
      "\n",
      "See the caveats in the documentation: https://pandas.pydata.org/pandas-docs/stable/user_guide/indexing.html#returning-a-view-versus-a-copy\n",
      "\n",
      "/var/folders/k0/npn1p10j29xbj8plvsqs20b80000gn/T/ipykernel_30866/3796747201.py:14: SettingWithCopyWarning:\n",
      "\n",
      "\n",
      "A value is trying to be set on a copy of a slice from a DataFrame.\n",
      "Try using .loc[row_indexer,col_indexer] = value instead\n",
      "\n",
      "See the caveats in the documentation: https://pandas.pydata.org/pandas-docs/stable/user_guide/indexing.html#returning-a-view-versus-a-copy\n",
      "\n",
      "/var/folders/k0/npn1p10j29xbj8plvsqs20b80000gn/T/ipykernel_30866/3796747201.py:14: SettingWithCopyWarning:\n",
      "\n",
      "\n",
      "A value is trying to be set on a copy of a slice from a DataFrame.\n",
      "Try using .loc[row_indexer,col_indexer] = value instead\n",
      "\n",
      "See the caveats in the documentation: https://pandas.pydata.org/pandas-docs/stable/user_guide/indexing.html#returning-a-view-versus-a-copy\n",
      "\n",
      "/var/folders/k0/npn1p10j29xbj8plvsqs20b80000gn/T/ipykernel_30866/3796747201.py:14: SettingWithCopyWarning:\n",
      "\n",
      "\n",
      "A value is trying to be set on a copy of a slice from a DataFrame.\n",
      "Try using .loc[row_indexer,col_indexer] = value instead\n",
      "\n",
      "See the caveats in the documentation: https://pandas.pydata.org/pandas-docs/stable/user_guide/indexing.html#returning-a-view-versus-a-copy\n",
      "\n",
      "/var/folders/k0/npn1p10j29xbj8plvsqs20b80000gn/T/ipykernel_30866/3796747201.py:14: SettingWithCopyWarning:\n",
      "\n",
      "\n",
      "A value is trying to be set on a copy of a slice from a DataFrame.\n",
      "Try using .loc[row_indexer,col_indexer] = value instead\n",
      "\n",
      "See the caveats in the documentation: https://pandas.pydata.org/pandas-docs/stable/user_guide/indexing.html#returning-a-view-versus-a-copy\n",
      "\n",
      "/var/folders/k0/npn1p10j29xbj8plvsqs20b80000gn/T/ipykernel_30866/3796747201.py:14: SettingWithCopyWarning:\n",
      "\n",
      "\n",
      "A value is trying to be set on a copy of a slice from a DataFrame.\n",
      "Try using .loc[row_indexer,col_indexer] = value instead\n",
      "\n",
      "See the caveats in the documentation: https://pandas.pydata.org/pandas-docs/stable/user_guide/indexing.html#returning-a-view-versus-a-copy\n",
      "\n",
      "/var/folders/k0/npn1p10j29xbj8plvsqs20b80000gn/T/ipykernel_30866/3796747201.py:14: SettingWithCopyWarning:\n",
      "\n",
      "\n",
      "A value is trying to be set on a copy of a slice from a DataFrame.\n",
      "Try using .loc[row_indexer,col_indexer] = value instead\n",
      "\n",
      "See the caveats in the documentation: https://pandas.pydata.org/pandas-docs/stable/user_guide/indexing.html#returning-a-view-versus-a-copy\n",
      "\n",
      "/var/folders/k0/npn1p10j29xbj8plvsqs20b80000gn/T/ipykernel_30866/3796747201.py:14: SettingWithCopyWarning:\n",
      "\n",
      "\n",
      "A value is trying to be set on a copy of a slice from a DataFrame.\n",
      "Try using .loc[row_indexer,col_indexer] = value instead\n",
      "\n",
      "See the caveats in the documentation: https://pandas.pydata.org/pandas-docs/stable/user_guide/indexing.html#returning-a-view-versus-a-copy\n",
      "\n",
      "/var/folders/k0/npn1p10j29xbj8plvsqs20b80000gn/T/ipykernel_30866/3796747201.py:14: SettingWithCopyWarning:\n",
      "\n",
      "\n",
      "A value is trying to be set on a copy of a slice from a DataFrame.\n",
      "Try using .loc[row_indexer,col_indexer] = value instead\n",
      "\n",
      "See the caveats in the documentation: https://pandas.pydata.org/pandas-docs/stable/user_guide/indexing.html#returning-a-view-versus-a-copy\n",
      "\n"
     ]
    }
   ],
   "source": [
    "start_date = '2012-08-31'\n",
    "end_date = '2013-06-14'\n",
    "merged['date'] = pd.to_datetime(merged['date'])\n",
    "start_date = pd.to_datetime(start_date)\n",
    "end_date = pd.to_datetime(end_date)\n",
    "values = []\n",
    "\n",
    "for i in range(12):\n",
    "\n",
    "    name_val = merged[(merged['date'] >= start_date) & (merged['date'] <= end_date)]\n",
    "    values.append(name_val)\n",
    "\n",
    "    temp = values[i]['player_id'].drop_duplicates(keep='first')\n",
    "    values[i]['player_id'] = temp\n",
    "    values[i] = values[i].dropna()\n",
    "    values[i] = values[i].drop(columns='name')\n",
    "    start_date += pd.DateOffset(years=1)\n",
    "    end_date += pd.DateOffset(years=1)"
   ]
  },
  {
   "cell_type": "code",
   "execution_count": 192,
   "metadata": {},
   "outputs": [],
   "source": [
    "for i in range(len(seasons)):\n",
    "    seasons[i] = pd.merge(seasons[i], values[i], on='player_id', how='outer')\n",
    "    seasons[i] = seasons[i].dropna()"
   ]
  },
  {
   "cell_type": "code",
   "execution_count": 193,
   "metadata": {},
   "outputs": [],
   "source": [
    "# start_date = '2012-08-31'\n",
    "# end_date = '2013-06-14'\n",
    "# date = merged_all_players['date']\n",
    "# date = pd.to_datetime(date)\n",
    "\n",
    "# start_date = pd.to_datetime(start_date)\n",
    "# end_date = pd.to_datetime(end_date)\n",
    "# prices = {}\n",
    "\n",
    "# for y in range(len(seasons_all_players)):\n",
    "#     for x in range(len(merged_all_players['date'])):\n",
    "#         if ((date.iloc[x] >= start_date) & (date.iloc[x] <= end_date)):\n",
    "#             prices[merged_all_players['player_id'].iloc[x]] = merged_all_players['market_value_in_eur'].iloc[x]\n",
    "#             df_prices = pd.DataFrame(list(prices.items()), columns=['player_id', 'market_value_in_eur'])\n",
    "#     seasons_all_players[y] = seasons_all_players[y].merge(df_prices, on='player_id', how='outer')        \n",
    "#     start_date += pd.DateOffset(years=1)\n",
    "#     end_date += pd.DateOffset(years=1)"
   ]
  },
  {
   "cell_type": "code",
   "execution_count": 194,
   "metadata": {},
   "outputs": [],
   "source": [
    "# for season in seasons_all_players:\n",
    "#     season.dropna(inplace=True)"
   ]
  },
  {
   "cell_type": "code",
   "execution_count": 195,
   "metadata": {},
   "outputs": [],
   "source": [
    "for season in seasons:\n",
    "    season.dropna(inplace=True)\n",
    "\n",
    "for season in seasons_all_players:\n",
    "    season.dropna(inplace=True)"
   ]
  },
  {
   "cell_type": "code",
   "execution_count": 196,
   "metadata": {},
   "outputs": [
    {
     "data": {
      "text/plain": [
       "Index(['player_id', 'goals', 'assists', 'yellow_cards', 'red_cards',\n",
       "       'minutes_played', 'date', 'market_value_in_eur', 'current_club_id',\n",
       "       'player_club_domestic_competition_id', 'name'],\n",
       "      dtype='object')"
      ]
     },
     "execution_count": 196,
     "metadata": {},
     "output_type": "execute_result"
    }
   ],
   "source": [
    "seasons_all_players[0].columns"
   ]
  },
  {
   "cell_type": "code",
   "execution_count": 197,
   "metadata": {},
   "outputs": [
    {
     "data": {
      "text/html": [
       "<div>\n",
       "<style scoped>\n",
       "    .dataframe tbody tr th:only-of-type {\n",
       "        vertical-align: middle;\n",
       "    }\n",
       "\n",
       "    .dataframe tbody tr th {\n",
       "        vertical-align: top;\n",
       "    }\n",
       "\n",
       "    .dataframe thead th {\n",
       "        text-align: right;\n",
       "    }\n",
       "</style>\n",
       "<table border=\"1\" class=\"dataframe\">\n",
       "  <thead>\n",
       "    <tr style=\"text-align: right;\">\n",
       "      <th></th>\n",
       "      <th>player_id</th>\n",
       "      <th>goals</th>\n",
       "      <th>assists</th>\n",
       "      <th>yellow_cards</th>\n",
       "      <th>red_cards</th>\n",
       "      <th>minutes_played</th>\n",
       "      <th>name</th>\n",
       "      <th>date</th>\n",
       "      <th>market_value_in_eur</th>\n",
       "      <th>current_club_id</th>\n",
       "      <th>player_club_domestic_competition_id</th>\n",
       "    </tr>\n",
       "  </thead>\n",
       "  <tbody>\n",
       "    <tr>\n",
       "      <th>0</th>\n",
       "      <td>1397.0</td>\n",
       "      <td>1.0</td>\n",
       "      <td>0.0</td>\n",
       "      <td>0.0</td>\n",
       "      <td>0.0</td>\n",
       "      <td>94.0</td>\n",
       "      <td>Michael Owen</td>\n",
       "      <td>2013-01-28</td>\n",
       "      <td>1000000.0</td>\n",
       "      <td>512.0</td>\n",
       "      <td>GB1</td>\n",
       "    </tr>\n",
       "    <tr>\n",
       "      <th>1</th>\n",
       "      <td>3109.0</td>\n",
       "      <td>10.0</td>\n",
       "      <td>8.0</td>\n",
       "      <td>5.0</td>\n",
       "      <td>0.0</td>\n",
       "      <td>3042.0</td>\n",
       "      <td>Steven Gerrard</td>\n",
       "      <td>2013-01-28</td>\n",
       "      <td>11500000.0</td>\n",
       "      <td>31.0</td>\n",
       "      <td>GB1</td>\n",
       "    </tr>\n",
       "    <tr>\n",
       "      <th>2</th>\n",
       "      <td>3118.0</td>\n",
       "      <td>0.0</td>\n",
       "      <td>1.0</td>\n",
       "      <td>1.0</td>\n",
       "      <td>0.0</td>\n",
       "      <td>196.0</td>\n",
       "      <td>Kieron Dyer</td>\n",
       "      <td>2013-03-02</td>\n",
       "      <td>500000.0</td>\n",
       "      <td>1039.0</td>\n",
       "      <td>GB1</td>\n",
       "    </tr>\n",
       "    <tr>\n",
       "      <th>4</th>\n",
       "      <td>3130.0</td>\n",
       "      <td>0.0</td>\n",
       "      <td>0.0</td>\n",
       "      <td>3.0</td>\n",
       "      <td>0.0</td>\n",
       "      <td>1181.0</td>\n",
       "      <td>Titus Bramble</td>\n",
       "      <td>2013-01-28</td>\n",
       "      <td>2000000.0</td>\n",
       "      <td>289.0</td>\n",
       "      <td>GB1</td>\n",
       "    </tr>\n",
       "    <tr>\n",
       "      <th>6</th>\n",
       "      <td>3160.0</td>\n",
       "      <td>4.0</td>\n",
       "      <td>0.0</td>\n",
       "      <td>1.0</td>\n",
       "      <td>0.0</td>\n",
       "      <td>769.0</td>\n",
       "      <td>John Terry</td>\n",
       "      <td>2013-01-28</td>\n",
       "      <td>12000000.0</td>\n",
       "      <td>631.0</td>\n",
       "      <td>GB1</td>\n",
       "    </tr>\n",
       "    <tr>\n",
       "      <th>...</th>\n",
       "      <td>...</td>\n",
       "      <td>...</td>\n",
       "      <td>...</td>\n",
       "      <td>...</td>\n",
       "      <td>...</td>\n",
       "      <td>...</td>\n",
       "      <td>...</td>\n",
       "      <td>...</td>\n",
       "      <td>...</td>\n",
       "      <td>...</td>\n",
       "      <td>...</td>\n",
       "    </tr>\n",
       "    <tr>\n",
       "      <th>233</th>\n",
       "      <td>128912.0</td>\n",
       "      <td>0.0</td>\n",
       "      <td>1.0</td>\n",
       "      <td>0.0</td>\n",
       "      <td>0.0</td>\n",
       "      <td>1015.0</td>\n",
       "      <td>Andre Wisdom</td>\n",
       "      <td>2012-11-06</td>\n",
       "      <td>500000.0</td>\n",
       "      <td>31.0</td>\n",
       "      <td>GB1</td>\n",
       "    </tr>\n",
       "    <tr>\n",
       "      <th>240</th>\n",
       "      <td>134424.0</td>\n",
       "      <td>1.0</td>\n",
       "      <td>0.0</td>\n",
       "      <td>0.0</td>\n",
       "      <td>0.0</td>\n",
       "      <td>30.0</td>\n",
       "      <td>Nick Powell</td>\n",
       "      <td>2013-01-28</td>\n",
       "      <td>5000000.0</td>\n",
       "      <td>985.0</td>\n",
       "      <td>GB1</td>\n",
       "    </tr>\n",
       "    <tr>\n",
       "      <th>241</th>\n",
       "      <td>134425.0</td>\n",
       "      <td>2.0</td>\n",
       "      <td>6.0</td>\n",
       "      <td>1.0</td>\n",
       "      <td>0.0</td>\n",
       "      <td>1658.0</td>\n",
       "      <td>Raheem Sterling</td>\n",
       "      <td>2013-01-28</td>\n",
       "      <td>11500000.0</td>\n",
       "      <td>631.0</td>\n",
       "      <td>GB1</td>\n",
       "    </tr>\n",
       "    <tr>\n",
       "      <th>250</th>\n",
       "      <td>181579.0</td>\n",
       "      <td>0.0</td>\n",
       "      <td>1.0</td>\n",
       "      <td>0.0</td>\n",
       "      <td>0.0</td>\n",
       "      <td>403.0</td>\n",
       "      <td>James Ward-Prowse</td>\n",
       "      <td>2012-09-28</td>\n",
       "      <td>500000.0</td>\n",
       "      <td>379.0</td>\n",
       "      <td>GB1</td>\n",
       "    </tr>\n",
       "    <tr>\n",
       "      <th>251</th>\n",
       "      <td>183288.0</td>\n",
       "      <td>0.0</td>\n",
       "      <td>0.0</td>\n",
       "      <td>2.0</td>\n",
       "      <td>0.0</td>\n",
       "      <td>1951.0</td>\n",
       "      <td>Luke Shaw</td>\n",
       "      <td>2013-01-28</td>\n",
       "      <td>4500000.0</td>\n",
       "      <td>985.0</td>\n",
       "      <td>GB1</td>\n",
       "    </tr>\n",
       "  </tbody>\n",
       "</table>\n",
       "<p>134 rows × 11 columns</p>\n",
       "</div>"
      ],
      "text/plain": [
       "     player_id  goals  assists  yellow_cards  red_cards  minutes_played  \\\n",
       "0       1397.0    1.0      0.0           0.0        0.0            94.0   \n",
       "1       3109.0   10.0      8.0           5.0        0.0          3042.0   \n",
       "2       3118.0    0.0      1.0           1.0        0.0           196.0   \n",
       "4       3130.0    0.0      0.0           3.0        0.0          1181.0   \n",
       "6       3160.0    4.0      0.0           1.0        0.0           769.0   \n",
       "..         ...    ...      ...           ...        ...             ...   \n",
       "233   128912.0    0.0      1.0           0.0        0.0          1015.0   \n",
       "240   134424.0    1.0      0.0           0.0        0.0            30.0   \n",
       "241   134425.0    2.0      6.0           1.0        0.0          1658.0   \n",
       "250   181579.0    0.0      1.0           0.0        0.0           403.0   \n",
       "251   183288.0    0.0      0.0           2.0        0.0          1951.0   \n",
       "\n",
       "                  name       date  market_value_in_eur  current_club_id  \\\n",
       "0         Michael Owen 2013-01-28            1000000.0            512.0   \n",
       "1       Steven Gerrard 2013-01-28           11500000.0             31.0   \n",
       "2          Kieron Dyer 2013-03-02             500000.0           1039.0   \n",
       "4        Titus Bramble 2013-01-28            2000000.0            289.0   \n",
       "6           John Terry 2013-01-28           12000000.0            631.0   \n",
       "..                 ...        ...                  ...              ...   \n",
       "233       Andre Wisdom 2012-11-06             500000.0             31.0   \n",
       "240        Nick Powell 2013-01-28            5000000.0            985.0   \n",
       "241    Raheem Sterling 2013-01-28           11500000.0            631.0   \n",
       "250  James Ward-Prowse 2012-09-28             500000.0            379.0   \n",
       "251          Luke Shaw 2013-01-28            4500000.0            985.0   \n",
       "\n",
       "    player_club_domestic_competition_id  \n",
       "0                                   GB1  \n",
       "1                                   GB1  \n",
       "2                                   GB1  \n",
       "4                                   GB1  \n",
       "6                                   GB1  \n",
       "..                                  ...  \n",
       "233                                 GB1  \n",
       "240                                 GB1  \n",
       "241                                 GB1  \n",
       "250                                 GB1  \n",
       "251                                 GB1  \n",
       "\n",
       "[134 rows x 11 columns]"
      ]
     },
     "execution_count": 197,
     "metadata": {},
     "output_type": "execute_result"
    }
   ],
   "source": [
    "seasons[0]"
   ]
  },
  {
   "cell_type": "code",
   "execution_count": 198,
   "metadata": {},
   "outputs": [],
   "source": [
    "def value_goals(name):\n",
    "    fig = px.scatter()\n",
    "\n",
    "    for i in range(len(seasons)):\n",
    "        fig.add_scatter(x=seasons[i]['goals'][seasons[i]['name'] == name], y=seasons[i]['market_value_in_eur'][seasons[i]['name'] == name], mode='markers', name=f'Season {2012 + i}/{2013+i}')\n",
    "\n",
    "    fig.update_layout(title=f'Market value of {name}',\n",
    "                  xaxis_title='Goals',\n",
    "                  yaxis_title='Market value in eur')\n",
    "\n",
    "    fig.show()"
   ]
  },
  {
   "cell_type": "code",
   "execution_count": 199,
   "metadata": {},
   "outputs": [
    {
     "data": {
      "application/vnd.plotly.v1+json": {
       "config": {
        "plotlyServerURL": "https://plot.ly"
       },
       "data": [
        {
         "hovertemplate": "<extra></extra>",
         "legendgroup": "",
         "marker": {
          "color": "#636efa",
          "symbol": "circle"
         },
         "mode": "markers",
         "name": "",
         "orientation": "v",
         "showlegend": false,
         "type": "scatter",
         "xaxis": "x",
         "yaxis": "y"
        },
        {
         "mode": "markers",
         "name": "Season 2012/2013",
         "type": "scatter",
         "x": [],
         "y": []
        },
        {
         "mode": "markers",
         "name": "Season 2013/2014",
         "type": "scatter",
         "x": [],
         "y": []
        },
        {
         "mode": "markers",
         "name": "Season 2014/2015",
         "type": "scatter",
         "x": [],
         "y": []
        },
        {
         "mode": "markers",
         "name": "Season 2015/2016",
         "type": "scatter",
         "x": [
          5
         ],
         "y": [
          3000000
         ]
        },
        {
         "mode": "markers",
         "name": "Season 2016/2017",
         "type": "scatter",
         "x": [
          4
         ],
         "y": [
          10000000
         ]
        },
        {
         "mode": "markers",
         "name": "Season 2017/2018",
         "type": "scatter",
         "x": [
          6
         ],
         "y": [
          50000000
         ]
        },
        {
         "mode": "markers",
         "name": "Season 2018/2019",
         "type": "scatter",
         "x": [
          10
         ],
         "y": [
          65000000
         ]
        },
        {
         "mode": "markers",
         "name": "Season 2019/2020",
         "type": "scatter",
         "x": [
          12
         ],
         "y": [
          80000000
         ]
        },
        {
         "mode": "markers",
         "name": "Season 2020/2021",
         "type": "scatter",
         "x": [
          11
         ],
         "y": [
          80000000
         ]
        },
        {
         "mode": "markers",
         "name": "Season 2021/2022",
         "type": "scatter",
         "x": [
          4
         ],
         "y": [
          85000000
         ]
        },
        {
         "mode": "markers",
         "name": "Season 2022/2023",
         "type": "scatter",
         "x": [
          16
         ],
         "y": [
          55000000
         ]
        },
        {
         "mode": "markers",
         "name": "Season 2023/2024",
         "type": "scatter",
         "x": [
          7
         ],
         "y": [
          70000000
         ]
        }
       ],
       "layout": {
        "legend": {
         "tracegroupgap": 0
        },
        "margin": {
         "t": 60
        },
        "template": {
         "data": {
          "bar": [
           {
            "error_x": {
             "color": "#2a3f5f"
            },
            "error_y": {
             "color": "#2a3f5f"
            },
            "marker": {
             "line": {
              "color": "#E5ECF6",
              "width": 0.5
             },
             "pattern": {
              "fillmode": "overlay",
              "size": 10,
              "solidity": 0.2
             }
            },
            "type": "bar"
           }
          ],
          "barpolar": [
           {
            "marker": {
             "line": {
              "color": "#E5ECF6",
              "width": 0.5
             },
             "pattern": {
              "fillmode": "overlay",
              "size": 10,
              "solidity": 0.2
             }
            },
            "type": "barpolar"
           }
          ],
          "carpet": [
           {
            "aaxis": {
             "endlinecolor": "#2a3f5f",
             "gridcolor": "white",
             "linecolor": "white",
             "minorgridcolor": "white",
             "startlinecolor": "#2a3f5f"
            },
            "baxis": {
             "endlinecolor": "#2a3f5f",
             "gridcolor": "white",
             "linecolor": "white",
             "minorgridcolor": "white",
             "startlinecolor": "#2a3f5f"
            },
            "type": "carpet"
           }
          ],
          "choropleth": [
           {
            "colorbar": {
             "outlinewidth": 0,
             "ticks": ""
            },
            "type": "choropleth"
           }
          ],
          "contour": [
           {
            "colorbar": {
             "outlinewidth": 0,
             "ticks": ""
            },
            "colorscale": [
             [
              0,
              "#0d0887"
             ],
             [
              0.1111111111111111,
              "#46039f"
             ],
             [
              0.2222222222222222,
              "#7201a8"
             ],
             [
              0.3333333333333333,
              "#9c179e"
             ],
             [
              0.4444444444444444,
              "#bd3786"
             ],
             [
              0.5555555555555556,
              "#d8576b"
             ],
             [
              0.6666666666666666,
              "#ed7953"
             ],
             [
              0.7777777777777778,
              "#fb9f3a"
             ],
             [
              0.8888888888888888,
              "#fdca26"
             ],
             [
              1,
              "#f0f921"
             ]
            ],
            "type": "contour"
           }
          ],
          "contourcarpet": [
           {
            "colorbar": {
             "outlinewidth": 0,
             "ticks": ""
            },
            "type": "contourcarpet"
           }
          ],
          "heatmap": [
           {
            "colorbar": {
             "outlinewidth": 0,
             "ticks": ""
            },
            "colorscale": [
             [
              0,
              "#0d0887"
             ],
             [
              0.1111111111111111,
              "#46039f"
             ],
             [
              0.2222222222222222,
              "#7201a8"
             ],
             [
              0.3333333333333333,
              "#9c179e"
             ],
             [
              0.4444444444444444,
              "#bd3786"
             ],
             [
              0.5555555555555556,
              "#d8576b"
             ],
             [
              0.6666666666666666,
              "#ed7953"
             ],
             [
              0.7777777777777778,
              "#fb9f3a"
             ],
             [
              0.8888888888888888,
              "#fdca26"
             ],
             [
              1,
              "#f0f921"
             ]
            ],
            "type": "heatmap"
           }
          ],
          "heatmapgl": [
           {
            "colorbar": {
             "outlinewidth": 0,
             "ticks": ""
            },
            "colorscale": [
             [
              0,
              "#0d0887"
             ],
             [
              0.1111111111111111,
              "#46039f"
             ],
             [
              0.2222222222222222,
              "#7201a8"
             ],
             [
              0.3333333333333333,
              "#9c179e"
             ],
             [
              0.4444444444444444,
              "#bd3786"
             ],
             [
              0.5555555555555556,
              "#d8576b"
             ],
             [
              0.6666666666666666,
              "#ed7953"
             ],
             [
              0.7777777777777778,
              "#fb9f3a"
             ],
             [
              0.8888888888888888,
              "#fdca26"
             ],
             [
              1,
              "#f0f921"
             ]
            ],
            "type": "heatmapgl"
           }
          ],
          "histogram": [
           {
            "marker": {
             "pattern": {
              "fillmode": "overlay",
              "size": 10,
              "solidity": 0.2
             }
            },
            "type": "histogram"
           }
          ],
          "histogram2d": [
           {
            "colorbar": {
             "outlinewidth": 0,
             "ticks": ""
            },
            "colorscale": [
             [
              0,
              "#0d0887"
             ],
             [
              0.1111111111111111,
              "#46039f"
             ],
             [
              0.2222222222222222,
              "#7201a8"
             ],
             [
              0.3333333333333333,
              "#9c179e"
             ],
             [
              0.4444444444444444,
              "#bd3786"
             ],
             [
              0.5555555555555556,
              "#d8576b"
             ],
             [
              0.6666666666666666,
              "#ed7953"
             ],
             [
              0.7777777777777778,
              "#fb9f3a"
             ],
             [
              0.8888888888888888,
              "#fdca26"
             ],
             [
              1,
              "#f0f921"
             ]
            ],
            "type": "histogram2d"
           }
          ],
          "histogram2dcontour": [
           {
            "colorbar": {
             "outlinewidth": 0,
             "ticks": ""
            },
            "colorscale": [
             [
              0,
              "#0d0887"
             ],
             [
              0.1111111111111111,
              "#46039f"
             ],
             [
              0.2222222222222222,
              "#7201a8"
             ],
             [
              0.3333333333333333,
              "#9c179e"
             ],
             [
              0.4444444444444444,
              "#bd3786"
             ],
             [
              0.5555555555555556,
              "#d8576b"
             ],
             [
              0.6666666666666666,
              "#ed7953"
             ],
             [
              0.7777777777777778,
              "#fb9f3a"
             ],
             [
              0.8888888888888888,
              "#fdca26"
             ],
             [
              1,
              "#f0f921"
             ]
            ],
            "type": "histogram2dcontour"
           }
          ],
          "mesh3d": [
           {
            "colorbar": {
             "outlinewidth": 0,
             "ticks": ""
            },
            "type": "mesh3d"
           }
          ],
          "parcoords": [
           {
            "line": {
             "colorbar": {
              "outlinewidth": 0,
              "ticks": ""
             }
            },
            "type": "parcoords"
           }
          ],
          "pie": [
           {
            "automargin": true,
            "type": "pie"
           }
          ],
          "scatter": [
           {
            "fillpattern": {
             "fillmode": "overlay",
             "size": 10,
             "solidity": 0.2
            },
            "type": "scatter"
           }
          ],
          "scatter3d": [
           {
            "line": {
             "colorbar": {
              "outlinewidth": 0,
              "ticks": ""
             }
            },
            "marker": {
             "colorbar": {
              "outlinewidth": 0,
              "ticks": ""
             }
            },
            "type": "scatter3d"
           }
          ],
          "scattercarpet": [
           {
            "marker": {
             "colorbar": {
              "outlinewidth": 0,
              "ticks": ""
             }
            },
            "type": "scattercarpet"
           }
          ],
          "scattergeo": [
           {
            "marker": {
             "colorbar": {
              "outlinewidth": 0,
              "ticks": ""
             }
            },
            "type": "scattergeo"
           }
          ],
          "scattergl": [
           {
            "marker": {
             "colorbar": {
              "outlinewidth": 0,
              "ticks": ""
             }
            },
            "type": "scattergl"
           }
          ],
          "scattermapbox": [
           {
            "marker": {
             "colorbar": {
              "outlinewidth": 0,
              "ticks": ""
             }
            },
            "type": "scattermapbox"
           }
          ],
          "scatterpolar": [
           {
            "marker": {
             "colorbar": {
              "outlinewidth": 0,
              "ticks": ""
             }
            },
            "type": "scatterpolar"
           }
          ],
          "scatterpolargl": [
           {
            "marker": {
             "colorbar": {
              "outlinewidth": 0,
              "ticks": ""
             }
            },
            "type": "scatterpolargl"
           }
          ],
          "scatterternary": [
           {
            "marker": {
             "colorbar": {
              "outlinewidth": 0,
              "ticks": ""
             }
            },
            "type": "scatterternary"
           }
          ],
          "surface": [
           {
            "colorbar": {
             "outlinewidth": 0,
             "ticks": ""
            },
            "colorscale": [
             [
              0,
              "#0d0887"
             ],
             [
              0.1111111111111111,
              "#46039f"
             ],
             [
              0.2222222222222222,
              "#7201a8"
             ],
             [
              0.3333333333333333,
              "#9c179e"
             ],
             [
              0.4444444444444444,
              "#bd3786"
             ],
             [
              0.5555555555555556,
              "#d8576b"
             ],
             [
              0.6666666666666666,
              "#ed7953"
             ],
             [
              0.7777777777777778,
              "#fb9f3a"
             ],
             [
              0.8888888888888888,
              "#fdca26"
             ],
             [
              1,
              "#f0f921"
             ]
            ],
            "type": "surface"
           }
          ],
          "table": [
           {
            "cells": {
             "fill": {
              "color": "#EBF0F8"
             },
             "line": {
              "color": "white"
             }
            },
            "header": {
             "fill": {
              "color": "#C8D4E3"
             },
             "line": {
              "color": "white"
             }
            },
            "type": "table"
           }
          ]
         },
         "layout": {
          "annotationdefaults": {
           "arrowcolor": "#2a3f5f",
           "arrowhead": 0,
           "arrowwidth": 1
          },
          "autotypenumbers": "strict",
          "coloraxis": {
           "colorbar": {
            "outlinewidth": 0,
            "ticks": ""
           }
          },
          "colorscale": {
           "diverging": [
            [
             0,
             "#8e0152"
            ],
            [
             0.1,
             "#c51b7d"
            ],
            [
             0.2,
             "#de77ae"
            ],
            [
             0.3,
             "#f1b6da"
            ],
            [
             0.4,
             "#fde0ef"
            ],
            [
             0.5,
             "#f7f7f7"
            ],
            [
             0.6,
             "#e6f5d0"
            ],
            [
             0.7,
             "#b8e186"
            ],
            [
             0.8,
             "#7fbc41"
            ],
            [
             0.9,
             "#4d9221"
            ],
            [
             1,
             "#276419"
            ]
           ],
           "sequential": [
            [
             0,
             "#0d0887"
            ],
            [
             0.1111111111111111,
             "#46039f"
            ],
            [
             0.2222222222222222,
             "#7201a8"
            ],
            [
             0.3333333333333333,
             "#9c179e"
            ],
            [
             0.4444444444444444,
             "#bd3786"
            ],
            [
             0.5555555555555556,
             "#d8576b"
            ],
            [
             0.6666666666666666,
             "#ed7953"
            ],
            [
             0.7777777777777778,
             "#fb9f3a"
            ],
            [
             0.8888888888888888,
             "#fdca26"
            ],
            [
             1,
             "#f0f921"
            ]
           ],
           "sequentialminus": [
            [
             0,
             "#0d0887"
            ],
            [
             0.1111111111111111,
             "#46039f"
            ],
            [
             0.2222222222222222,
             "#7201a8"
            ],
            [
             0.3333333333333333,
             "#9c179e"
            ],
            [
             0.4444444444444444,
             "#bd3786"
            ],
            [
             0.5555555555555556,
             "#d8576b"
            ],
            [
             0.6666666666666666,
             "#ed7953"
            ],
            [
             0.7777777777777778,
             "#fb9f3a"
            ],
            [
             0.8888888888888888,
             "#fdca26"
            ],
            [
             1,
             "#f0f921"
            ]
           ]
          },
          "colorway": [
           "#636efa",
           "#EF553B",
           "#00cc96",
           "#ab63fa",
           "#FFA15A",
           "#19d3f3",
           "#FF6692",
           "#B6E880",
           "#FF97FF",
           "#FECB52"
          ],
          "font": {
           "color": "#2a3f5f"
          },
          "geo": {
           "bgcolor": "white",
           "lakecolor": "white",
           "landcolor": "#E5ECF6",
           "showlakes": true,
           "showland": true,
           "subunitcolor": "white"
          },
          "hoverlabel": {
           "align": "left"
          },
          "hovermode": "closest",
          "mapbox": {
           "style": "light"
          },
          "paper_bgcolor": "white",
          "plot_bgcolor": "#E5ECF6",
          "polar": {
           "angularaxis": {
            "gridcolor": "white",
            "linecolor": "white",
            "ticks": ""
           },
           "bgcolor": "#E5ECF6",
           "radialaxis": {
            "gridcolor": "white",
            "linecolor": "white",
            "ticks": ""
           }
          },
          "scene": {
           "xaxis": {
            "backgroundcolor": "#E5ECF6",
            "gridcolor": "white",
            "gridwidth": 2,
            "linecolor": "white",
            "showbackground": true,
            "ticks": "",
            "zerolinecolor": "white"
           },
           "yaxis": {
            "backgroundcolor": "#E5ECF6",
            "gridcolor": "white",
            "gridwidth": 2,
            "linecolor": "white",
            "showbackground": true,
            "ticks": "",
            "zerolinecolor": "white"
           },
           "zaxis": {
            "backgroundcolor": "#E5ECF6",
            "gridcolor": "white",
            "gridwidth": 2,
            "linecolor": "white",
            "showbackground": true,
            "ticks": "",
            "zerolinecolor": "white"
           }
          },
          "shapedefaults": {
           "line": {
            "color": "#2a3f5f"
           }
          },
          "ternary": {
           "aaxis": {
            "gridcolor": "white",
            "linecolor": "white",
            "ticks": ""
           },
           "baxis": {
            "gridcolor": "white",
            "linecolor": "white",
            "ticks": ""
           },
           "bgcolor": "#E5ECF6",
           "caxis": {
            "gridcolor": "white",
            "linecolor": "white",
            "ticks": ""
           }
          },
          "title": {
           "x": 0.05
          },
          "xaxis": {
           "automargin": true,
           "gridcolor": "white",
           "linecolor": "white",
           "ticks": "",
           "title": {
            "standoff": 15
           },
           "zerolinecolor": "white",
           "zerolinewidth": 2
          },
          "yaxis": {
           "automargin": true,
           "gridcolor": "white",
           "linecolor": "white",
           "ticks": "",
           "title": {
            "standoff": 15
           },
           "zerolinecolor": "white",
           "zerolinewidth": 2
          }
         }
        },
        "title": {
         "text": "Market value of Marcus Rashford"
        },
        "xaxis": {
         "anchor": "y",
         "domain": [
          0,
          1
         ],
         "title": {
          "text": "Goals"
         }
        },
        "yaxis": {
         "anchor": "x",
         "domain": [
          0,
          1
         ],
         "title": {
          "text": "Market value in eur"
         }
        }
       }
      }
     },
     "metadata": {},
     "output_type": "display_data"
    }
   ],
   "source": [
    "value_goals('Marcus Rashford')\n"
   ]
  },
  {
   "cell_type": "code",
   "execution_count": 200,
   "metadata": {},
   "outputs": [],
   "source": [
    "def stats(name):\n",
    "    \n",
    "\n",
    "    data = []\n",
    "    for i, season in enumerate(seasons):\n",
    "        player_data = season[season['name'] == name]\n",
    "        if not player_data.empty:\n",
    "            season_data = {\n",
    "                'season': f'Season {2012 + i}/{2013 + i}',\n",
    "                'goals': player_data['goals'].values[0],\n",
    "                'assists': player_data['assists'].values[0],\n",
    "                'yellow_cards': player_data['yellow_cards'].values[0],\n",
    "                'red_cards': player_data['red_cards'].values[0],\n",
    "                'market_value_in_eur': player_data['market_value_in_eur'].values[0] / 1000000\n",
    "            }\n",
    "            data.append(season_data)\n",
    "    df = pd.DataFrame(data)\n",
    "    fig = go.Figure()\n",
    "\n",
    "    fig.add_trace(go.Bar(\n",
    "        x=df['season'],\n",
    "        y=df['goals'],\n",
    "        name='Goals'\n",
    "    ))\n",
    "\n",
    "    fig.add_trace(go.Bar(\n",
    "        x=df['season'],\n",
    "        y=df['assists'],\n",
    "        name='Assists'\n",
    "    ))\n",
    "\n",
    "    fig.add_trace(go.Bar(\n",
    "        x=df['season'],\n",
    "        y=df['yellow_cards'],\n",
    "        name='Yellow Cards'\n",
    "    ))\n",
    "\n",
    "    fig.add_trace(go.Bar(\n",
    "        x=df['season'],\n",
    "        y=df['red_cards'],\n",
    "        name='Red Cards'\n",
    "    ))\n",
    "\n",
    "    fig.add_trace(go.Bar(\n",
    "        x=df['season'],\n",
    "        y=df['market_value_in_eur'],\n",
    "        name='Value'\n",
    "    ))\n",
    "\n",
    "    fig.update_layout(\n",
    "        title=f'Statistics of {name} Over Seasons',\n",
    "        xaxis_title='Season',\n",
    "        yaxis_title='Count',\n",
    "        barmode='group',\n",
    "        legend_title='Statistics'\n",
    "    )\n",
    "\n",
    "    fig.show()\n"
   ]
  },
  {
   "cell_type": "code",
   "execution_count": 201,
   "metadata": {},
   "outputs": [
    {
     "data": {
      "application/vnd.plotly.v1+json": {
       "config": {
        "plotlyServerURL": "https://plot.ly"
       },
       "data": [
        {
         "name": "Goals",
         "type": "bar",
         "x": [
          "Season 2015/2016",
          "Season 2016/2017",
          "Season 2017/2018",
          "Season 2018/2019",
          "Season 2019/2020",
          "Season 2020/2021",
          "Season 2021/2022",
          "Season 2022/2023",
          "Season 2023/2024"
         ],
         "y": [
          5,
          4,
          6,
          10,
          12,
          11,
          4,
          16,
          7
         ]
        },
        {
         "name": "Assists",
         "type": "bar",
         "x": [
          "Season 2015/2016",
          "Season 2016/2017",
          "Season 2017/2018",
          "Season 2018/2019",
          "Season 2019/2020",
          "Season 2020/2021",
          "Season 2021/2022",
          "Season 2022/2023",
          "Season 2023/2024"
         ],
         "y": [
          2,
          2,
          4,
          9,
          4,
          11,
          2,
          5,
          1
         ]
        },
        {
         "name": "Yellow Cards",
         "type": "bar",
         "x": [
          "Season 2015/2016",
          "Season 2016/2017",
          "Season 2017/2018",
          "Season 2018/2019",
          "Season 2019/2020",
          "Season 2020/2021",
          "Season 2021/2022",
          "Season 2022/2023",
          "Season 2023/2024"
         ],
         "y": [
          0,
          2,
          3,
          3,
          2,
          4,
          2,
          1,
          1
         ]
        },
        {
         "name": "Red Cards",
         "type": "bar",
         "x": [
          "Season 2015/2016",
          "Season 2016/2017",
          "Season 2017/2018",
          "Season 2018/2019",
          "Season 2019/2020",
          "Season 2020/2021",
          "Season 2021/2022",
          "Season 2022/2023",
          "Season 2023/2024"
         ],
         "y": [
          0,
          0,
          0,
          1,
          0,
          0,
          0,
          0,
          0
         ]
        },
        {
         "name": "Value",
         "type": "bar",
         "x": [
          "Season 2015/2016",
          "Season 2016/2017",
          "Season 2017/2018",
          "Season 2018/2019",
          "Season 2019/2020",
          "Season 2020/2021",
          "Season 2021/2022",
          "Season 2022/2023",
          "Season 2023/2024"
         ],
         "y": [
          3,
          10,
          50,
          65,
          80,
          80,
          85,
          55,
          70
         ]
        }
       ],
       "layout": {
        "barmode": "group",
        "legend": {
         "title": {
          "text": "Statistics"
         }
        },
        "template": {
         "data": {
          "bar": [
           {
            "error_x": {
             "color": "#2a3f5f"
            },
            "error_y": {
             "color": "#2a3f5f"
            },
            "marker": {
             "line": {
              "color": "#E5ECF6",
              "width": 0.5
             },
             "pattern": {
              "fillmode": "overlay",
              "size": 10,
              "solidity": 0.2
             }
            },
            "type": "bar"
           }
          ],
          "barpolar": [
           {
            "marker": {
             "line": {
              "color": "#E5ECF6",
              "width": 0.5
             },
             "pattern": {
              "fillmode": "overlay",
              "size": 10,
              "solidity": 0.2
             }
            },
            "type": "barpolar"
           }
          ],
          "carpet": [
           {
            "aaxis": {
             "endlinecolor": "#2a3f5f",
             "gridcolor": "white",
             "linecolor": "white",
             "minorgridcolor": "white",
             "startlinecolor": "#2a3f5f"
            },
            "baxis": {
             "endlinecolor": "#2a3f5f",
             "gridcolor": "white",
             "linecolor": "white",
             "minorgridcolor": "white",
             "startlinecolor": "#2a3f5f"
            },
            "type": "carpet"
           }
          ],
          "choropleth": [
           {
            "colorbar": {
             "outlinewidth": 0,
             "ticks": ""
            },
            "type": "choropleth"
           }
          ],
          "contour": [
           {
            "colorbar": {
             "outlinewidth": 0,
             "ticks": ""
            },
            "colorscale": [
             [
              0,
              "#0d0887"
             ],
             [
              0.1111111111111111,
              "#46039f"
             ],
             [
              0.2222222222222222,
              "#7201a8"
             ],
             [
              0.3333333333333333,
              "#9c179e"
             ],
             [
              0.4444444444444444,
              "#bd3786"
             ],
             [
              0.5555555555555556,
              "#d8576b"
             ],
             [
              0.6666666666666666,
              "#ed7953"
             ],
             [
              0.7777777777777778,
              "#fb9f3a"
             ],
             [
              0.8888888888888888,
              "#fdca26"
             ],
             [
              1,
              "#f0f921"
             ]
            ],
            "type": "contour"
           }
          ],
          "contourcarpet": [
           {
            "colorbar": {
             "outlinewidth": 0,
             "ticks": ""
            },
            "type": "contourcarpet"
           }
          ],
          "heatmap": [
           {
            "colorbar": {
             "outlinewidth": 0,
             "ticks": ""
            },
            "colorscale": [
             [
              0,
              "#0d0887"
             ],
             [
              0.1111111111111111,
              "#46039f"
             ],
             [
              0.2222222222222222,
              "#7201a8"
             ],
             [
              0.3333333333333333,
              "#9c179e"
             ],
             [
              0.4444444444444444,
              "#bd3786"
             ],
             [
              0.5555555555555556,
              "#d8576b"
             ],
             [
              0.6666666666666666,
              "#ed7953"
             ],
             [
              0.7777777777777778,
              "#fb9f3a"
             ],
             [
              0.8888888888888888,
              "#fdca26"
             ],
             [
              1,
              "#f0f921"
             ]
            ],
            "type": "heatmap"
           }
          ],
          "heatmapgl": [
           {
            "colorbar": {
             "outlinewidth": 0,
             "ticks": ""
            },
            "colorscale": [
             [
              0,
              "#0d0887"
             ],
             [
              0.1111111111111111,
              "#46039f"
             ],
             [
              0.2222222222222222,
              "#7201a8"
             ],
             [
              0.3333333333333333,
              "#9c179e"
             ],
             [
              0.4444444444444444,
              "#bd3786"
             ],
             [
              0.5555555555555556,
              "#d8576b"
             ],
             [
              0.6666666666666666,
              "#ed7953"
             ],
             [
              0.7777777777777778,
              "#fb9f3a"
             ],
             [
              0.8888888888888888,
              "#fdca26"
             ],
             [
              1,
              "#f0f921"
             ]
            ],
            "type": "heatmapgl"
           }
          ],
          "histogram": [
           {
            "marker": {
             "pattern": {
              "fillmode": "overlay",
              "size": 10,
              "solidity": 0.2
             }
            },
            "type": "histogram"
           }
          ],
          "histogram2d": [
           {
            "colorbar": {
             "outlinewidth": 0,
             "ticks": ""
            },
            "colorscale": [
             [
              0,
              "#0d0887"
             ],
             [
              0.1111111111111111,
              "#46039f"
             ],
             [
              0.2222222222222222,
              "#7201a8"
             ],
             [
              0.3333333333333333,
              "#9c179e"
             ],
             [
              0.4444444444444444,
              "#bd3786"
             ],
             [
              0.5555555555555556,
              "#d8576b"
             ],
             [
              0.6666666666666666,
              "#ed7953"
             ],
             [
              0.7777777777777778,
              "#fb9f3a"
             ],
             [
              0.8888888888888888,
              "#fdca26"
             ],
             [
              1,
              "#f0f921"
             ]
            ],
            "type": "histogram2d"
           }
          ],
          "histogram2dcontour": [
           {
            "colorbar": {
             "outlinewidth": 0,
             "ticks": ""
            },
            "colorscale": [
             [
              0,
              "#0d0887"
             ],
             [
              0.1111111111111111,
              "#46039f"
             ],
             [
              0.2222222222222222,
              "#7201a8"
             ],
             [
              0.3333333333333333,
              "#9c179e"
             ],
             [
              0.4444444444444444,
              "#bd3786"
             ],
             [
              0.5555555555555556,
              "#d8576b"
             ],
             [
              0.6666666666666666,
              "#ed7953"
             ],
             [
              0.7777777777777778,
              "#fb9f3a"
             ],
             [
              0.8888888888888888,
              "#fdca26"
             ],
             [
              1,
              "#f0f921"
             ]
            ],
            "type": "histogram2dcontour"
           }
          ],
          "mesh3d": [
           {
            "colorbar": {
             "outlinewidth": 0,
             "ticks": ""
            },
            "type": "mesh3d"
           }
          ],
          "parcoords": [
           {
            "line": {
             "colorbar": {
              "outlinewidth": 0,
              "ticks": ""
             }
            },
            "type": "parcoords"
           }
          ],
          "pie": [
           {
            "automargin": true,
            "type": "pie"
           }
          ],
          "scatter": [
           {
            "fillpattern": {
             "fillmode": "overlay",
             "size": 10,
             "solidity": 0.2
            },
            "type": "scatter"
           }
          ],
          "scatter3d": [
           {
            "line": {
             "colorbar": {
              "outlinewidth": 0,
              "ticks": ""
             }
            },
            "marker": {
             "colorbar": {
              "outlinewidth": 0,
              "ticks": ""
             }
            },
            "type": "scatter3d"
           }
          ],
          "scattercarpet": [
           {
            "marker": {
             "colorbar": {
              "outlinewidth": 0,
              "ticks": ""
             }
            },
            "type": "scattercarpet"
           }
          ],
          "scattergeo": [
           {
            "marker": {
             "colorbar": {
              "outlinewidth": 0,
              "ticks": ""
             }
            },
            "type": "scattergeo"
           }
          ],
          "scattergl": [
           {
            "marker": {
             "colorbar": {
              "outlinewidth": 0,
              "ticks": ""
             }
            },
            "type": "scattergl"
           }
          ],
          "scattermapbox": [
           {
            "marker": {
             "colorbar": {
              "outlinewidth": 0,
              "ticks": ""
             }
            },
            "type": "scattermapbox"
           }
          ],
          "scatterpolar": [
           {
            "marker": {
             "colorbar": {
              "outlinewidth": 0,
              "ticks": ""
             }
            },
            "type": "scatterpolar"
           }
          ],
          "scatterpolargl": [
           {
            "marker": {
             "colorbar": {
              "outlinewidth": 0,
              "ticks": ""
             }
            },
            "type": "scatterpolargl"
           }
          ],
          "scatterternary": [
           {
            "marker": {
             "colorbar": {
              "outlinewidth": 0,
              "ticks": ""
             }
            },
            "type": "scatterternary"
           }
          ],
          "surface": [
           {
            "colorbar": {
             "outlinewidth": 0,
             "ticks": ""
            },
            "colorscale": [
             [
              0,
              "#0d0887"
             ],
             [
              0.1111111111111111,
              "#46039f"
             ],
             [
              0.2222222222222222,
              "#7201a8"
             ],
             [
              0.3333333333333333,
              "#9c179e"
             ],
             [
              0.4444444444444444,
              "#bd3786"
             ],
             [
              0.5555555555555556,
              "#d8576b"
             ],
             [
              0.6666666666666666,
              "#ed7953"
             ],
             [
              0.7777777777777778,
              "#fb9f3a"
             ],
             [
              0.8888888888888888,
              "#fdca26"
             ],
             [
              1,
              "#f0f921"
             ]
            ],
            "type": "surface"
           }
          ],
          "table": [
           {
            "cells": {
             "fill": {
              "color": "#EBF0F8"
             },
             "line": {
              "color": "white"
             }
            },
            "header": {
             "fill": {
              "color": "#C8D4E3"
             },
             "line": {
              "color": "white"
             }
            },
            "type": "table"
           }
          ]
         },
         "layout": {
          "annotationdefaults": {
           "arrowcolor": "#2a3f5f",
           "arrowhead": 0,
           "arrowwidth": 1
          },
          "autotypenumbers": "strict",
          "coloraxis": {
           "colorbar": {
            "outlinewidth": 0,
            "ticks": ""
           }
          },
          "colorscale": {
           "diverging": [
            [
             0,
             "#8e0152"
            ],
            [
             0.1,
             "#c51b7d"
            ],
            [
             0.2,
             "#de77ae"
            ],
            [
             0.3,
             "#f1b6da"
            ],
            [
             0.4,
             "#fde0ef"
            ],
            [
             0.5,
             "#f7f7f7"
            ],
            [
             0.6,
             "#e6f5d0"
            ],
            [
             0.7,
             "#b8e186"
            ],
            [
             0.8,
             "#7fbc41"
            ],
            [
             0.9,
             "#4d9221"
            ],
            [
             1,
             "#276419"
            ]
           ],
           "sequential": [
            [
             0,
             "#0d0887"
            ],
            [
             0.1111111111111111,
             "#46039f"
            ],
            [
             0.2222222222222222,
             "#7201a8"
            ],
            [
             0.3333333333333333,
             "#9c179e"
            ],
            [
             0.4444444444444444,
             "#bd3786"
            ],
            [
             0.5555555555555556,
             "#d8576b"
            ],
            [
             0.6666666666666666,
             "#ed7953"
            ],
            [
             0.7777777777777778,
             "#fb9f3a"
            ],
            [
             0.8888888888888888,
             "#fdca26"
            ],
            [
             1,
             "#f0f921"
            ]
           ],
           "sequentialminus": [
            [
             0,
             "#0d0887"
            ],
            [
             0.1111111111111111,
             "#46039f"
            ],
            [
             0.2222222222222222,
             "#7201a8"
            ],
            [
             0.3333333333333333,
             "#9c179e"
            ],
            [
             0.4444444444444444,
             "#bd3786"
            ],
            [
             0.5555555555555556,
             "#d8576b"
            ],
            [
             0.6666666666666666,
             "#ed7953"
            ],
            [
             0.7777777777777778,
             "#fb9f3a"
            ],
            [
             0.8888888888888888,
             "#fdca26"
            ],
            [
             1,
             "#f0f921"
            ]
           ]
          },
          "colorway": [
           "#636efa",
           "#EF553B",
           "#00cc96",
           "#ab63fa",
           "#FFA15A",
           "#19d3f3",
           "#FF6692",
           "#B6E880",
           "#FF97FF",
           "#FECB52"
          ],
          "font": {
           "color": "#2a3f5f"
          },
          "geo": {
           "bgcolor": "white",
           "lakecolor": "white",
           "landcolor": "#E5ECF6",
           "showlakes": true,
           "showland": true,
           "subunitcolor": "white"
          },
          "hoverlabel": {
           "align": "left"
          },
          "hovermode": "closest",
          "mapbox": {
           "style": "light"
          },
          "paper_bgcolor": "white",
          "plot_bgcolor": "#E5ECF6",
          "polar": {
           "angularaxis": {
            "gridcolor": "white",
            "linecolor": "white",
            "ticks": ""
           },
           "bgcolor": "#E5ECF6",
           "radialaxis": {
            "gridcolor": "white",
            "linecolor": "white",
            "ticks": ""
           }
          },
          "scene": {
           "xaxis": {
            "backgroundcolor": "#E5ECF6",
            "gridcolor": "white",
            "gridwidth": 2,
            "linecolor": "white",
            "showbackground": true,
            "ticks": "",
            "zerolinecolor": "white"
           },
           "yaxis": {
            "backgroundcolor": "#E5ECF6",
            "gridcolor": "white",
            "gridwidth": 2,
            "linecolor": "white",
            "showbackground": true,
            "ticks": "",
            "zerolinecolor": "white"
           },
           "zaxis": {
            "backgroundcolor": "#E5ECF6",
            "gridcolor": "white",
            "gridwidth": 2,
            "linecolor": "white",
            "showbackground": true,
            "ticks": "",
            "zerolinecolor": "white"
           }
          },
          "shapedefaults": {
           "line": {
            "color": "#2a3f5f"
           }
          },
          "ternary": {
           "aaxis": {
            "gridcolor": "white",
            "linecolor": "white",
            "ticks": ""
           },
           "baxis": {
            "gridcolor": "white",
            "linecolor": "white",
            "ticks": ""
           },
           "bgcolor": "#E5ECF6",
           "caxis": {
            "gridcolor": "white",
            "linecolor": "white",
            "ticks": ""
           }
          },
          "title": {
           "x": 0.05
          },
          "xaxis": {
           "automargin": true,
           "gridcolor": "white",
           "linecolor": "white",
           "ticks": "",
           "title": {
            "standoff": 15
           },
           "zerolinecolor": "white",
           "zerolinewidth": 2
          },
          "yaxis": {
           "automargin": true,
           "gridcolor": "white",
           "linecolor": "white",
           "ticks": "",
           "title": {
            "standoff": 15
           },
           "zerolinecolor": "white",
           "zerolinewidth": 2
          }
         }
        },
        "title": {
         "text": "Statistics of Marcus Rashford Over Seasons"
        },
        "xaxis": {
         "title": {
          "text": "Season"
         }
        },
        "yaxis": {
         "title": {
          "text": "Count"
         }
        }
       }
      }
     },
     "metadata": {},
     "output_type": "display_data"
    }
   ],
   "source": [
    "stats('Marcus Rashford')"
   ]
  },
  {
   "cell_type": "code",
   "execution_count": 202,
   "metadata": {},
   "outputs": [],
   "source": [
    "season_stats = {\n",
    "    'season_2012_2013': seasons[0],\n",
    "    'season_2013_2014': seasons[1],\n",
    "    'season_2014_2015': seasons[2],\n",
    "    'season_2015_2016': seasons[3],\n",
    "    'season_2016_2017': seasons[4],\n",
    "    'season_2017_2018': seasons[5],\n",
    "    'season_2018_2019': seasons[6],\n",
    "    'season_2019_2020': seasons[7],\n",
    "    'season_2020_2021': seasons[8],\n",
    "    'season_2021_2022': seasons[9],\n",
    "    'season_2022_2023': seasons[10],\n",
    "    'season_2023-2024': seasons[11]\n",
    "}"
   ]
  },
  {
   "cell_type": "code",
   "execution_count": 203,
   "metadata": {},
   "outputs": [],
   "source": [
    "season_stats_all_players = {\n",
    "    'season_2012_2013': seasons_all_players[0],\n",
    "    'season_2013_2014': seasons_all_players[1],\n",
    "    'season_2014_2015': seasons_all_players[2],\n",
    "    'season_2015_2016': seasons_all_players[3],\n",
    "    'season_2016_2017': seasons_all_players[4],\n",
    "    'season_2017_2018': seasons_all_players[5],\n",
    "    'season_2018_2019': seasons_all_players[6],\n",
    "    'season_2019_2020': seasons_all_players[7],\n",
    "    'season_2020_2021': seasons_all_players[8],\n",
    "    'season_2021_2022': seasons_all_players[9],\n",
    "    'season_2022_2023': seasons_all_players[10],\n",
    "    'season_2023-2024': seasons_all_players[11]\n",
    "}"
   ]
  },
  {
   "cell_type": "code",
   "execution_count": 204,
   "metadata": {},
   "outputs": [
    {
     "data": {
      "text/html": [
       "<div>\n",
       "<style scoped>\n",
       "    .dataframe tbody tr th:only-of-type {\n",
       "        vertical-align: middle;\n",
       "    }\n",
       "\n",
       "    .dataframe tbody tr th {\n",
       "        vertical-align: top;\n",
       "    }\n",
       "\n",
       "    .dataframe thead th {\n",
       "        text-align: right;\n",
       "    }\n",
       "</style>\n",
       "<table border=\"1\" class=\"dataframe\">\n",
       "  <thead>\n",
       "    <tr style=\"text-align: right;\">\n",
       "      <th></th>\n",
       "      <th>player_id</th>\n",
       "      <th>date_of_birth</th>\n",
       "      <th>sub_position</th>\n",
       "      <th>position</th>\n",
       "      <th>height_in_cm</th>\n",
       "      <th>sub_position_encoded</th>\n",
       "      <th>position_encoded</th>\n",
       "    </tr>\n",
       "  </thead>\n",
       "  <tbody>\n",
       "    <tr>\n",
       "      <th>63</th>\n",
       "      <td>1397</td>\n",
       "      <td>1979-12-14</td>\n",
       "      <td>Centre-Forward</td>\n",
       "      <td>Attack</td>\n",
       "      <td>173.0</td>\n",
       "      <td>3</td>\n",
       "      <td>0</td>\n",
       "    </tr>\n",
       "    <tr>\n",
       "      <th>138</th>\n",
       "      <td>3109</td>\n",
       "      <td>1980-05-30</td>\n",
       "      <td>Central Midfield</td>\n",
       "      <td>Midfield</td>\n",
       "      <td>183.0</td>\n",
       "      <td>1</td>\n",
       "      <td>3</td>\n",
       "    </tr>\n",
       "    <tr>\n",
       "      <th>141</th>\n",
       "      <td>3118</td>\n",
       "      <td>1978-12-29</td>\n",
       "      <td>Right Midfield</td>\n",
       "      <td>Midfield</td>\n",
       "      <td>170.0</td>\n",
       "      <td>9</td>\n",
       "      <td>3</td>\n",
       "    </tr>\n",
       "    <tr>\n",
       "      <th>142</th>\n",
       "      <td>3120</td>\n",
       "      <td>1977-11-05</td>\n",
       "      <td>Goalkeeper</td>\n",
       "      <td>Goalkeeper</td>\n",
       "      <td>190.0</td>\n",
       "      <td>5</td>\n",
       "      <td>2</td>\n",
       "    </tr>\n",
       "    <tr>\n",
       "      <th>143</th>\n",
       "      <td>3130</td>\n",
       "      <td>1981-07-31</td>\n",
       "      <td>Centre-Back</td>\n",
       "      <td>Defender</td>\n",
       "      <td>192.0</td>\n",
       "      <td>2</td>\n",
       "      <td>1</td>\n",
       "    </tr>\n",
       "    <tr>\n",
       "      <th>...</th>\n",
       "      <td>...</td>\n",
       "      <td>...</td>\n",
       "      <td>...</td>\n",
       "      <td>...</td>\n",
       "      <td>...</td>\n",
       "      <td>...</td>\n",
       "      <td>...</td>\n",
       "    </tr>\n",
       "    <tr>\n",
       "      <th>29527</th>\n",
       "      <td>887433</td>\n",
       "      <td>2006-01-19</td>\n",
       "      <td>Left Winger</td>\n",
       "      <td>Attack</td>\n",
       "      <td>176.0</td>\n",
       "      <td>7</td>\n",
       "      <td>0</td>\n",
       "    </tr>\n",
       "    <tr>\n",
       "      <th>29663</th>\n",
       "      <td>907215</td>\n",
       "      <td>2005-08-17</td>\n",
       "      <td>Defensive Midfield</td>\n",
       "      <td>Midfield</td>\n",
       "      <td>175.0</td>\n",
       "      <td>4</td>\n",
       "      <td>3</td>\n",
       "    </tr>\n",
       "    <tr>\n",
       "      <th>29767</th>\n",
       "      <td>922769</td>\n",
       "      <td>2006-05-01</td>\n",
       "      <td>Central Midfield</td>\n",
       "      <td>Midfield</td>\n",
       "      <td>189.0</td>\n",
       "      <td>1</td>\n",
       "      <td>3</td>\n",
       "    </tr>\n",
       "    <tr>\n",
       "      <th>30241</th>\n",
       "      <td>1031256</td>\n",
       "      <td>2003-09-08</td>\n",
       "      <td>Centre-Forward</td>\n",
       "      <td>Attack</td>\n",
       "      <td>185.0</td>\n",
       "      <td>3</td>\n",
       "      <td>0</td>\n",
       "    </tr>\n",
       "    <tr>\n",
       "      <th>30275</th>\n",
       "      <td>1043634</td>\n",
       "      <td>2006-01-10</td>\n",
       "      <td>Centre-Forward</td>\n",
       "      <td>Attack</td>\n",
       "      <td>186.0</td>\n",
       "      <td>3</td>\n",
       "      <td>0</td>\n",
       "    </tr>\n",
       "  </tbody>\n",
       "</table>\n",
       "<p>849 rows × 7 columns</p>\n",
       "</div>"
      ],
      "text/plain": [
       "       player_id date_of_birth        sub_position    position  height_in_cm  \\\n",
       "63          1397    1979-12-14      Centre-Forward      Attack         173.0   \n",
       "138         3109    1980-05-30    Central Midfield    Midfield         183.0   \n",
       "141         3118    1978-12-29      Right Midfield    Midfield         170.0   \n",
       "142         3120    1977-11-05          Goalkeeper  Goalkeeper         190.0   \n",
       "143         3130    1981-07-31         Centre-Back    Defender         192.0   \n",
       "...          ...           ...                 ...         ...           ...   \n",
       "29527     887433    2006-01-19         Left Winger      Attack         176.0   \n",
       "29663     907215    2005-08-17  Defensive Midfield    Midfield         175.0   \n",
       "29767     922769    2006-05-01    Central Midfield    Midfield         189.0   \n",
       "30241    1031256    2003-09-08      Centre-Forward      Attack         185.0   \n",
       "30275    1043634    2006-01-10      Centre-Forward      Attack         186.0   \n",
       "\n",
       "       sub_position_encoded  position_encoded  \n",
       "63                        3                 0  \n",
       "138                       1                 3  \n",
       "141                       9                 3  \n",
       "142                       5                 2  \n",
       "143                       2                 1  \n",
       "...                     ...               ...  \n",
       "29527                     7                 0  \n",
       "29663                     4                 3  \n",
       "29767                     1                 3  \n",
       "30241                     3                 0  \n",
       "30275                     3                 0  \n",
       "\n",
       "[849 rows x 7 columns]"
      ]
     },
     "execution_count": 204,
     "metadata": {},
     "output_type": "execute_result"
    }
   ],
   "source": [
    "encoder = LabelEncoder()\n",
    "\n",
    "info = players[['player_id', 'date_of_birth', 'sub_position', 'position', 'height_in_cm']][players['player_id'].isin(english_players.values)]\n",
    "info_all = players[['player_id', 'date_of_birth', 'sub_position', 'position', 'height_in_cm']][players['player_id'].isin(top5_players.values)]\n",
    "info['sub_position_encoded'] = encoder.fit_transform(info['sub_position'])\n",
    "info_all['sub_position_encoded'] = encoder.fit_transform(info_all['sub_position'])\n",
    "info['position_encoded'] = encoder.fit_transform(info['position'])\n",
    "info_all['position_encoded'] = encoder.fit_transform(info_all['position'])\n",
    "\n",
    "info.dropna(inplace=True)\n",
    "info_all.dropna(inplace=True)\n",
    "info"
   ]
  },
  {
   "cell_type": "code",
   "execution_count": 205,
   "metadata": {},
   "outputs": [],
   "source": [
    "year_counter = -12\n",
    "\n",
    "for i in range(len(seasons)):\n",
    "    seasons[i] = seasons[i].merge(info, on='player_id', how='outer')\n",
    "    seasons[i] = seasons[i].dropna()\n",
    "    seasons[i].rename(columns={'date_of_birth' : 'age'}, inplace=True)\n",
    "    seasons[i]['age'] = (datetime.now().year - pd.to_datetime(seasons[i]['age']).dt.year) + year_counter\n",
    "    year_counter += 1"
   ]
  },
  {
   "cell_type": "code",
   "execution_count": 206,
   "metadata": {},
   "outputs": [],
   "source": [
    "year_counter = -12\n",
    "\n",
    "for i in range(len(seasons_all_players)):\n",
    "    seasons_all_players[i] = seasons_all_players[i].merge(info_all, on='player_id', how='outer')\n",
    "    seasons_all_players[i] = seasons_all_players[i].dropna()\n",
    "    seasons_all_players[i].rename(columns={'date_of_birth' : 'age'}, inplace=True)\n",
    "    seasons_all_players[i]['age'] = (datetime.now().year - pd.to_datetime(seasons_all_players[i]['age']).dt.year) + year_counter\n",
    "    year_counter += 1"
   ]
  },
  {
   "cell_type": "code",
   "execution_count": 207,
   "metadata": {},
   "outputs": [],
   "source": [
    "for i in range(len(seasons)):\n",
    "    seasons[i] = seasons[i].drop(columns=['date','current_club_id','player_club_domestic_competition_id','sub_position','position'])\n",
    "    seasons_all_players[i] = seasons_all_players[i].drop(columns=['date','current_club_id','player_club_domestic_competition_id','sub_position','position'])"
   ]
  },
  {
   "cell_type": "code",
   "execution_count": 208,
   "metadata": {},
   "outputs": [],
   "source": [
    "season_stats = {\n",
    "    'season_2012_2013': seasons[0],\n",
    "    'season_2013_2014': seasons[1],\n",
    "    'season_2014_2015': seasons[2],\n",
    "    'season_2015_2016': seasons[3],\n",
    "    'season_2016_2017': seasons[4],\n",
    "    'season_2017_2018': seasons[5],\n",
    "    'season_2018_2019': seasons[6],\n",
    "    'season_2019_2020': seasons[7],\n",
    "    'season_2020_2021': seasons[8],\n",
    "    'season_2021_2022': seasons[9],\n",
    "    'season_2022_2023': seasons[10],\n",
    "    'season_2023-2024': seasons[11]\n",
    "}\n",
    "\n",
    "season_stats_all_players = {\n",
    "    'season_2012_2013': seasons_all_players[0],\n",
    "    'season_2013_2014': seasons_all_players[1],\n",
    "    'season_2014_2015': seasons_all_players[2],\n",
    "    'season_2015_2016': seasons_all_players[3],\n",
    "    'season_2016_2017': seasons_all_players[4],\n",
    "    'season_2017_2018': seasons_all_players[5],\n",
    "    'season_2018_2019': seasons_all_players[6],\n",
    "    'season_2019_2020': seasons_all_players[7],\n",
    "    'season_2020_2021': seasons_all_players[8],\n",
    "    'season_2021_2022': seasons_all_players[9],\n",
    "    'season_2022_2023': seasons_all_players[10],\n",
    "    'season_2023-2024': seasons_all_players[11]\n",
    "}"
   ]
  },
  {
   "cell_type": "code",
   "execution_count": 209,
   "metadata": {},
   "outputs": [],
   "source": [
    "combined_stats = pd.concat(season_stats.values(), keys=season_stats.keys())\n",
    "combined_stats_all = pd.concat(season_stats_all_players.values(), keys=season_stats_all_players.keys())"
   ]
  },
  {
   "cell_type": "code",
   "execution_count": 210,
   "metadata": {},
   "outputs": [
    {
     "data": {
      "text/html": [
       "<div>\n",
       "<style scoped>\n",
       "    .dataframe tbody tr th:only-of-type {\n",
       "        vertical-align: middle;\n",
       "    }\n",
       "\n",
       "    .dataframe tbody tr th {\n",
       "        vertical-align: top;\n",
       "    }\n",
       "\n",
       "    .dataframe thead th {\n",
       "        text-align: right;\n",
       "    }\n",
       "</style>\n",
       "<table border=\"1\" class=\"dataframe\">\n",
       "  <thead>\n",
       "    <tr style=\"text-align: right;\">\n",
       "      <th></th>\n",
       "      <th></th>\n",
       "      <th>player_id</th>\n",
       "      <th>goals</th>\n",
       "      <th>assists</th>\n",
       "      <th>yellow_cards</th>\n",
       "      <th>red_cards</th>\n",
       "      <th>minutes_played</th>\n",
       "      <th>market_value_in_eur</th>\n",
       "      <th>name</th>\n",
       "      <th>age</th>\n",
       "      <th>height_in_cm</th>\n",
       "      <th>sub_position_encoded</th>\n",
       "      <th>position_encoded</th>\n",
       "    </tr>\n",
       "  </thead>\n",
       "  <tbody>\n",
       "    <tr>\n",
       "      <th rowspan=\"5\" valign=\"top\">season_2012_2013</th>\n",
       "      <th>4</th>\n",
       "      <td>132.0</td>\n",
       "      <td>2.0</td>\n",
       "      <td>1.0</td>\n",
       "      <td>2.0</td>\n",
       "      <td>0.0</td>\n",
       "      <td>612.0</td>\n",
       "      <td>2000000.0</td>\n",
       "      <td>Tomas Rosicky</td>\n",
       "      <td>32</td>\n",
       "      <td>179.0</td>\n",
       "      <td>0.0</td>\n",
       "      <td>3.0</td>\n",
       "    </tr>\n",
       "    <tr>\n",
       "      <th>21</th>\n",
       "      <td>1094.0</td>\n",
       "      <td>0.0</td>\n",
       "      <td>0.0</td>\n",
       "      <td>2.0</td>\n",
       "      <td>0.0</td>\n",
       "      <td>149.0</td>\n",
       "      <td>2500000.0</td>\n",
       "      <td>Emanuel Pogatetz</td>\n",
       "      <td>29</td>\n",
       "      <td>191.0</td>\n",
       "      <td>2.0</td>\n",
       "      <td>1.0</td>\n",
       "    </tr>\n",
       "    <tr>\n",
       "      <th>27</th>\n",
       "      <td>1327.0</td>\n",
       "      <td>0.0</td>\n",
       "      <td>0.0</td>\n",
       "      <td>1.0</td>\n",
       "      <td>0.0</td>\n",
       "      <td>118.0</td>\n",
       "      <td>1250000.0</td>\n",
       "      <td>Alou Diarra</td>\n",
       "      <td>31</td>\n",
       "      <td>189.0</td>\n",
       "      <td>4.0</td>\n",
       "      <td>3.0</td>\n",
       "    </tr>\n",
       "    <tr>\n",
       "      <th>31</th>\n",
       "      <td>1397.0</td>\n",
       "      <td>1.0</td>\n",
       "      <td>0.0</td>\n",
       "      <td>0.0</td>\n",
       "      <td>0.0</td>\n",
       "      <td>94.0</td>\n",
       "      <td>1000000.0</td>\n",
       "      <td>Michael Owen</td>\n",
       "      <td>33</td>\n",
       "      <td>173.0</td>\n",
       "      <td>3.0</td>\n",
       "      <td>0.0</td>\n",
       "    </tr>\n",
       "    <tr>\n",
       "      <th>69</th>\n",
       "      <td>2953.0</td>\n",
       "      <td>0.0</td>\n",
       "      <td>1.0</td>\n",
       "      <td>6.0</td>\n",
       "      <td>0.0</td>\n",
       "      <td>1260.0</td>\n",
       "      <td>1500000.0</td>\n",
       "      <td>Paul Scharner</td>\n",
       "      <td>32</td>\n",
       "      <td>191.0</td>\n",
       "      <td>4.0</td>\n",
       "      <td>3.0</td>\n",
       "    </tr>\n",
       "    <tr>\n",
       "      <th>...</th>\n",
       "      <th>...</th>\n",
       "      <td>...</td>\n",
       "      <td>...</td>\n",
       "      <td>...</td>\n",
       "      <td>...</td>\n",
       "      <td>...</td>\n",
       "      <td>...</td>\n",
       "      <td>...</td>\n",
       "      <td>...</td>\n",
       "      <td>...</td>\n",
       "      <td>...</td>\n",
       "      <td>...</td>\n",
       "      <td>...</td>\n",
       "    </tr>\n",
       "    <tr>\n",
       "      <th rowspan=\"5\" valign=\"top\">season_2023-2024</th>\n",
       "      <th>11106</th>\n",
       "      <td>973085.0</td>\n",
       "      <td>0.0</td>\n",
       "      <td>0.0</td>\n",
       "      <td>7.0</td>\n",
       "      <td>0.0</td>\n",
       "      <td>1214.0</td>\n",
       "      <td>20000000.0</td>\n",
       "      <td>Carlos Baleba</td>\n",
       "      <td>19</td>\n",
       "      <td>179.0</td>\n",
       "      <td>4.0</td>\n",
       "      <td>3.0</td>\n",
       "    </tr>\n",
       "    <tr>\n",
       "      <th>11122</th>\n",
       "      <td>983989.0</td>\n",
       "      <td>3.0</td>\n",
       "      <td>1.0</td>\n",
       "      <td>7.0</td>\n",
       "      <td>0.0</td>\n",
       "      <td>1171.0</td>\n",
       "      <td>18000000.0</td>\n",
       "      <td>Facundo Buonanotte</td>\n",
       "      <td>19</td>\n",
       "      <td>174.0</td>\n",
       "      <td>0.0</td>\n",
       "      <td>3.0</td>\n",
       "    </tr>\n",
       "    <tr>\n",
       "      <th>11131</th>\n",
       "      <td>1005649.0</td>\n",
       "      <td>0.0</td>\n",
       "      <td>2.0</td>\n",
       "      <td>5.0</td>\n",
       "      <td>0.0</td>\n",
       "      <td>2523.0</td>\n",
       "      <td>9000000.0</td>\n",
       "      <td>Murillo</td>\n",
       "      <td>21</td>\n",
       "      <td>184.0</td>\n",
       "      <td>2.0</td>\n",
       "      <td>1.0</td>\n",
       "    </tr>\n",
       "    <tr>\n",
       "      <th>11141</th>\n",
       "      <td>1043634.0</td>\n",
       "      <td>0.0</td>\n",
       "      <td>0.0</td>\n",
       "      <td>0.0</td>\n",
       "      <td>0.0</td>\n",
       "      <td>175.0</td>\n",
       "      <td>200000.0</td>\n",
       "      <td>Leon Chiwome</td>\n",
       "      <td>17</td>\n",
       "      <td>186.0</td>\n",
       "      <td>3.0</td>\n",
       "      <td>0.0</td>\n",
       "    </tr>\n",
       "    <tr>\n",
       "      <th>11150</th>\n",
       "      <td>1082850.0</td>\n",
       "      <td>0.0</td>\n",
       "      <td>0.0</td>\n",
       "      <td>0.0</td>\n",
       "      <td>0.0</td>\n",
       "      <td>11.0</td>\n",
       "      <td>9000000.0</td>\n",
       "      <td>Deivid Washington</td>\n",
       "      <td>18</td>\n",
       "      <td>187.0</td>\n",
       "      <td>3.0</td>\n",
       "      <td>0.0</td>\n",
       "    </tr>\n",
       "  </tbody>\n",
       "</table>\n",
       "<p>5917 rows × 12 columns</p>\n",
       "</div>"
      ],
      "text/plain": [
       "                        player_id  goals  assists  yellow_cards  red_cards  \\\n",
       "season_2012_2013 4          132.0    2.0      1.0           2.0        0.0   \n",
       "                 21        1094.0    0.0      0.0           2.0        0.0   \n",
       "                 27        1327.0    0.0      0.0           1.0        0.0   \n",
       "                 31        1397.0    1.0      0.0           0.0        0.0   \n",
       "                 69        2953.0    0.0      1.0           6.0        0.0   \n",
       "...                           ...    ...      ...           ...        ...   \n",
       "season_2023-2024 11106   973085.0    0.0      0.0           7.0        0.0   \n",
       "                 11122   983989.0    3.0      1.0           7.0        0.0   \n",
       "                 11131  1005649.0    0.0      2.0           5.0        0.0   \n",
       "                 11141  1043634.0    0.0      0.0           0.0        0.0   \n",
       "                 11150  1082850.0    0.0      0.0           0.0        0.0   \n",
       "\n",
       "                        minutes_played  market_value_in_eur  \\\n",
       "season_2012_2013 4               612.0            2000000.0   \n",
       "                 21              149.0            2500000.0   \n",
       "                 27              118.0            1250000.0   \n",
       "                 31               94.0            1000000.0   \n",
       "                 69             1260.0            1500000.0   \n",
       "...                                ...                  ...   \n",
       "season_2023-2024 11106          1214.0           20000000.0   \n",
       "                 11122          1171.0           18000000.0   \n",
       "                 11131          2523.0            9000000.0   \n",
       "                 11141           175.0             200000.0   \n",
       "                 11150            11.0            9000000.0   \n",
       "\n",
       "                                      name  age  height_in_cm  \\\n",
       "season_2012_2013 4           Tomas Rosicky   32         179.0   \n",
       "                 21       Emanuel Pogatetz   29         191.0   \n",
       "                 27            Alou Diarra   31         189.0   \n",
       "                 31           Michael Owen   33         173.0   \n",
       "                 69          Paul Scharner   32         191.0   \n",
       "...                                    ...  ...           ...   \n",
       "season_2023-2024 11106       Carlos Baleba   19         179.0   \n",
       "                 11122  Facundo Buonanotte   19         174.0   \n",
       "                 11131             Murillo   21         184.0   \n",
       "                 11141        Leon Chiwome   17         186.0   \n",
       "                 11150   Deivid Washington   18         187.0   \n",
       "\n",
       "                        sub_position_encoded  position_encoded  \n",
       "season_2012_2013 4                       0.0               3.0  \n",
       "                 21                      2.0               1.0  \n",
       "                 27                      4.0               3.0  \n",
       "                 31                      3.0               0.0  \n",
       "                 69                      4.0               3.0  \n",
       "...                                      ...               ...  \n",
       "season_2023-2024 11106                   4.0               3.0  \n",
       "                 11122                   0.0               3.0  \n",
       "                 11131                   2.0               1.0  \n",
       "                 11141                   3.0               0.0  \n",
       "                 11150                   3.0               0.0  \n",
       "\n",
       "[5917 rows x 12 columns]"
      ]
     },
     "execution_count": 210,
     "metadata": {},
     "output_type": "execute_result"
    }
   ],
   "source": [
    "combined_stats_all"
   ]
  },
  {
   "cell_type": "markdown",
   "metadata": {},
   "source": [
    "<h1>Merging stats from kaggle with stats from scrapping</h2>"
   ]
  },
  {
   "cell_type": "code",
   "execution_count": 314,
   "metadata": {},
   "outputs": [],
   "source": [
    "final_17_18 = []\n",
    "final_18_19 = []\n",
    "final_19_20 = []\n",
    "final_20_21 = []\n",
    "final_21_22 = []\n",
    "final_22_23 = []\n",
    "final_23_24 = []\n",
    "finals = [final_17_18, final_18_19, final_19_20, final_20_21, final_21_22, final_22_23, final_23_24]\n",
    "\n",
    "\n",
    "for i in range(len(dataframes)):\n",
    "    if i % 7 == 0:\n",
    "        df = dataframes[i].merge(seasons_all_players[5], on='name')\n",
    "        final_17_18.append(df)\n",
    "    elif i % 7 == 1:\n",
    "        df = dataframes[i].merge(seasons_all_players[6], on='name')\n",
    "        final_18_19.append(df)\n",
    "    elif i % 7 == 2:\n",
    "        df = dataframes[i].merge(seasons_all_players[7], on='name')\n",
    "        final_19_20.append(df)\n",
    "    elif i % 7 == 3:\n",
    "        df = dataframes[i].merge(seasons_all_players[8], on='name')\n",
    "        final_20_21.append(df)\n",
    "    elif i % 7 == 4:\n",
    "        df = dataframes[i].merge(seasons_all_players[9], on='name')\n",
    "        final_21_22.append(df)\n",
    "    elif i % 7 == 5:\n",
    "        df = dataframes[i].merge(seasons_all_players[10], on='name')\n",
    "        final_22_23.append(df)\n",
    "    elif i % 7 == 6:\n",
    "        df = dataframes[i].merge(seasons_all_players[11], on='name')\n",
    "        final_23_24.append(df)\n",
    "\n",
    "\n",
    "# for final in finals:\n",
    "#     for i in range(len(final) - 1):\n",
    "#         final[i] = pd.merge(final[i], final[i + 1], on=['name', 'minutes_played', 'market_value_in_eur', 'age', 'height_in_cm', 'sub_position_encoded',\n",
    "#        'position_encoded', 'goals', 'yellow_cards', 'red_cards', 'player_id'])\n",
    "#         final[i].drop(columns=['assists_x', 'assists_y'], inplace=True)\n",
    "\n"
   ]
  },
  {
   "cell_type": "code",
   "execution_count": 321,
   "metadata": {},
   "outputs": [
    {
     "data": {
      "text/html": [
       "<div>\n",
       "<style scoped>\n",
       "    .dataframe tbody tr th:only-of-type {\n",
       "        vertical-align: middle;\n",
       "    }\n",
       "\n",
       "    .dataframe tbody tr th {\n",
       "        vertical-align: top;\n",
       "    }\n",
       "\n",
       "    .dataframe thead th {\n",
       "        text-align: right;\n",
       "    }\n",
       "</style>\n",
       "<table border=\"1\" class=\"dataframe\">\n",
       "  <thead>\n",
       "    <tr style=\"text-align: right;\">\n",
       "      <th></th>\n",
       "      <th>name</th>\n",
       "      <th>Tkl</th>\n",
       "      <th>TklW</th>\n",
       "      <th>Def 3rd</th>\n",
       "      <th>Mid 3rd</th>\n",
       "      <th>Att 3rd</th>\n",
       "      <th>TklDribblers</th>\n",
       "      <th>Att</th>\n",
       "      <th>Tkl%</th>\n",
       "      <th>Lost</th>\n",
       "      <th>...</th>\n",
       "      <th>goals</th>\n",
       "      <th>assists</th>\n",
       "      <th>yellow_cards</th>\n",
       "      <th>red_cards</th>\n",
       "      <th>minutes_played</th>\n",
       "      <th>market_value_in_eur</th>\n",
       "      <th>age</th>\n",
       "      <th>height_in_cm</th>\n",
       "      <th>sub_position_encoded</th>\n",
       "      <th>position_encoded</th>\n",
       "    </tr>\n",
       "  </thead>\n",
       "  <tbody>\n",
       "    <tr>\n",
       "      <th>0</th>\n",
       "      <td>Patrick van Aanholt</td>\n",
       "      <td>47.0</td>\n",
       "      <td>32.0</td>\n",
       "      <td>29.0</td>\n",
       "      <td>15.0</td>\n",
       "      <td>3.0</td>\n",
       "      <td>16.0</td>\n",
       "      <td>34.0</td>\n",
       "      <td>47.1</td>\n",
       "      <td>18.0</td>\n",
       "      <td>...</td>\n",
       "      <td>5.0</td>\n",
       "      <td>1.0</td>\n",
       "      <td>6.0</td>\n",
       "      <td>0.0</td>\n",
       "      <td>1966.0</td>\n",
       "      <td>9000000.0</td>\n",
       "      <td>27</td>\n",
       "      <td>176.0</td>\n",
       "      <td>8</td>\n",
       "      <td>1</td>\n",
       "    </tr>\n",
       "    <tr>\n",
       "      <th>1</th>\n",
       "      <td>Rolando Aarons</td>\n",
       "      <td>4.0</td>\n",
       "      <td>4.0</td>\n",
       "      <td>3.0</td>\n",
       "      <td>1.0</td>\n",
       "      <td>0.0</td>\n",
       "      <td>4.0</td>\n",
       "      <td>6.0</td>\n",
       "      <td>66.7</td>\n",
       "      <td>2.0</td>\n",
       "      <td>...</td>\n",
       "      <td>0.0</td>\n",
       "      <td>0.0</td>\n",
       "      <td>0.0</td>\n",
       "      <td>0.0</td>\n",
       "      <td>137.0</td>\n",
       "      <td>700000.0</td>\n",
       "      <td>22</td>\n",
       "      <td>178.0</td>\n",
       "      <td>7</td>\n",
       "      <td>0</td>\n",
       "    </tr>\n",
       "    <tr>\n",
       "      <th>2</th>\n",
       "      <td>Rolando Aarons</td>\n",
       "      <td>13.0</td>\n",
       "      <td>8.0</td>\n",
       "      <td>4.0</td>\n",
       "      <td>4.0</td>\n",
       "      <td>5.0</td>\n",
       "      <td>1.0</td>\n",
       "      <td>7.0</td>\n",
       "      <td>14.3</td>\n",
       "      <td>6.0</td>\n",
       "      <td>...</td>\n",
       "      <td>0.0</td>\n",
       "      <td>0.0</td>\n",
       "      <td>0.0</td>\n",
       "      <td>0.0</td>\n",
       "      <td>137.0</td>\n",
       "      <td>700000.0</td>\n",
       "      <td>22</td>\n",
       "      <td>178.0</td>\n",
       "      <td>7</td>\n",
       "      <td>0</td>\n",
       "    </tr>\n",
       "    <tr>\n",
       "      <th>3</th>\n",
       "      <td>Tammy Abraham</td>\n",
       "      <td>10.0</td>\n",
       "      <td>8.0</td>\n",
       "      <td>1.0</td>\n",
       "      <td>7.0</td>\n",
       "      <td>2.0</td>\n",
       "      <td>1.0</td>\n",
       "      <td>13.0</td>\n",
       "      <td>7.7</td>\n",
       "      <td>12.0</td>\n",
       "      <td>...</td>\n",
       "      <td>4.0</td>\n",
       "      <td>2.0</td>\n",
       "      <td>0.0</td>\n",
       "      <td>0.0</td>\n",
       "      <td>1479.0</td>\n",
       "      <td>10000000.0</td>\n",
       "      <td>20</td>\n",
       "      <td>194.0</td>\n",
       "      <td>3</td>\n",
       "      <td>0</td>\n",
       "    </tr>\n",
       "    <tr>\n",
       "      <th>4</th>\n",
       "      <td>Charlie Adam</td>\n",
       "      <td>9.0</td>\n",
       "      <td>5.0</td>\n",
       "      <td>2.0</td>\n",
       "      <td>5.0</td>\n",
       "      <td>2.0</td>\n",
       "      <td>5.0</td>\n",
       "      <td>17.0</td>\n",
       "      <td>29.4</td>\n",
       "      <td>12.0</td>\n",
       "      <td>...</td>\n",
       "      <td>0.0</td>\n",
       "      <td>0.0</td>\n",
       "      <td>2.0</td>\n",
       "      <td>1.0</td>\n",
       "      <td>408.0</td>\n",
       "      <td>2500000.0</td>\n",
       "      <td>32</td>\n",
       "      <td>185.0</td>\n",
       "      <td>1</td>\n",
       "      <td>3</td>\n",
       "    </tr>\n",
       "    <tr>\n",
       "      <th>...</th>\n",
       "      <td>...</td>\n",
       "      <td>...</td>\n",
       "      <td>...</td>\n",
       "      <td>...</td>\n",
       "      <td>...</td>\n",
       "      <td>...</td>\n",
       "      <td>...</td>\n",
       "      <td>...</td>\n",
       "      <td>...</td>\n",
       "      <td>...</td>\n",
       "      <td>...</td>\n",
       "      <td>...</td>\n",
       "      <td>...</td>\n",
       "      <td>...</td>\n",
       "      <td>...</td>\n",
       "      <td>...</td>\n",
       "      <td>...</td>\n",
       "      <td>...</td>\n",
       "      <td>...</td>\n",
       "      <td>...</td>\n",
       "      <td>...</td>\n",
       "    </tr>\n",
       "    <tr>\n",
       "      <th>484</th>\n",
       "      <td>Davide Zappacosta</td>\n",
       "      <td>26.0</td>\n",
       "      <td>11.0</td>\n",
       "      <td>14.0</td>\n",
       "      <td>9.0</td>\n",
       "      <td>3.0</td>\n",
       "      <td>11.0</td>\n",
       "      <td>25.0</td>\n",
       "      <td>44.0</td>\n",
       "      <td>14.0</td>\n",
       "      <td>...</td>\n",
       "      <td>1.0</td>\n",
       "      <td>1.0</td>\n",
       "      <td>0.0</td>\n",
       "      <td>0.0</td>\n",
       "      <td>1094.0</td>\n",
       "      <td>20000000.0</td>\n",
       "      <td>25</td>\n",
       "      <td>182.0</td>\n",
       "      <td>9</td>\n",
       "      <td>3</td>\n",
       "    </tr>\n",
       "    <tr>\n",
       "      <th>485</th>\n",
       "      <td>Davide Zappacosta</td>\n",
       "      <td>1.0</td>\n",
       "      <td>0.0</td>\n",
       "      <td>1.0</td>\n",
       "      <td>0.0</td>\n",
       "      <td>0.0</td>\n",
       "      <td>0.0</td>\n",
       "      <td>0.0</td>\n",
       "      <td>0.0</td>\n",
       "      <td>0.0</td>\n",
       "      <td>...</td>\n",
       "      <td>1.0</td>\n",
       "      <td>1.0</td>\n",
       "      <td>0.0</td>\n",
       "      <td>0.0</td>\n",
       "      <td>1094.0</td>\n",
       "      <td>20000000.0</td>\n",
       "      <td>25</td>\n",
       "      <td>182.0</td>\n",
       "      <td>9</td>\n",
       "      <td>3</td>\n",
       "    </tr>\n",
       "    <tr>\n",
       "      <th>486</th>\n",
       "      <td>Marvin Zeegelaar</td>\n",
       "      <td>23.0</td>\n",
       "      <td>18.0</td>\n",
       "      <td>15.0</td>\n",
       "      <td>3.0</td>\n",
       "      <td>5.0</td>\n",
       "      <td>11.0</td>\n",
       "      <td>24.0</td>\n",
       "      <td>45.8</td>\n",
       "      <td>13.0</td>\n",
       "      <td>...</td>\n",
       "      <td>0.0</td>\n",
       "      <td>2.0</td>\n",
       "      <td>4.0</td>\n",
       "      <td>1.0</td>\n",
       "      <td>995.0</td>\n",
       "      <td>3000000.0</td>\n",
       "      <td>27</td>\n",
       "      <td>186.0</td>\n",
       "      <td>8</td>\n",
       "      <td>1</td>\n",
       "    </tr>\n",
       "    <tr>\n",
       "      <th>487</th>\n",
       "      <td>Oleksandr Zinchenko</td>\n",
       "      <td>23.0</td>\n",
       "      <td>16.0</td>\n",
       "      <td>11.0</td>\n",
       "      <td>9.0</td>\n",
       "      <td>3.0</td>\n",
       "      <td>7.0</td>\n",
       "      <td>13.0</td>\n",
       "      <td>53.8</td>\n",
       "      <td>6.0</td>\n",
       "      <td>...</td>\n",
       "      <td>0.0</td>\n",
       "      <td>0.0</td>\n",
       "      <td>1.0</td>\n",
       "      <td>0.0</td>\n",
       "      <td>533.0</td>\n",
       "      <td>4500000.0</td>\n",
       "      <td>21</td>\n",
       "      <td>175.0</td>\n",
       "      <td>8</td>\n",
       "      <td>1</td>\n",
       "    </tr>\n",
       "    <tr>\n",
       "      <th>488</th>\n",
       "      <td>Kurt Zouma</td>\n",
       "      <td>50.0</td>\n",
       "      <td>38.0</td>\n",
       "      <td>35.0</td>\n",
       "      <td>13.0</td>\n",
       "      <td>2.0</td>\n",
       "      <td>21.0</td>\n",
       "      <td>28.0</td>\n",
       "      <td>75.0</td>\n",
       "      <td>7.0</td>\n",
       "      <td>...</td>\n",
       "      <td>1.0</td>\n",
       "      <td>0.0</td>\n",
       "      <td>1.0</td>\n",
       "      <td>0.0</td>\n",
       "      <td>2618.0</td>\n",
       "      <td>15000000.0</td>\n",
       "      <td>23</td>\n",
       "      <td>190.0</td>\n",
       "      <td>2</td>\n",
       "      <td>1</td>\n",
       "    </tr>\n",
       "  </tbody>\n",
       "</table>\n",
       "<p>489 rows × 27 columns</p>\n",
       "</div>"
      ],
      "text/plain": [
       "                    name   Tkl  TklW  Def 3rd  Mid 3rd  Att 3rd  TklDribblers  \\\n",
       "0    Patrick van Aanholt  47.0  32.0     29.0     15.0      3.0          16.0   \n",
       "1         Rolando Aarons   4.0   4.0      3.0      1.0      0.0           4.0   \n",
       "2         Rolando Aarons  13.0   8.0      4.0      4.0      5.0           1.0   \n",
       "3          Tammy Abraham  10.0   8.0      1.0      7.0      2.0           1.0   \n",
       "4           Charlie Adam   9.0   5.0      2.0      5.0      2.0           5.0   \n",
       "..                   ...   ...   ...      ...      ...      ...           ...   \n",
       "484    Davide Zappacosta  26.0  11.0     14.0      9.0      3.0          11.0   \n",
       "485    Davide Zappacosta   1.0   0.0      1.0      0.0      0.0           0.0   \n",
       "486     Marvin Zeegelaar  23.0  18.0     15.0      3.0      5.0          11.0   \n",
       "487  Oleksandr Zinchenko  23.0  16.0     11.0      9.0      3.0           7.0   \n",
       "488           Kurt Zouma  50.0  38.0     35.0     13.0      2.0          21.0   \n",
       "\n",
       "      Att  Tkl%  Lost  ...  goals  assists  yellow_cards  red_cards  \\\n",
       "0    34.0  47.1  18.0  ...    5.0      1.0           6.0        0.0   \n",
       "1     6.0  66.7   2.0  ...    0.0      0.0           0.0        0.0   \n",
       "2     7.0  14.3   6.0  ...    0.0      0.0           0.0        0.0   \n",
       "3    13.0   7.7  12.0  ...    4.0      2.0           0.0        0.0   \n",
       "4    17.0  29.4  12.0  ...    0.0      0.0           2.0        1.0   \n",
       "..    ...   ...   ...  ...    ...      ...           ...        ...   \n",
       "484  25.0  44.0  14.0  ...    1.0      1.0           0.0        0.0   \n",
       "485   0.0   0.0   0.0  ...    1.0      1.0           0.0        0.0   \n",
       "486  24.0  45.8  13.0  ...    0.0      2.0           4.0        1.0   \n",
       "487  13.0  53.8   6.0  ...    0.0      0.0           1.0        0.0   \n",
       "488  28.0  75.0   7.0  ...    1.0      0.0           1.0        0.0   \n",
       "\n",
       "     minutes_played  market_value_in_eur  age  height_in_cm  \\\n",
       "0            1966.0            9000000.0   27         176.0   \n",
       "1             137.0             700000.0   22         178.0   \n",
       "2             137.0             700000.0   22         178.0   \n",
       "3            1479.0           10000000.0   20         194.0   \n",
       "4             408.0            2500000.0   32         185.0   \n",
       "..              ...                  ...  ...           ...   \n",
       "484          1094.0           20000000.0   25         182.0   \n",
       "485          1094.0           20000000.0   25         182.0   \n",
       "486           995.0            3000000.0   27         186.0   \n",
       "487           533.0            4500000.0   21         175.0   \n",
       "488          2618.0           15000000.0   23         190.0   \n",
       "\n",
       "     sub_position_encoded  position_encoded  \n",
       "0                       8                 1  \n",
       "1                       7                 0  \n",
       "2                       7                 0  \n",
       "3                       3                 0  \n",
       "4                       1                 3  \n",
       "..                    ...               ...  \n",
       "484                     9                 3  \n",
       "485                     9                 3  \n",
       "486                     8                 1  \n",
       "487                     8                 1  \n",
       "488                     2                 1  \n",
       "\n",
       "[489 rows x 27 columns]"
      ]
     },
     "execution_count": 321,
     "metadata": {},
     "output_type": "execute_result"
    }
   ],
   "source": [
    "final_17_18[0]"
   ]
  },
  {
   "cell_type": "code",
   "execution_count": 320,
   "metadata": {},
   "outputs": [
    {
     "data": {
      "text/plain": [
       "Index(['name', 'Gls', 'Sh', 'SoT', 'SoT%', 'Sh/90', 'SoT/90', 'G/Sh', 'G/SoT',\n",
       "       'Dist', 'FK', 'PK', 'PKatt', 'xG', 'npxG', 'npxG/Sh', 'player_id',\n",
       "       'goals', 'assists', 'yellow_cards', 'red_cards', 'minutes_played',\n",
       "       'market_value_in_eur', 'age', 'height_in_cm', 'sub_position_encoded',\n",
       "       'position_encoded'],\n",
       "      dtype='object')"
      ]
     },
     "execution_count": 320,
     "metadata": {},
     "output_type": "execute_result"
    }
   ],
   "source": [
    "final_17_18[2].columns"
   ]
  },
  {
   "cell_type": "code",
   "execution_count": 317,
   "metadata": {},
   "outputs": [
    {
     "ename": "MergeError",
     "evalue": "Passing 'suffixes' which cause duplicate columns {'age_x', 'goals_x', 'height_in_cm_x', 'market_value_in_eur_x', 'yellow_cards_x', 'position_encoded_x', 'player_id_x', 'minutes_played_x', 'red_cards_x', 'sub_position_encoded_x'} is not allowed.",
     "output_type": "error",
     "traceback": [
      "\u001b[0;31m---------------------------------------------------------------------------\u001b[0m",
      "\u001b[0;31mMergeError\u001b[0m                                Traceback (most recent call last)",
      "Cell \u001b[0;32mIn[317], line 3\u001b[0m\n\u001b[1;32m      1\u001b[0m final_17_18_v1 \u001b[38;5;241m=\u001b[39m pd\u001b[38;5;241m.\u001b[39mmerge(final_17_18[\u001b[38;5;241m0\u001b[39m], final_17_18[\u001b[38;5;241m2\u001b[39m], on\u001b[38;5;241m=\u001b[39m\u001b[38;5;124m'\u001b[39m\u001b[38;5;124mname\u001b[39m\u001b[38;5;124m'\u001b[39m)\n\u001b[1;32m      2\u001b[0m final_17_18_v1 \u001b[38;5;241m=\u001b[39m pd\u001b[38;5;241m.\u001b[39mmerge(final_17_18_v1, final_17_18[\u001b[38;5;241m3\u001b[39m], on\u001b[38;5;241m=\u001b[39m\u001b[38;5;124m'\u001b[39m\u001b[38;5;124mname\u001b[39m\u001b[38;5;124m'\u001b[39m)\n\u001b[0;32m----> 3\u001b[0m final_17_18_v1 \u001b[38;5;241m=\u001b[39m \u001b[43mpd\u001b[49m\u001b[38;5;241;43m.\u001b[39;49m\u001b[43mmerge\u001b[49m\u001b[43m(\u001b[49m\u001b[43mfinal_17_18_v1\u001b[49m\u001b[43m,\u001b[49m\u001b[43m \u001b[49m\u001b[43mfinal_17_18\u001b[49m\u001b[43m[\u001b[49m\u001b[38;5;241;43m4\u001b[39;49m\u001b[43m]\u001b[49m\u001b[43m,\u001b[49m\u001b[43m \u001b[49m\u001b[43mon\u001b[49m\u001b[38;5;241;43m=\u001b[39;49m\u001b[38;5;124;43m'\u001b[39;49m\u001b[38;5;124;43mname\u001b[39;49m\u001b[38;5;124;43m'\u001b[39;49m\u001b[43m)\u001b[49m\n",
      "File \u001b[0;32m/Library/Frameworks/Python.framework/Versions/3.12/lib/python3.12/site-packages/pandas/core/reshape/merge.py:184\u001b[0m, in \u001b[0;36mmerge\u001b[0;34m(left, right, how, on, left_on, right_on, left_index, right_index, sort, suffixes, copy, indicator, validate)\u001b[0m\n\u001b[1;32m    169\u001b[0m \u001b[38;5;28;01melse\u001b[39;00m:\n\u001b[1;32m    170\u001b[0m     op \u001b[38;5;241m=\u001b[39m _MergeOperation(\n\u001b[1;32m    171\u001b[0m         left_df,\n\u001b[1;32m    172\u001b[0m         right_df,\n\u001b[0;32m   (...)\u001b[0m\n\u001b[1;32m    182\u001b[0m         validate\u001b[38;5;241m=\u001b[39mvalidate,\n\u001b[1;32m    183\u001b[0m     )\n\u001b[0;32m--> 184\u001b[0m     \u001b[38;5;28;01mreturn\u001b[39;00m \u001b[43mop\u001b[49m\u001b[38;5;241;43m.\u001b[39;49m\u001b[43mget_result\u001b[49m\u001b[43m(\u001b[49m\u001b[43mcopy\u001b[49m\u001b[38;5;241;43m=\u001b[39;49m\u001b[43mcopy\u001b[49m\u001b[43m)\u001b[49m\n",
      "File \u001b[0;32m/Library/Frameworks/Python.framework/Versions/3.12/lib/python3.12/site-packages/pandas/core/reshape/merge.py:888\u001b[0m, in \u001b[0;36m_MergeOperation.get_result\u001b[0;34m(self, copy)\u001b[0m\n\u001b[1;32m    884\u001b[0m     \u001b[38;5;28mself\u001b[39m\u001b[38;5;241m.\u001b[39mleft, \u001b[38;5;28mself\u001b[39m\u001b[38;5;241m.\u001b[39mright \u001b[38;5;241m=\u001b[39m \u001b[38;5;28mself\u001b[39m\u001b[38;5;241m.\u001b[39m_indicator_pre_merge(\u001b[38;5;28mself\u001b[39m\u001b[38;5;241m.\u001b[39mleft, \u001b[38;5;28mself\u001b[39m\u001b[38;5;241m.\u001b[39mright)\n\u001b[1;32m    886\u001b[0m join_index, left_indexer, right_indexer \u001b[38;5;241m=\u001b[39m \u001b[38;5;28mself\u001b[39m\u001b[38;5;241m.\u001b[39m_get_join_info()\n\u001b[0;32m--> 888\u001b[0m result \u001b[38;5;241m=\u001b[39m \u001b[38;5;28;43mself\u001b[39;49m\u001b[38;5;241;43m.\u001b[39;49m\u001b[43m_reindex_and_concat\u001b[49m\u001b[43m(\u001b[49m\n\u001b[1;32m    889\u001b[0m \u001b[43m    \u001b[49m\u001b[43mjoin_index\u001b[49m\u001b[43m,\u001b[49m\u001b[43m \u001b[49m\u001b[43mleft_indexer\u001b[49m\u001b[43m,\u001b[49m\u001b[43m \u001b[49m\u001b[43mright_indexer\u001b[49m\u001b[43m,\u001b[49m\u001b[43m \u001b[49m\u001b[43mcopy\u001b[49m\u001b[38;5;241;43m=\u001b[39;49m\u001b[43mcopy\u001b[49m\n\u001b[1;32m    890\u001b[0m \u001b[43m\u001b[49m\u001b[43m)\u001b[49m\n\u001b[1;32m    891\u001b[0m result \u001b[38;5;241m=\u001b[39m result\u001b[38;5;241m.\u001b[39m__finalize__(\u001b[38;5;28mself\u001b[39m, method\u001b[38;5;241m=\u001b[39m\u001b[38;5;28mself\u001b[39m\u001b[38;5;241m.\u001b[39m_merge_type)\n\u001b[1;32m    893\u001b[0m \u001b[38;5;28;01mif\u001b[39;00m \u001b[38;5;28mself\u001b[39m\u001b[38;5;241m.\u001b[39mindicator:\n",
      "File \u001b[0;32m/Library/Frameworks/Python.framework/Versions/3.12/lib/python3.12/site-packages/pandas/core/reshape/merge.py:840\u001b[0m, in \u001b[0;36m_MergeOperation._reindex_and_concat\u001b[0;34m(self, join_index, left_indexer, right_indexer, copy)\u001b[0m\n\u001b[1;32m    837\u001b[0m left \u001b[38;5;241m=\u001b[39m \u001b[38;5;28mself\u001b[39m\u001b[38;5;241m.\u001b[39mleft[:]\n\u001b[1;32m    838\u001b[0m right \u001b[38;5;241m=\u001b[39m \u001b[38;5;28mself\u001b[39m\u001b[38;5;241m.\u001b[39mright[:]\n\u001b[0;32m--> 840\u001b[0m llabels, rlabels \u001b[38;5;241m=\u001b[39m \u001b[43m_items_overlap_with_suffix\u001b[49m\u001b[43m(\u001b[49m\n\u001b[1;32m    841\u001b[0m \u001b[43m    \u001b[49m\u001b[38;5;28;43mself\u001b[39;49m\u001b[38;5;241;43m.\u001b[39;49m\u001b[43mleft\u001b[49m\u001b[38;5;241;43m.\u001b[39;49m\u001b[43m_info_axis\u001b[49m\u001b[43m,\u001b[49m\u001b[43m \u001b[49m\u001b[38;5;28;43mself\u001b[39;49m\u001b[38;5;241;43m.\u001b[39;49m\u001b[43mright\u001b[49m\u001b[38;5;241;43m.\u001b[39;49m\u001b[43m_info_axis\u001b[49m\u001b[43m,\u001b[49m\u001b[43m \u001b[49m\u001b[38;5;28;43mself\u001b[39;49m\u001b[38;5;241;43m.\u001b[39;49m\u001b[43msuffixes\u001b[49m\n\u001b[1;32m    842\u001b[0m \u001b[43m\u001b[49m\u001b[43m)\u001b[49m\n\u001b[1;32m    844\u001b[0m \u001b[38;5;28;01mif\u001b[39;00m left_indexer \u001b[38;5;129;01mis\u001b[39;00m \u001b[38;5;129;01mnot\u001b[39;00m \u001b[38;5;28;01mNone\u001b[39;00m \u001b[38;5;129;01mand\u001b[39;00m \u001b[38;5;129;01mnot\u001b[39;00m is_range_indexer(left_indexer, \u001b[38;5;28mlen\u001b[39m(left)):\n\u001b[1;32m    845\u001b[0m     \u001b[38;5;66;03m# Pinning the index here (and in the right code just below) is not\u001b[39;00m\n\u001b[1;32m    846\u001b[0m     \u001b[38;5;66;03m#  necessary, but makes the `.take` more performant if we have e.g.\u001b[39;00m\n\u001b[1;32m    847\u001b[0m     \u001b[38;5;66;03m#  a MultiIndex for left.index.\u001b[39;00m\n\u001b[1;32m    848\u001b[0m     lmgr \u001b[38;5;241m=\u001b[39m left\u001b[38;5;241m.\u001b[39m_mgr\u001b[38;5;241m.\u001b[39mreindex_indexer(\n\u001b[1;32m    849\u001b[0m         join_index,\n\u001b[1;32m    850\u001b[0m         left_indexer,\n\u001b[0;32m   (...)\u001b[0m\n\u001b[1;32m    855\u001b[0m         use_na_proxy\u001b[38;5;241m=\u001b[39m\u001b[38;5;28;01mTrue\u001b[39;00m,\n\u001b[1;32m    856\u001b[0m     )\n",
      "File \u001b[0;32m/Library/Frameworks/Python.framework/Versions/3.12/lib/python3.12/site-packages/pandas/core/reshape/merge.py:2757\u001b[0m, in \u001b[0;36m_items_overlap_with_suffix\u001b[0;34m(left, right, suffixes)\u001b[0m\n\u001b[1;32m   2755\u001b[0m     dups\u001b[38;5;241m.\u001b[39mextend(rlabels[(rlabels\u001b[38;5;241m.\u001b[39mduplicated()) \u001b[38;5;241m&\u001b[39m (\u001b[38;5;241m~\u001b[39mright\u001b[38;5;241m.\u001b[39mduplicated())]\u001b[38;5;241m.\u001b[39mtolist())\n\u001b[1;32m   2756\u001b[0m \u001b[38;5;28;01mif\u001b[39;00m dups:\n\u001b[0;32m-> 2757\u001b[0m     \u001b[38;5;28;01mraise\u001b[39;00m MergeError(\n\u001b[1;32m   2758\u001b[0m         \u001b[38;5;124mf\u001b[39m\u001b[38;5;124m\"\u001b[39m\u001b[38;5;124mPassing \u001b[39m\u001b[38;5;124m'\u001b[39m\u001b[38;5;124msuffixes\u001b[39m\u001b[38;5;124m'\u001b[39m\u001b[38;5;124m which cause duplicate columns \u001b[39m\u001b[38;5;132;01m{\u001b[39;00m\u001b[38;5;28mset\u001b[39m(dups)\u001b[38;5;132;01m}\u001b[39;00m\u001b[38;5;124m is \u001b[39m\u001b[38;5;124m\"\u001b[39m\n\u001b[1;32m   2759\u001b[0m         \u001b[38;5;124mf\u001b[39m\u001b[38;5;124m\"\u001b[39m\u001b[38;5;124mnot allowed.\u001b[39m\u001b[38;5;124m\"\u001b[39m,\n\u001b[1;32m   2760\u001b[0m     )\n\u001b[1;32m   2762\u001b[0m \u001b[38;5;28;01mreturn\u001b[39;00m llabels, rlabels\n",
      "\u001b[0;31mMergeError\u001b[0m: Passing 'suffixes' which cause duplicate columns {'age_x', 'goals_x', 'height_in_cm_x', 'market_value_in_eur_x', 'yellow_cards_x', 'position_encoded_x', 'player_id_x', 'minutes_played_x', 'red_cards_x', 'sub_position_encoded_x'} is not allowed."
     ]
    }
   ],
   "source": [
    "final_17_18_v1 = pd.merge(final_17_18[0], final_17_18[2], on='name')\n",
    "final_17_18_v1 = pd.merge(final_17_18_v1, final_17_18[3], on='name')\n",
    "final_17_18_v1 = pd.merge(final_17_18_v1, final_17_18[4], on='name')"
   ]
  },
  {
   "cell_type": "code",
   "execution_count": 296,
   "metadata": {},
   "outputs": [
    {
     "data": {
      "text/html": [
       "<div>\n",
       "<style scoped>\n",
       "    .dataframe tbody tr th:only-of-type {\n",
       "        vertical-align: middle;\n",
       "    }\n",
       "\n",
       "    .dataframe tbody tr th {\n",
       "        vertical-align: top;\n",
       "    }\n",
       "\n",
       "    .dataframe thead th {\n",
       "        text-align: right;\n",
       "    }\n",
       "</style>\n",
       "<table border=\"1\" class=\"dataframe\">\n",
       "  <thead>\n",
       "    <tr style=\"text-align: right;\">\n",
       "      <th></th>\n",
       "      <th>name</th>\n",
       "      <th>Gls</th>\n",
       "      <th>Sh</th>\n",
       "      <th>SoT</th>\n",
       "      <th>SoT%</th>\n",
       "      <th>Sh/90</th>\n",
       "      <th>SoT/90</th>\n",
       "      <th>G/Sh</th>\n",
       "      <th>G/SoT</th>\n",
       "      <th>Dist</th>\n",
       "      <th>...</th>\n",
       "      <th>medium passes attempted</th>\n",
       "      <th>medium passes succes rate</th>\n",
       "      <th>long passes completed</th>\n",
       "      <th>long passes attempted</th>\n",
       "      <th>long passes succes rate</th>\n",
       "      <th>expected assists 2nd deegree</th>\n",
       "      <th>expected assists</th>\n",
       "      <th>key passes</th>\n",
       "      <th>passes into 1/3</th>\n",
       "      <th>passes into penalty area</th>\n",
       "    </tr>\n",
       "  </thead>\n",
       "  <tbody>\n",
       "    <tr>\n",
       "      <th>0</th>\n",
       "      <td>Patrick van Aanholt</td>\n",
       "      <td>5</td>\n",
       "      <td>33.0</td>\n",
       "      <td>11</td>\n",
       "      <td>33.3</td>\n",
       "      <td>1.36</td>\n",
       "      <td>0.45</td>\n",
       "      <td>0.15</td>\n",
       "      <td>0.45</td>\n",
       "      <td>23.4</td>\n",
       "      <td>...</td>\n",
       "      <td>431.0</td>\n",
       "      <td>72.2</td>\n",
       "      <td>74.0</td>\n",
       "      <td>152.0</td>\n",
       "      <td>48.7</td>\n",
       "      <td>2.1</td>\n",
       "      <td>1.8</td>\n",
       "      <td>18.0</td>\n",
       "      <td>63.0</td>\n",
       "      <td>28.0</td>\n",
       "    </tr>\n",
       "    <tr>\n",
       "      <th>1</th>\n",
       "      <td>Rolando Aarons</td>\n",
       "      <td>0</td>\n",
       "      <td>2.0</td>\n",
       "      <td>0</td>\n",
       "      <td>0.0</td>\n",
       "      <td>1.29</td>\n",
       "      <td>0.00</td>\n",
       "      <td>0.00</td>\n",
       "      <td>0.00</td>\n",
       "      <td>19.9</td>\n",
       "      <td>...</td>\n",
       "      <td>5.0</td>\n",
       "      <td>40.0</td>\n",
       "      <td>2.0</td>\n",
       "      <td>3.0</td>\n",
       "      <td>66.7</td>\n",
       "      <td>0.0</td>\n",
       "      <td>0.0</td>\n",
       "      <td>0.0</td>\n",
       "      <td>2.0</td>\n",
       "      <td>1.0</td>\n",
       "    </tr>\n",
       "    <tr>\n",
       "      <th>2</th>\n",
       "      <td>Rolando Aarons</td>\n",
       "      <td>0</td>\n",
       "      <td>2.0</td>\n",
       "      <td>0</td>\n",
       "      <td>0.0</td>\n",
       "      <td>1.29</td>\n",
       "      <td>0.00</td>\n",
       "      <td>0.00</td>\n",
       "      <td>0.00</td>\n",
       "      <td>19.9</td>\n",
       "      <td>...</td>\n",
       "      <td>35.0</td>\n",
       "      <td>71.4</td>\n",
       "      <td>4.0</td>\n",
       "      <td>8.0</td>\n",
       "      <td>50.0</td>\n",
       "      <td>0.2</td>\n",
       "      <td>0.1</td>\n",
       "      <td>3.0</td>\n",
       "      <td>8.0</td>\n",
       "      <td>7.0</td>\n",
       "    </tr>\n",
       "    <tr>\n",
       "      <th>3</th>\n",
       "      <td>Rolando Aarons</td>\n",
       "      <td>0</td>\n",
       "      <td>3.0</td>\n",
       "      <td>0</td>\n",
       "      <td>0.0</td>\n",
       "      <td>0.52</td>\n",
       "      <td>0.00</td>\n",
       "      <td>0.00</td>\n",
       "      <td>0.00</td>\n",
       "      <td>17.4</td>\n",
       "      <td>...</td>\n",
       "      <td>5.0</td>\n",
       "      <td>40.0</td>\n",
       "      <td>2.0</td>\n",
       "      <td>3.0</td>\n",
       "      <td>66.7</td>\n",
       "      <td>0.0</td>\n",
       "      <td>0.0</td>\n",
       "      <td>0.0</td>\n",
       "      <td>2.0</td>\n",
       "      <td>1.0</td>\n",
       "    </tr>\n",
       "    <tr>\n",
       "      <th>4</th>\n",
       "      <td>Rolando Aarons</td>\n",
       "      <td>0</td>\n",
       "      <td>3.0</td>\n",
       "      <td>0</td>\n",
       "      <td>0.0</td>\n",
       "      <td>0.52</td>\n",
       "      <td>0.00</td>\n",
       "      <td>0.00</td>\n",
       "      <td>0.00</td>\n",
       "      <td>17.4</td>\n",
       "      <td>...</td>\n",
       "      <td>35.0</td>\n",
       "      <td>71.4</td>\n",
       "      <td>4.0</td>\n",
       "      <td>8.0</td>\n",
       "      <td>50.0</td>\n",
       "      <td>0.2</td>\n",
       "      <td>0.1</td>\n",
       "      <td>3.0</td>\n",
       "      <td>8.0</td>\n",
       "      <td>7.0</td>\n",
       "    </tr>\n",
       "    <tr>\n",
       "      <th>...</th>\n",
       "      <td>...</td>\n",
       "      <td>...</td>\n",
       "      <td>...</td>\n",
       "      <td>...</td>\n",
       "      <td>...</td>\n",
       "      <td>...</td>\n",
       "      <td>...</td>\n",
       "      <td>...</td>\n",
       "      <td>...</td>\n",
       "      <td>...</td>\n",
       "      <td>...</td>\n",
       "      <td>...</td>\n",
       "      <td>...</td>\n",
       "      <td>...</td>\n",
       "      <td>...</td>\n",
       "      <td>...</td>\n",
       "      <td>...</td>\n",
       "      <td>...</td>\n",
       "      <td>...</td>\n",
       "      <td>...</td>\n",
       "      <td>...</td>\n",
       "    </tr>\n",
       "    <tr>\n",
       "      <th>548</th>\n",
       "      <td>Davide Zappacosta</td>\n",
       "      <td>0</td>\n",
       "      <td>0.0</td>\n",
       "      <td>0</td>\n",
       "      <td>0.0</td>\n",
       "      <td>0.00</td>\n",
       "      <td>0.00</td>\n",
       "      <td>0.00</td>\n",
       "      <td>0.00</td>\n",
       "      <td>0.0</td>\n",
       "      <td>...</td>\n",
       "      <td>215.0</td>\n",
       "      <td>76.3</td>\n",
       "      <td>28.0</td>\n",
       "      <td>49.0</td>\n",
       "      <td>57.1</td>\n",
       "      <td>1.3</td>\n",
       "      <td>1.6</td>\n",
       "      <td>13.0</td>\n",
       "      <td>11.0</td>\n",
       "      <td>14.0</td>\n",
       "    </tr>\n",
       "    <tr>\n",
       "      <th>549</th>\n",
       "      <td>Davide Zappacosta</td>\n",
       "      <td>0</td>\n",
       "      <td>0.0</td>\n",
       "      <td>0</td>\n",
       "      <td>0.0</td>\n",
       "      <td>0.00</td>\n",
       "      <td>0.00</td>\n",
       "      <td>0.00</td>\n",
       "      <td>0.00</td>\n",
       "      <td>0.0</td>\n",
       "      <td>...</td>\n",
       "      <td>17.0</td>\n",
       "      <td>82.4</td>\n",
       "      <td>4.0</td>\n",
       "      <td>11.0</td>\n",
       "      <td>36.4</td>\n",
       "      <td>0.0</td>\n",
       "      <td>0.0</td>\n",
       "      <td>1.0</td>\n",
       "      <td>2.0</td>\n",
       "      <td>1.0</td>\n",
       "    </tr>\n",
       "    <tr>\n",
       "      <th>550</th>\n",
       "      <td>Marvin Zeegelaar</td>\n",
       "      <td>0</td>\n",
       "      <td>0.0</td>\n",
       "      <td>0</td>\n",
       "      <td>0.0</td>\n",
       "      <td>0.00</td>\n",
       "      <td>0.00</td>\n",
       "      <td>0.00</td>\n",
       "      <td>0.00</td>\n",
       "      <td>0.0</td>\n",
       "      <td>...</td>\n",
       "      <td>193.0</td>\n",
       "      <td>72.5</td>\n",
       "      <td>28.0</td>\n",
       "      <td>55.0</td>\n",
       "      <td>50.9</td>\n",
       "      <td>1.0</td>\n",
       "      <td>0.8</td>\n",
       "      <td>7.0</td>\n",
       "      <td>39.0</td>\n",
       "      <td>10.0</td>\n",
       "    </tr>\n",
       "    <tr>\n",
       "      <th>551</th>\n",
       "      <td>Oleksandr Zinchenko</td>\n",
       "      <td>0</td>\n",
       "      <td>5.0</td>\n",
       "      <td>2</td>\n",
       "      <td>40.0</td>\n",
       "      <td>0.85</td>\n",
       "      <td>0.34</td>\n",
       "      <td>0.00</td>\n",
       "      <td>0.00</td>\n",
       "      <td>31.0</td>\n",
       "      <td>...</td>\n",
       "      <td>235.0</td>\n",
       "      <td>92.8</td>\n",
       "      <td>31.0</td>\n",
       "      <td>46.0</td>\n",
       "      <td>67.4</td>\n",
       "      <td>0.4</td>\n",
       "      <td>0.5</td>\n",
       "      <td>8.0</td>\n",
       "      <td>55.0</td>\n",
       "      <td>8.0</td>\n",
       "    </tr>\n",
       "    <tr>\n",
       "      <th>552</th>\n",
       "      <td>Kurt Zouma</td>\n",
       "      <td>1</td>\n",
       "      <td>20.0</td>\n",
       "      <td>7</td>\n",
       "      <td>35.0</td>\n",
       "      <td>0.62</td>\n",
       "      <td>0.22</td>\n",
       "      <td>0.05</td>\n",
       "      <td>0.14</td>\n",
       "      <td>21.0</td>\n",
       "      <td>...</td>\n",
       "      <td>516.0</td>\n",
       "      <td>77.5</td>\n",
       "      <td>113.0</td>\n",
       "      <td>207.0</td>\n",
       "      <td>54.6</td>\n",
       "      <td>0.4</td>\n",
       "      <td>0.3</td>\n",
       "      <td>6.0</td>\n",
       "      <td>74.0</td>\n",
       "      <td>3.0</td>\n",
       "    </tr>\n",
       "  </tbody>\n",
       "</table>\n",
       "<p>553 rows × 46 columns</p>\n",
       "</div>"
      ],
      "text/plain": [
       "                    name  Gls    Sh  SoT  SoT%  Sh/90  SoT/90  G/Sh  G/SoT  \\\n",
       "0    Patrick van Aanholt    5  33.0   11  33.3   1.36    0.45  0.15   0.45   \n",
       "1         Rolando Aarons    0   2.0    0   0.0   1.29    0.00  0.00   0.00   \n",
       "2         Rolando Aarons    0   2.0    0   0.0   1.29    0.00  0.00   0.00   \n",
       "3         Rolando Aarons    0   3.0    0   0.0   0.52    0.00  0.00   0.00   \n",
       "4         Rolando Aarons    0   3.0    0   0.0   0.52    0.00  0.00   0.00   \n",
       "..                   ...  ...   ...  ...   ...    ...     ...   ...    ...   \n",
       "548    Davide Zappacosta    0   0.0    0   0.0   0.00    0.00  0.00   0.00   \n",
       "549    Davide Zappacosta    0   0.0    0   0.0   0.00    0.00  0.00   0.00   \n",
       "550     Marvin Zeegelaar    0   0.0    0   0.0   0.00    0.00  0.00   0.00   \n",
       "551  Oleksandr Zinchenko    0   5.0    2  40.0   0.85    0.34  0.00   0.00   \n",
       "552           Kurt Zouma    1  20.0    7  35.0   0.62    0.22  0.05   0.14   \n",
       "\n",
       "     Dist  ...  medium passes attempted  medium passes succes rate  \\\n",
       "0    23.4  ...                    431.0                       72.2   \n",
       "1    19.9  ...                      5.0                       40.0   \n",
       "2    19.9  ...                     35.0                       71.4   \n",
       "3    17.4  ...                      5.0                       40.0   \n",
       "4    17.4  ...                     35.0                       71.4   \n",
       "..    ...  ...                      ...                        ...   \n",
       "548   0.0  ...                    215.0                       76.3   \n",
       "549   0.0  ...                     17.0                       82.4   \n",
       "550   0.0  ...                    193.0                       72.5   \n",
       "551  31.0  ...                    235.0                       92.8   \n",
       "552  21.0  ...                    516.0                       77.5   \n",
       "\n",
       "     long passes completed  long passes attempted  long passes succes rate  \\\n",
       "0                     74.0                  152.0                     48.7   \n",
       "1                      2.0                    3.0                     66.7   \n",
       "2                      4.0                    8.0                     50.0   \n",
       "3                      2.0                    3.0                     66.7   \n",
       "4                      4.0                    8.0                     50.0   \n",
       "..                     ...                    ...                      ...   \n",
       "548                   28.0                   49.0                     57.1   \n",
       "549                    4.0                   11.0                     36.4   \n",
       "550                   28.0                   55.0                     50.9   \n",
       "551                   31.0                   46.0                     67.4   \n",
       "552                  113.0                  207.0                     54.6   \n",
       "\n",
       "     expected assists 2nd deegree  expected assists  key passes  \\\n",
       "0                             2.1               1.8        18.0   \n",
       "1                             0.0               0.0         0.0   \n",
       "2                             0.2               0.1         3.0   \n",
       "3                             0.0               0.0         0.0   \n",
       "4                             0.2               0.1         3.0   \n",
       "..                            ...               ...         ...   \n",
       "548                           1.3               1.6        13.0   \n",
       "549                           0.0               0.0         1.0   \n",
       "550                           1.0               0.8         7.0   \n",
       "551                           0.4               0.5         8.0   \n",
       "552                           0.4               0.3         6.0   \n",
       "\n",
       "     passes into 1/3  passes into penalty area  \n",
       "0               63.0                      28.0  \n",
       "1                2.0                       1.0  \n",
       "2                8.0                       7.0  \n",
       "3                2.0                       1.0  \n",
       "4                8.0                       7.0  \n",
       "..               ...                       ...  \n",
       "548             11.0                      14.0  \n",
       "549              2.0                       1.0  \n",
       "550             39.0                      10.0  \n",
       "551             55.0                       8.0  \n",
       "552             74.0                       3.0  \n",
       "\n",
       "[553 rows x 46 columns]"
      ]
     },
     "execution_count": 296,
     "metadata": {},
     "output_type": "execute_result"
    }
   ],
   "source": [
    "final_17_18[2]"
   ]
  },
  {
   "cell_type": "code",
   "execution_count": 211,
   "metadata": {},
   "outputs": [
    {
     "data": {
      "text/html": [
       "<div>\n",
       "<style scoped>\n",
       "    .dataframe tbody tr th:only-of-type {\n",
       "        vertical-align: middle;\n",
       "    }\n",
       "\n",
       "    .dataframe tbody tr th {\n",
       "        vertical-align: top;\n",
       "    }\n",
       "\n",
       "    .dataframe thead th {\n",
       "        text-align: right;\n",
       "    }\n",
       "</style>\n",
       "<table border=\"1\" class=\"dataframe\">\n",
       "  <thead>\n",
       "    <tr style=\"text-align: right;\">\n",
       "      <th></th>\n",
       "      <th>player_id</th>\n",
       "      <th>goals</th>\n",
       "      <th>assists</th>\n",
       "      <th>yellow_cards</th>\n",
       "      <th>red_cards</th>\n",
       "      <th>minutes_played</th>\n",
       "      <th>name</th>\n",
       "      <th>market_value_in_eur</th>\n",
       "      <th>age</th>\n",
       "      <th>height_in_cm</th>\n",
       "      <th>sub_position_encoded</th>\n",
       "      <th>position_encoded</th>\n",
       "    </tr>\n",
       "  </thead>\n",
       "  <tbody>\n",
       "    <tr>\n",
       "      <th>0</th>\n",
       "      <td>1397.0</td>\n",
       "      <td>1.0</td>\n",
       "      <td>0.0</td>\n",
       "      <td>0.0</td>\n",
       "      <td>0.0</td>\n",
       "      <td>94.0</td>\n",
       "      <td>Michael Owen</td>\n",
       "      <td>1000000.0</td>\n",
       "      <td>33</td>\n",
       "      <td>173.0</td>\n",
       "      <td>3</td>\n",
       "      <td>0</td>\n",
       "    </tr>\n",
       "    <tr>\n",
       "      <th>1</th>\n",
       "      <td>3109.0</td>\n",
       "      <td>10.0</td>\n",
       "      <td>8.0</td>\n",
       "      <td>5.0</td>\n",
       "      <td>0.0</td>\n",
       "      <td>3042.0</td>\n",
       "      <td>Steven Gerrard</td>\n",
       "      <td>11500000.0</td>\n",
       "      <td>32</td>\n",
       "      <td>183.0</td>\n",
       "      <td>1</td>\n",
       "      <td>3</td>\n",
       "    </tr>\n",
       "    <tr>\n",
       "      <th>2</th>\n",
       "      <td>3118.0</td>\n",
       "      <td>0.0</td>\n",
       "      <td>1.0</td>\n",
       "      <td>1.0</td>\n",
       "      <td>0.0</td>\n",
       "      <td>196.0</td>\n",
       "      <td>Kieron Dyer</td>\n",
       "      <td>500000.0</td>\n",
       "      <td>34</td>\n",
       "      <td>170.0</td>\n",
       "      <td>9</td>\n",
       "      <td>3</td>\n",
       "    </tr>\n",
       "    <tr>\n",
       "      <th>4</th>\n",
       "      <td>3130.0</td>\n",
       "      <td>0.0</td>\n",
       "      <td>0.0</td>\n",
       "      <td>3.0</td>\n",
       "      <td>0.0</td>\n",
       "      <td>1181.0</td>\n",
       "      <td>Titus Bramble</td>\n",
       "      <td>2000000.0</td>\n",
       "      <td>31</td>\n",
       "      <td>192.0</td>\n",
       "      <td>2</td>\n",
       "      <td>1</td>\n",
       "    </tr>\n",
       "    <tr>\n",
       "      <th>6</th>\n",
       "      <td>3160.0</td>\n",
       "      <td>4.0</td>\n",
       "      <td>0.0</td>\n",
       "      <td>1.0</td>\n",
       "      <td>0.0</td>\n",
       "      <td>769.0</td>\n",
       "      <td>John Terry</td>\n",
       "      <td>12000000.0</td>\n",
       "      <td>32</td>\n",
       "      <td>187.0</td>\n",
       "      <td>2</td>\n",
       "      <td>1</td>\n",
       "    </tr>\n",
       "    <tr>\n",
       "      <th>...</th>\n",
       "      <td>...</td>\n",
       "      <td>...</td>\n",
       "      <td>...</td>\n",
       "      <td>...</td>\n",
       "      <td>...</td>\n",
       "      <td>...</td>\n",
       "      <td>...</td>\n",
       "      <td>...</td>\n",
       "      <td>...</td>\n",
       "      <td>...</td>\n",
       "      <td>...</td>\n",
       "      <td>...</td>\n",
       "    </tr>\n",
       "    <tr>\n",
       "      <th>274</th>\n",
       "      <td>128912.0</td>\n",
       "      <td>0.0</td>\n",
       "      <td>1.0</td>\n",
       "      <td>0.0</td>\n",
       "      <td>0.0</td>\n",
       "      <td>1015.0</td>\n",
       "      <td>Andre Wisdom</td>\n",
       "      <td>500000.0</td>\n",
       "      <td>19</td>\n",
       "      <td>186.0</td>\n",
       "      <td>11</td>\n",
       "      <td>1</td>\n",
       "    </tr>\n",
       "    <tr>\n",
       "      <th>286</th>\n",
       "      <td>134424.0</td>\n",
       "      <td>1.0</td>\n",
       "      <td>0.0</td>\n",
       "      <td>0.0</td>\n",
       "      <td>0.0</td>\n",
       "      <td>30.0</td>\n",
       "      <td>Nick Powell</td>\n",
       "      <td>5000000.0</td>\n",
       "      <td>18</td>\n",
       "      <td>183.0</td>\n",
       "      <td>0</td>\n",
       "      <td>3</td>\n",
       "    </tr>\n",
       "    <tr>\n",
       "      <th>287</th>\n",
       "      <td>134425.0</td>\n",
       "      <td>2.0</td>\n",
       "      <td>6.0</td>\n",
       "      <td>1.0</td>\n",
       "      <td>0.0</td>\n",
       "      <td>1658.0</td>\n",
       "      <td>Raheem Sterling</td>\n",
       "      <td>11500000.0</td>\n",
       "      <td>18</td>\n",
       "      <td>170.0</td>\n",
       "      <td>7</td>\n",
       "      <td>0</td>\n",
       "    </tr>\n",
       "    <tr>\n",
       "      <th>315</th>\n",
       "      <td>181579.0</td>\n",
       "      <td>0.0</td>\n",
       "      <td>1.0</td>\n",
       "      <td>0.0</td>\n",
       "      <td>0.0</td>\n",
       "      <td>403.0</td>\n",
       "      <td>James Ward-Prowse</td>\n",
       "      <td>500000.0</td>\n",
       "      <td>18</td>\n",
       "      <td>177.0</td>\n",
       "      <td>1</td>\n",
       "      <td>3</td>\n",
       "    </tr>\n",
       "    <tr>\n",
       "      <th>319</th>\n",
       "      <td>183288.0</td>\n",
       "      <td>0.0</td>\n",
       "      <td>0.0</td>\n",
       "      <td>2.0</td>\n",
       "      <td>0.0</td>\n",
       "      <td>1951.0</td>\n",
       "      <td>Luke Shaw</td>\n",
       "      <td>4500000.0</td>\n",
       "      <td>17</td>\n",
       "      <td>178.0</td>\n",
       "      <td>8</td>\n",
       "      <td>1</td>\n",
       "    </tr>\n",
       "  </tbody>\n",
       "</table>\n",
       "<p>134 rows × 12 columns</p>\n",
       "</div>"
      ],
      "text/plain": [
       "     player_id  goals  assists  yellow_cards  red_cards  minutes_played  \\\n",
       "0       1397.0    1.0      0.0           0.0        0.0            94.0   \n",
       "1       3109.0   10.0      8.0           5.0        0.0          3042.0   \n",
       "2       3118.0    0.0      1.0           1.0        0.0           196.0   \n",
       "4       3130.0    0.0      0.0           3.0        0.0          1181.0   \n",
       "6       3160.0    4.0      0.0           1.0        0.0           769.0   \n",
       "..         ...    ...      ...           ...        ...             ...   \n",
       "274   128912.0    0.0      1.0           0.0        0.0          1015.0   \n",
       "286   134424.0    1.0      0.0           0.0        0.0            30.0   \n",
       "287   134425.0    2.0      6.0           1.0        0.0          1658.0   \n",
       "315   181579.0    0.0      1.0           0.0        0.0           403.0   \n",
       "319   183288.0    0.0      0.0           2.0        0.0          1951.0   \n",
       "\n",
       "                  name  market_value_in_eur  age  height_in_cm  \\\n",
       "0         Michael Owen            1000000.0   33         173.0   \n",
       "1       Steven Gerrard           11500000.0   32         183.0   \n",
       "2          Kieron Dyer             500000.0   34         170.0   \n",
       "4        Titus Bramble            2000000.0   31         192.0   \n",
       "6           John Terry           12000000.0   32         187.0   \n",
       "..                 ...                  ...  ...           ...   \n",
       "274       Andre Wisdom             500000.0   19         186.0   \n",
       "286        Nick Powell            5000000.0   18         183.0   \n",
       "287    Raheem Sterling           11500000.0   18         170.0   \n",
       "315  James Ward-Prowse             500000.0   18         177.0   \n",
       "319          Luke Shaw            4500000.0   17         178.0   \n",
       "\n",
       "     sub_position_encoded  position_encoded  \n",
       "0                       3                 0  \n",
       "1                       1                 3  \n",
       "2                       9                 3  \n",
       "4                       2                 1  \n",
       "6                       2                 1  \n",
       "..                    ...               ...  \n",
       "274                    11                 1  \n",
       "286                     0                 3  \n",
       "287                     7                 0  \n",
       "315                     1                 3  \n",
       "319                     8                 1  \n",
       "\n",
       "[134 rows x 12 columns]"
      ]
     },
     "execution_count": 211,
     "metadata": {},
     "output_type": "execute_result"
    }
   ],
   "source": [
    "seasons[0]"
   ]
  },
  {
   "cell_type": "code",
   "execution_count": 212,
   "metadata": {},
   "outputs": [],
   "source": [
    "def value_over(name, option='age'):\n",
    "\n",
    "    player_data = combined_stats_all[combined_stats_all['name'] == name]\n",
    "\n",
    "    fig = px.line(player_data, x=option, y='market_value_in_eur', title=f'Market value of {name}', labels={'age' : 'Age', 'market_value_in_eur' : 'Market Value (EUR)'})\n",
    "\n",
    "\n",
    "\n",
    "    fig.show()"
   ]
  },
  {
   "cell_type": "code",
   "execution_count": 213,
   "metadata": {},
   "outputs": [
    {
     "data": {
      "application/vnd.plotly.v1+json": {
       "config": {
        "plotlyServerURL": "https://plot.ly"
       },
       "data": [
        {
         "hovertemplate": "Age=%{x}<br>Market Value (EUR)=%{y}<extra></extra>",
         "legendgroup": "",
         "line": {
          "color": "#636efa",
          "dash": "solid"
         },
         "marker": {
          "symbol": "circle"
         },
         "mode": "lines",
         "name": "",
         "orientation": "v",
         "showlegend": false,
         "type": "scatter",
         "x": [
          18,
          19,
          20,
          21,
          22,
          23,
          24,
          25,
          26
         ],
         "xaxis": "x",
         "y": [
          6000000,
          10000000,
          50000000,
          80000000,
          64000000,
          85000000,
          70000000,
          55000000,
          75000000
         ],
         "yaxis": "y"
        }
       ],
       "layout": {
        "legend": {
         "tracegroupgap": 0
        },
        "template": {
         "data": {
          "bar": [
           {
            "error_x": {
             "color": "#2a3f5f"
            },
            "error_y": {
             "color": "#2a3f5f"
            },
            "marker": {
             "line": {
              "color": "#E5ECF6",
              "width": 0.5
             },
             "pattern": {
              "fillmode": "overlay",
              "size": 10,
              "solidity": 0.2
             }
            },
            "type": "bar"
           }
          ],
          "barpolar": [
           {
            "marker": {
             "line": {
              "color": "#E5ECF6",
              "width": 0.5
             },
             "pattern": {
              "fillmode": "overlay",
              "size": 10,
              "solidity": 0.2
             }
            },
            "type": "barpolar"
           }
          ],
          "carpet": [
           {
            "aaxis": {
             "endlinecolor": "#2a3f5f",
             "gridcolor": "white",
             "linecolor": "white",
             "minorgridcolor": "white",
             "startlinecolor": "#2a3f5f"
            },
            "baxis": {
             "endlinecolor": "#2a3f5f",
             "gridcolor": "white",
             "linecolor": "white",
             "minorgridcolor": "white",
             "startlinecolor": "#2a3f5f"
            },
            "type": "carpet"
           }
          ],
          "choropleth": [
           {
            "colorbar": {
             "outlinewidth": 0,
             "ticks": ""
            },
            "type": "choropleth"
           }
          ],
          "contour": [
           {
            "colorbar": {
             "outlinewidth": 0,
             "ticks": ""
            },
            "colorscale": [
             [
              0,
              "#0d0887"
             ],
             [
              0.1111111111111111,
              "#46039f"
             ],
             [
              0.2222222222222222,
              "#7201a8"
             ],
             [
              0.3333333333333333,
              "#9c179e"
             ],
             [
              0.4444444444444444,
              "#bd3786"
             ],
             [
              0.5555555555555556,
              "#d8576b"
             ],
             [
              0.6666666666666666,
              "#ed7953"
             ],
             [
              0.7777777777777778,
              "#fb9f3a"
             ],
             [
              0.8888888888888888,
              "#fdca26"
             ],
             [
              1,
              "#f0f921"
             ]
            ],
            "type": "contour"
           }
          ],
          "contourcarpet": [
           {
            "colorbar": {
             "outlinewidth": 0,
             "ticks": ""
            },
            "type": "contourcarpet"
           }
          ],
          "heatmap": [
           {
            "colorbar": {
             "outlinewidth": 0,
             "ticks": ""
            },
            "colorscale": [
             [
              0,
              "#0d0887"
             ],
             [
              0.1111111111111111,
              "#46039f"
             ],
             [
              0.2222222222222222,
              "#7201a8"
             ],
             [
              0.3333333333333333,
              "#9c179e"
             ],
             [
              0.4444444444444444,
              "#bd3786"
             ],
             [
              0.5555555555555556,
              "#d8576b"
             ],
             [
              0.6666666666666666,
              "#ed7953"
             ],
             [
              0.7777777777777778,
              "#fb9f3a"
             ],
             [
              0.8888888888888888,
              "#fdca26"
             ],
             [
              1,
              "#f0f921"
             ]
            ],
            "type": "heatmap"
           }
          ],
          "heatmapgl": [
           {
            "colorbar": {
             "outlinewidth": 0,
             "ticks": ""
            },
            "colorscale": [
             [
              0,
              "#0d0887"
             ],
             [
              0.1111111111111111,
              "#46039f"
             ],
             [
              0.2222222222222222,
              "#7201a8"
             ],
             [
              0.3333333333333333,
              "#9c179e"
             ],
             [
              0.4444444444444444,
              "#bd3786"
             ],
             [
              0.5555555555555556,
              "#d8576b"
             ],
             [
              0.6666666666666666,
              "#ed7953"
             ],
             [
              0.7777777777777778,
              "#fb9f3a"
             ],
             [
              0.8888888888888888,
              "#fdca26"
             ],
             [
              1,
              "#f0f921"
             ]
            ],
            "type": "heatmapgl"
           }
          ],
          "histogram": [
           {
            "marker": {
             "pattern": {
              "fillmode": "overlay",
              "size": 10,
              "solidity": 0.2
             }
            },
            "type": "histogram"
           }
          ],
          "histogram2d": [
           {
            "colorbar": {
             "outlinewidth": 0,
             "ticks": ""
            },
            "colorscale": [
             [
              0,
              "#0d0887"
             ],
             [
              0.1111111111111111,
              "#46039f"
             ],
             [
              0.2222222222222222,
              "#7201a8"
             ],
             [
              0.3333333333333333,
              "#9c179e"
             ],
             [
              0.4444444444444444,
              "#bd3786"
             ],
             [
              0.5555555555555556,
              "#d8576b"
             ],
             [
              0.6666666666666666,
              "#ed7953"
             ],
             [
              0.7777777777777778,
              "#fb9f3a"
             ],
             [
              0.8888888888888888,
              "#fdca26"
             ],
             [
              1,
              "#f0f921"
             ]
            ],
            "type": "histogram2d"
           }
          ],
          "histogram2dcontour": [
           {
            "colorbar": {
             "outlinewidth": 0,
             "ticks": ""
            },
            "colorscale": [
             [
              0,
              "#0d0887"
             ],
             [
              0.1111111111111111,
              "#46039f"
             ],
             [
              0.2222222222222222,
              "#7201a8"
             ],
             [
              0.3333333333333333,
              "#9c179e"
             ],
             [
              0.4444444444444444,
              "#bd3786"
             ],
             [
              0.5555555555555556,
              "#d8576b"
             ],
             [
              0.6666666666666666,
              "#ed7953"
             ],
             [
              0.7777777777777778,
              "#fb9f3a"
             ],
             [
              0.8888888888888888,
              "#fdca26"
             ],
             [
              1,
              "#f0f921"
             ]
            ],
            "type": "histogram2dcontour"
           }
          ],
          "mesh3d": [
           {
            "colorbar": {
             "outlinewidth": 0,
             "ticks": ""
            },
            "type": "mesh3d"
           }
          ],
          "parcoords": [
           {
            "line": {
             "colorbar": {
              "outlinewidth": 0,
              "ticks": ""
             }
            },
            "type": "parcoords"
           }
          ],
          "pie": [
           {
            "automargin": true,
            "type": "pie"
           }
          ],
          "scatter": [
           {
            "fillpattern": {
             "fillmode": "overlay",
             "size": 10,
             "solidity": 0.2
            },
            "type": "scatter"
           }
          ],
          "scatter3d": [
           {
            "line": {
             "colorbar": {
              "outlinewidth": 0,
              "ticks": ""
             }
            },
            "marker": {
             "colorbar": {
              "outlinewidth": 0,
              "ticks": ""
             }
            },
            "type": "scatter3d"
           }
          ],
          "scattercarpet": [
           {
            "marker": {
             "colorbar": {
              "outlinewidth": 0,
              "ticks": ""
             }
            },
            "type": "scattercarpet"
           }
          ],
          "scattergeo": [
           {
            "marker": {
             "colorbar": {
              "outlinewidth": 0,
              "ticks": ""
             }
            },
            "type": "scattergeo"
           }
          ],
          "scattergl": [
           {
            "marker": {
             "colorbar": {
              "outlinewidth": 0,
              "ticks": ""
             }
            },
            "type": "scattergl"
           }
          ],
          "scattermapbox": [
           {
            "marker": {
             "colorbar": {
              "outlinewidth": 0,
              "ticks": ""
             }
            },
            "type": "scattermapbox"
           }
          ],
          "scatterpolar": [
           {
            "marker": {
             "colorbar": {
              "outlinewidth": 0,
              "ticks": ""
             }
            },
            "type": "scatterpolar"
           }
          ],
          "scatterpolargl": [
           {
            "marker": {
             "colorbar": {
              "outlinewidth": 0,
              "ticks": ""
             }
            },
            "type": "scatterpolargl"
           }
          ],
          "scatterternary": [
           {
            "marker": {
             "colorbar": {
              "outlinewidth": 0,
              "ticks": ""
             }
            },
            "type": "scatterternary"
           }
          ],
          "surface": [
           {
            "colorbar": {
             "outlinewidth": 0,
             "ticks": ""
            },
            "colorscale": [
             [
              0,
              "#0d0887"
             ],
             [
              0.1111111111111111,
              "#46039f"
             ],
             [
              0.2222222222222222,
              "#7201a8"
             ],
             [
              0.3333333333333333,
              "#9c179e"
             ],
             [
              0.4444444444444444,
              "#bd3786"
             ],
             [
              0.5555555555555556,
              "#d8576b"
             ],
             [
              0.6666666666666666,
              "#ed7953"
             ],
             [
              0.7777777777777778,
              "#fb9f3a"
             ],
             [
              0.8888888888888888,
              "#fdca26"
             ],
             [
              1,
              "#f0f921"
             ]
            ],
            "type": "surface"
           }
          ],
          "table": [
           {
            "cells": {
             "fill": {
              "color": "#EBF0F8"
             },
             "line": {
              "color": "white"
             }
            },
            "header": {
             "fill": {
              "color": "#C8D4E3"
             },
             "line": {
              "color": "white"
             }
            },
            "type": "table"
           }
          ]
         },
         "layout": {
          "annotationdefaults": {
           "arrowcolor": "#2a3f5f",
           "arrowhead": 0,
           "arrowwidth": 1
          },
          "autotypenumbers": "strict",
          "coloraxis": {
           "colorbar": {
            "outlinewidth": 0,
            "ticks": ""
           }
          },
          "colorscale": {
           "diverging": [
            [
             0,
             "#8e0152"
            ],
            [
             0.1,
             "#c51b7d"
            ],
            [
             0.2,
             "#de77ae"
            ],
            [
             0.3,
             "#f1b6da"
            ],
            [
             0.4,
             "#fde0ef"
            ],
            [
             0.5,
             "#f7f7f7"
            ],
            [
             0.6,
             "#e6f5d0"
            ],
            [
             0.7,
             "#b8e186"
            ],
            [
             0.8,
             "#7fbc41"
            ],
            [
             0.9,
             "#4d9221"
            ],
            [
             1,
             "#276419"
            ]
           ],
           "sequential": [
            [
             0,
             "#0d0887"
            ],
            [
             0.1111111111111111,
             "#46039f"
            ],
            [
             0.2222222222222222,
             "#7201a8"
            ],
            [
             0.3333333333333333,
             "#9c179e"
            ],
            [
             0.4444444444444444,
             "#bd3786"
            ],
            [
             0.5555555555555556,
             "#d8576b"
            ],
            [
             0.6666666666666666,
             "#ed7953"
            ],
            [
             0.7777777777777778,
             "#fb9f3a"
            ],
            [
             0.8888888888888888,
             "#fdca26"
            ],
            [
             1,
             "#f0f921"
            ]
           ],
           "sequentialminus": [
            [
             0,
             "#0d0887"
            ],
            [
             0.1111111111111111,
             "#46039f"
            ],
            [
             0.2222222222222222,
             "#7201a8"
            ],
            [
             0.3333333333333333,
             "#9c179e"
            ],
            [
             0.4444444444444444,
             "#bd3786"
            ],
            [
             0.5555555555555556,
             "#d8576b"
            ],
            [
             0.6666666666666666,
             "#ed7953"
            ],
            [
             0.7777777777777778,
             "#fb9f3a"
            ],
            [
             0.8888888888888888,
             "#fdca26"
            ],
            [
             1,
             "#f0f921"
            ]
           ]
          },
          "colorway": [
           "#636efa",
           "#EF553B",
           "#00cc96",
           "#ab63fa",
           "#FFA15A",
           "#19d3f3",
           "#FF6692",
           "#B6E880",
           "#FF97FF",
           "#FECB52"
          ],
          "font": {
           "color": "#2a3f5f"
          },
          "geo": {
           "bgcolor": "white",
           "lakecolor": "white",
           "landcolor": "#E5ECF6",
           "showlakes": true,
           "showland": true,
           "subunitcolor": "white"
          },
          "hoverlabel": {
           "align": "left"
          },
          "hovermode": "closest",
          "mapbox": {
           "style": "light"
          },
          "paper_bgcolor": "white",
          "plot_bgcolor": "#E5ECF6",
          "polar": {
           "angularaxis": {
            "gridcolor": "white",
            "linecolor": "white",
            "ticks": ""
           },
           "bgcolor": "#E5ECF6",
           "radialaxis": {
            "gridcolor": "white",
            "linecolor": "white",
            "ticks": ""
           }
          },
          "scene": {
           "xaxis": {
            "backgroundcolor": "#E5ECF6",
            "gridcolor": "white",
            "gridwidth": 2,
            "linecolor": "white",
            "showbackground": true,
            "ticks": "",
            "zerolinecolor": "white"
           },
           "yaxis": {
            "backgroundcolor": "#E5ECF6",
            "gridcolor": "white",
            "gridwidth": 2,
            "linecolor": "white",
            "showbackground": true,
            "ticks": "",
            "zerolinecolor": "white"
           },
           "zaxis": {
            "backgroundcolor": "#E5ECF6",
            "gridcolor": "white",
            "gridwidth": 2,
            "linecolor": "white",
            "showbackground": true,
            "ticks": "",
            "zerolinecolor": "white"
           }
          },
          "shapedefaults": {
           "line": {
            "color": "#2a3f5f"
           }
          },
          "ternary": {
           "aaxis": {
            "gridcolor": "white",
            "linecolor": "white",
            "ticks": ""
           },
           "baxis": {
            "gridcolor": "white",
            "linecolor": "white",
            "ticks": ""
           },
           "bgcolor": "#E5ECF6",
           "caxis": {
            "gridcolor": "white",
            "linecolor": "white",
            "ticks": ""
           }
          },
          "title": {
           "x": 0.05
          },
          "xaxis": {
           "automargin": true,
           "gridcolor": "white",
           "linecolor": "white",
           "ticks": "",
           "title": {
            "standoff": 15
           },
           "zerolinecolor": "white",
           "zerolinewidth": 2
          },
          "yaxis": {
           "automargin": true,
           "gridcolor": "white",
           "linecolor": "white",
           "ticks": "",
           "title": {
            "standoff": 15
           },
           "zerolinecolor": "white",
           "zerolinewidth": 2
          }
         }
        },
        "title": {
         "text": "Market value of Marcus Rashford"
        },
        "xaxis": {
         "anchor": "y",
         "domain": [
          0,
          1
         ],
         "title": {
          "text": "Age"
         }
        },
        "yaxis": {
         "anchor": "x",
         "domain": [
          0,
          1
         ],
         "title": {
          "text": "Market Value (EUR)"
         }
        }
       }
      }
     },
     "metadata": {},
     "output_type": "display_data"
    }
   ],
   "source": [
    "value_over('Marcus Rashford')"
   ]
  },
  {
   "cell_type": "code",
   "execution_count": 214,
   "metadata": {},
   "outputs": [
    {
     "data": {
      "application/vnd.plotly.v1+json": {
       "config": {
        "plotlyServerURL": "https://plot.ly"
       },
       "data": [
        {
         "alignmentgroup": "True",
         "hovertemplate": "League=ES1<br>Position=%{x}<br>Average Market Value (EUR)=%{y}<extra></extra>",
         "legendgroup": "ES1",
         "marker": {
          "color": "#636efa",
          "pattern": {
           "shape": ""
          }
         },
         "name": "ES1",
         "offsetgroup": "ES1",
         "orientation": "v",
         "showlegend": true,
         "textposition": "auto",
         "type": "bar",
         "x": [
          "Attacking Midfield",
          "Central Midfield",
          "Centre-Back",
          "Centre-Forward",
          "Defensive Midfield",
          "Goalkeeper",
          "Left Midfield",
          "Left Winger",
          "Left-Back",
          "Right Midfield",
          "Right Winger",
          "Right-Back",
          "Second Striker"
         ],
         "xaxis": "x",
         "y": [
          4384560.327198364,
          4041899.8592045056,
          2724741.9446820645,
          2837310.3186646434,
          2719238.9620449264,
          2348697.8085351787,
          457800,
          4918702.579666161,
          2331013.5135135134,
          75000,
          3630814.5240431796,
          2142254.124365482,
          182614.21319796954
         ],
         "yaxis": "y"
        },
        {
         "alignmentgroup": "True",
         "hovertemplate": "League=FR1<br>Position=%{x}<br>Average Market Value (EUR)=%{y}<extra></extra>",
         "legendgroup": "FR1",
         "marker": {
          "color": "#EF553B",
          "pattern": {
           "shape": ""
          }
         },
         "name": "FR1",
         "offsetgroup": "FR1",
         "orientation": "v",
         "showlegend": true,
         "textposition": "auto",
         "type": "bar",
         "x": [
          "Attacking Midfield",
          "Central Midfield",
          "Centre-Back",
          "Centre-Forward",
          "Defensive Midfield",
          "Goalkeeper",
          "Left Midfield",
          "Left Winger",
          "Left-Back",
          "Right Midfield",
          "Right Winger",
          "Right-Back",
          "Second Striker"
         ],
         "xaxis": "x",
         "y": [
          3072963.644730787,
          4271661.1172771,
          2484954.650542415,
          3542261.2327839243,
          2346463.83467279,
          1527365.9349819394,
          669291.3385826772,
          4098912.4872057317,
          2374321.0968597964,
          1749513.888888889,
          4308957.055214724,
          2257729.6964725186,
          1988709.677419355
         ],
         "yaxis": "y"
        },
        {
         "alignmentgroup": "True",
         "hovertemplate": "League=GB1<br>Position=%{x}<br>Average Market Value (EUR)=%{y}<extra></extra>",
         "legendgroup": "GB1",
         "marker": {
          "color": "#00cc96",
          "pattern": {
           "shape": ""
          }
         },
         "name": "GB1",
         "offsetgroup": "GB1",
         "orientation": "v",
         "showlegend": true,
         "textposition": "auto",
         "type": "bar",
         "x": [
          "Attacking Midfield",
          "Central Midfield",
          "Centre-Back",
          "Centre-Forward",
          "Defensive Midfield",
          "Goalkeeper",
          "Left Midfield",
          "Left Winger",
          "Left-Back",
          "Right Midfield",
          "Right Winger",
          "Right-Back",
          "Second Striker"
         ],
         "xaxis": "x",
         "y": [
          15573580.210772833,
          6272367.706919946,
          7748303.972676613,
          7216107.65329645,
          11782189.47368421,
          3865077.8008298757,
          2020851.7699115044,
          14598511.202830188,
          6650158.013544018,
          1876403.0612244897,
          12788362.31884058,
          5826740.320688306,
          10782500
         ],
         "yaxis": "y"
        },
        {
         "alignmentgroup": "True",
         "hovertemplate": "League=IT1<br>Position=%{x}<br>Average Market Value (EUR)=%{y}<extra></extra>",
         "legendgroup": "IT1",
         "marker": {
          "color": "#ab63fa",
          "pattern": {
           "shape": ""
          }
         },
         "name": "IT1",
         "offsetgroup": "IT1",
         "orientation": "v",
         "showlegend": true,
         "textposition": "auto",
         "type": "bar",
         "x": [
          "Attacking Midfield",
          "Central Midfield",
          "Centre-Back",
          "Centre-Forward",
          "Defensive Midfield",
          "Goalkeeper",
          "Left Midfield",
          "Left Winger",
          "Left-Back",
          "Right Midfield",
          "Right Winger",
          "Right-Back",
          "Second Striker"
         ],
         "xaxis": "x",
         "y": [
          2895725.22330923,
          2474627.0124124372,
          2183879.722737479,
          2932924.983692107,
          2563010.7905231058,
          1094117.8015053386,
          2269121.8130311617,
          3718725.402504472,
          1902770.0397953382,
          3223740.955137482,
          2699076.296613802,
          1459635.1197263398,
          3234497.3544973545
         ],
         "yaxis": "y"
        },
        {
         "alignmentgroup": "True",
         "hovertemplate": "League=L1<br>Position=%{x}<br>Average Market Value (EUR)=%{y}<extra></extra>",
         "legendgroup": "L1",
         "marker": {
          "color": "#FFA15A",
          "pattern": {
           "shape": ""
          }
         },
         "name": "L1",
         "offsetgroup": "L1",
         "orientation": "v",
         "showlegend": true,
         "textposition": "auto",
         "type": "bar",
         "x": [
          "Attacking Midfield",
          "Central Midfield",
          "Centre-Back",
          "Centre-Forward",
          "Defensive Midfield",
          "Goalkeeper",
          "Left Midfield",
          "Left Winger",
          "Left-Back",
          "Right Midfield",
          "Right Winger",
          "Right-Back",
          "Second Striker"
         ],
         "xaxis": "x",
         "y": [
          4216970.425138632,
          3516080.789392538,
          3549575.654704171,
          3355893.505079826,
          1768487.2323961826,
          1082362.444392414,
          1821018.2767624022,
          4477472.222222222,
          2871577.825159915,
          2986490.683229814,
          4200695.903361345,
          2751948.7750556795,
          1316021.8253968253
         ],
         "yaxis": "y"
        }
       ],
       "layout": {
        "barmode": "group",
        "legend": {
         "title": {
          "text": "League"
         },
         "tracegroupgap": 0
        },
        "template": {
         "data": {
          "bar": [
           {
            "error_x": {
             "color": "#2a3f5f"
            },
            "error_y": {
             "color": "#2a3f5f"
            },
            "marker": {
             "line": {
              "color": "#E5ECF6",
              "width": 0.5
             },
             "pattern": {
              "fillmode": "overlay",
              "size": 10,
              "solidity": 0.2
             }
            },
            "type": "bar"
           }
          ],
          "barpolar": [
           {
            "marker": {
             "line": {
              "color": "#E5ECF6",
              "width": 0.5
             },
             "pattern": {
              "fillmode": "overlay",
              "size": 10,
              "solidity": 0.2
             }
            },
            "type": "barpolar"
           }
          ],
          "carpet": [
           {
            "aaxis": {
             "endlinecolor": "#2a3f5f",
             "gridcolor": "white",
             "linecolor": "white",
             "minorgridcolor": "white",
             "startlinecolor": "#2a3f5f"
            },
            "baxis": {
             "endlinecolor": "#2a3f5f",
             "gridcolor": "white",
             "linecolor": "white",
             "minorgridcolor": "white",
             "startlinecolor": "#2a3f5f"
            },
            "type": "carpet"
           }
          ],
          "choropleth": [
           {
            "colorbar": {
             "outlinewidth": 0,
             "ticks": ""
            },
            "type": "choropleth"
           }
          ],
          "contour": [
           {
            "colorbar": {
             "outlinewidth": 0,
             "ticks": ""
            },
            "colorscale": [
             [
              0,
              "#0d0887"
             ],
             [
              0.1111111111111111,
              "#46039f"
             ],
             [
              0.2222222222222222,
              "#7201a8"
             ],
             [
              0.3333333333333333,
              "#9c179e"
             ],
             [
              0.4444444444444444,
              "#bd3786"
             ],
             [
              0.5555555555555556,
              "#d8576b"
             ],
             [
              0.6666666666666666,
              "#ed7953"
             ],
             [
              0.7777777777777778,
              "#fb9f3a"
             ],
             [
              0.8888888888888888,
              "#fdca26"
             ],
             [
              1,
              "#f0f921"
             ]
            ],
            "type": "contour"
           }
          ],
          "contourcarpet": [
           {
            "colorbar": {
             "outlinewidth": 0,
             "ticks": ""
            },
            "type": "contourcarpet"
           }
          ],
          "heatmap": [
           {
            "colorbar": {
             "outlinewidth": 0,
             "ticks": ""
            },
            "colorscale": [
             [
              0,
              "#0d0887"
             ],
             [
              0.1111111111111111,
              "#46039f"
             ],
             [
              0.2222222222222222,
              "#7201a8"
             ],
             [
              0.3333333333333333,
              "#9c179e"
             ],
             [
              0.4444444444444444,
              "#bd3786"
             ],
             [
              0.5555555555555556,
              "#d8576b"
             ],
             [
              0.6666666666666666,
              "#ed7953"
             ],
             [
              0.7777777777777778,
              "#fb9f3a"
             ],
             [
              0.8888888888888888,
              "#fdca26"
             ],
             [
              1,
              "#f0f921"
             ]
            ],
            "type": "heatmap"
           }
          ],
          "heatmapgl": [
           {
            "colorbar": {
             "outlinewidth": 0,
             "ticks": ""
            },
            "colorscale": [
             [
              0,
              "#0d0887"
             ],
             [
              0.1111111111111111,
              "#46039f"
             ],
             [
              0.2222222222222222,
              "#7201a8"
             ],
             [
              0.3333333333333333,
              "#9c179e"
             ],
             [
              0.4444444444444444,
              "#bd3786"
             ],
             [
              0.5555555555555556,
              "#d8576b"
             ],
             [
              0.6666666666666666,
              "#ed7953"
             ],
             [
              0.7777777777777778,
              "#fb9f3a"
             ],
             [
              0.8888888888888888,
              "#fdca26"
             ],
             [
              1,
              "#f0f921"
             ]
            ],
            "type": "heatmapgl"
           }
          ],
          "histogram": [
           {
            "marker": {
             "pattern": {
              "fillmode": "overlay",
              "size": 10,
              "solidity": 0.2
             }
            },
            "type": "histogram"
           }
          ],
          "histogram2d": [
           {
            "colorbar": {
             "outlinewidth": 0,
             "ticks": ""
            },
            "colorscale": [
             [
              0,
              "#0d0887"
             ],
             [
              0.1111111111111111,
              "#46039f"
             ],
             [
              0.2222222222222222,
              "#7201a8"
             ],
             [
              0.3333333333333333,
              "#9c179e"
             ],
             [
              0.4444444444444444,
              "#bd3786"
             ],
             [
              0.5555555555555556,
              "#d8576b"
             ],
             [
              0.6666666666666666,
              "#ed7953"
             ],
             [
              0.7777777777777778,
              "#fb9f3a"
             ],
             [
              0.8888888888888888,
              "#fdca26"
             ],
             [
              1,
              "#f0f921"
             ]
            ],
            "type": "histogram2d"
           }
          ],
          "histogram2dcontour": [
           {
            "colorbar": {
             "outlinewidth": 0,
             "ticks": ""
            },
            "colorscale": [
             [
              0,
              "#0d0887"
             ],
             [
              0.1111111111111111,
              "#46039f"
             ],
             [
              0.2222222222222222,
              "#7201a8"
             ],
             [
              0.3333333333333333,
              "#9c179e"
             ],
             [
              0.4444444444444444,
              "#bd3786"
             ],
             [
              0.5555555555555556,
              "#d8576b"
             ],
             [
              0.6666666666666666,
              "#ed7953"
             ],
             [
              0.7777777777777778,
              "#fb9f3a"
             ],
             [
              0.8888888888888888,
              "#fdca26"
             ],
             [
              1,
              "#f0f921"
             ]
            ],
            "type": "histogram2dcontour"
           }
          ],
          "mesh3d": [
           {
            "colorbar": {
             "outlinewidth": 0,
             "ticks": ""
            },
            "type": "mesh3d"
           }
          ],
          "parcoords": [
           {
            "line": {
             "colorbar": {
              "outlinewidth": 0,
              "ticks": ""
             }
            },
            "type": "parcoords"
           }
          ],
          "pie": [
           {
            "automargin": true,
            "type": "pie"
           }
          ],
          "scatter": [
           {
            "fillpattern": {
             "fillmode": "overlay",
             "size": 10,
             "solidity": 0.2
            },
            "type": "scatter"
           }
          ],
          "scatter3d": [
           {
            "line": {
             "colorbar": {
              "outlinewidth": 0,
              "ticks": ""
             }
            },
            "marker": {
             "colorbar": {
              "outlinewidth": 0,
              "ticks": ""
             }
            },
            "type": "scatter3d"
           }
          ],
          "scattercarpet": [
           {
            "marker": {
             "colorbar": {
              "outlinewidth": 0,
              "ticks": ""
             }
            },
            "type": "scattercarpet"
           }
          ],
          "scattergeo": [
           {
            "marker": {
             "colorbar": {
              "outlinewidth": 0,
              "ticks": ""
             }
            },
            "type": "scattergeo"
           }
          ],
          "scattergl": [
           {
            "marker": {
             "colorbar": {
              "outlinewidth": 0,
              "ticks": ""
             }
            },
            "type": "scattergl"
           }
          ],
          "scattermapbox": [
           {
            "marker": {
             "colorbar": {
              "outlinewidth": 0,
              "ticks": ""
             }
            },
            "type": "scattermapbox"
           }
          ],
          "scatterpolar": [
           {
            "marker": {
             "colorbar": {
              "outlinewidth": 0,
              "ticks": ""
             }
            },
            "type": "scatterpolar"
           }
          ],
          "scatterpolargl": [
           {
            "marker": {
             "colorbar": {
              "outlinewidth": 0,
              "ticks": ""
             }
            },
            "type": "scatterpolargl"
           }
          ],
          "scatterternary": [
           {
            "marker": {
             "colorbar": {
              "outlinewidth": 0,
              "ticks": ""
             }
            },
            "type": "scatterternary"
           }
          ],
          "surface": [
           {
            "colorbar": {
             "outlinewidth": 0,
             "ticks": ""
            },
            "colorscale": [
             [
              0,
              "#0d0887"
             ],
             [
              0.1111111111111111,
              "#46039f"
             ],
             [
              0.2222222222222222,
              "#7201a8"
             ],
             [
              0.3333333333333333,
              "#9c179e"
             ],
             [
              0.4444444444444444,
              "#bd3786"
             ],
             [
              0.5555555555555556,
              "#d8576b"
             ],
             [
              0.6666666666666666,
              "#ed7953"
             ],
             [
              0.7777777777777778,
              "#fb9f3a"
             ],
             [
              0.8888888888888888,
              "#fdca26"
             ],
             [
              1,
              "#f0f921"
             ]
            ],
            "type": "surface"
           }
          ],
          "table": [
           {
            "cells": {
             "fill": {
              "color": "#EBF0F8"
             },
             "line": {
              "color": "white"
             }
            },
            "header": {
             "fill": {
              "color": "#C8D4E3"
             },
             "line": {
              "color": "white"
             }
            },
            "type": "table"
           }
          ]
         },
         "layout": {
          "annotationdefaults": {
           "arrowcolor": "#2a3f5f",
           "arrowhead": 0,
           "arrowwidth": 1
          },
          "autotypenumbers": "strict",
          "coloraxis": {
           "colorbar": {
            "outlinewidth": 0,
            "ticks": ""
           }
          },
          "colorscale": {
           "diverging": [
            [
             0,
             "#8e0152"
            ],
            [
             0.1,
             "#c51b7d"
            ],
            [
             0.2,
             "#de77ae"
            ],
            [
             0.3,
             "#f1b6da"
            ],
            [
             0.4,
             "#fde0ef"
            ],
            [
             0.5,
             "#f7f7f7"
            ],
            [
             0.6,
             "#e6f5d0"
            ],
            [
             0.7,
             "#b8e186"
            ],
            [
             0.8,
             "#7fbc41"
            ],
            [
             0.9,
             "#4d9221"
            ],
            [
             1,
             "#276419"
            ]
           ],
           "sequential": [
            [
             0,
             "#0d0887"
            ],
            [
             0.1111111111111111,
             "#46039f"
            ],
            [
             0.2222222222222222,
             "#7201a8"
            ],
            [
             0.3333333333333333,
             "#9c179e"
            ],
            [
             0.4444444444444444,
             "#bd3786"
            ],
            [
             0.5555555555555556,
             "#d8576b"
            ],
            [
             0.6666666666666666,
             "#ed7953"
            ],
            [
             0.7777777777777778,
             "#fb9f3a"
            ],
            [
             0.8888888888888888,
             "#fdca26"
            ],
            [
             1,
             "#f0f921"
            ]
           ],
           "sequentialminus": [
            [
             0,
             "#0d0887"
            ],
            [
             0.1111111111111111,
             "#46039f"
            ],
            [
             0.2222222222222222,
             "#7201a8"
            ],
            [
             0.3333333333333333,
             "#9c179e"
            ],
            [
             0.4444444444444444,
             "#bd3786"
            ],
            [
             0.5555555555555556,
             "#d8576b"
            ],
            [
             0.6666666666666666,
             "#ed7953"
            ],
            [
             0.7777777777777778,
             "#fb9f3a"
            ],
            [
             0.8888888888888888,
             "#fdca26"
            ],
            [
             1,
             "#f0f921"
            ]
           ]
          },
          "colorway": [
           "#636efa",
           "#EF553B",
           "#00cc96",
           "#ab63fa",
           "#FFA15A",
           "#19d3f3",
           "#FF6692",
           "#B6E880",
           "#FF97FF",
           "#FECB52"
          ],
          "font": {
           "color": "#2a3f5f"
          },
          "geo": {
           "bgcolor": "white",
           "lakecolor": "white",
           "landcolor": "#E5ECF6",
           "showlakes": true,
           "showland": true,
           "subunitcolor": "white"
          },
          "hoverlabel": {
           "align": "left"
          },
          "hovermode": "closest",
          "mapbox": {
           "style": "light"
          },
          "paper_bgcolor": "white",
          "plot_bgcolor": "#E5ECF6",
          "polar": {
           "angularaxis": {
            "gridcolor": "white",
            "linecolor": "white",
            "ticks": ""
           },
           "bgcolor": "#E5ECF6",
           "radialaxis": {
            "gridcolor": "white",
            "linecolor": "white",
            "ticks": ""
           }
          },
          "scene": {
           "xaxis": {
            "backgroundcolor": "#E5ECF6",
            "gridcolor": "white",
            "gridwidth": 2,
            "linecolor": "white",
            "showbackground": true,
            "ticks": "",
            "zerolinecolor": "white"
           },
           "yaxis": {
            "backgroundcolor": "#E5ECF6",
            "gridcolor": "white",
            "gridwidth": 2,
            "linecolor": "white",
            "showbackground": true,
            "ticks": "",
            "zerolinecolor": "white"
           },
           "zaxis": {
            "backgroundcolor": "#E5ECF6",
            "gridcolor": "white",
            "gridwidth": 2,
            "linecolor": "white",
            "showbackground": true,
            "ticks": "",
            "zerolinecolor": "white"
           }
          },
          "shapedefaults": {
           "line": {
            "color": "#2a3f5f"
           }
          },
          "ternary": {
           "aaxis": {
            "gridcolor": "white",
            "linecolor": "white",
            "ticks": ""
           },
           "baxis": {
            "gridcolor": "white",
            "linecolor": "white",
            "ticks": ""
           },
           "bgcolor": "#E5ECF6",
           "caxis": {
            "gridcolor": "white",
            "linecolor": "white",
            "ticks": ""
           }
          },
          "title": {
           "x": 0.05
          },
          "xaxis": {
           "automargin": true,
           "gridcolor": "white",
           "linecolor": "white",
           "ticks": "",
           "title": {
            "standoff": 15
           },
           "zerolinecolor": "white",
           "zerolinewidth": 2
          },
          "yaxis": {
           "automargin": true,
           "gridcolor": "white",
           "linecolor": "white",
           "ticks": "",
           "title": {
            "standoff": 15
           },
           "zerolinecolor": "white",
           "zerolinewidth": 2
          }
         }
        },
        "title": {
         "text": "Average Value by Position in Major Leagues"
        },
        "xaxis": {
         "anchor": "y",
         "domain": [
          0,
          1
         ],
         "title": {
          "text": "Position"
         }
        },
        "yaxis": {
         "anchor": "x",
         "domain": [
          0,
          1
         ],
         "title": {
          "text": "Average Market Value (EUR)"
         }
        }
       }
      }
     },
     "metadata": {},
     "output_type": "display_data"
    }
   ],
   "source": [
    "merge_pos_val = players.merge(player_val, on='player_id')\n",
    "merge_pos_val = merge_pos_val[(merge_pos_val['player_club_domestic_competition_id'].isin(top5_leagues))]\n",
    "merge_pos_val['league'] = merge_pos_val['player_club_domestic_competition_id']\n",
    "position_value = merge_pos_val.groupby(['sub_position', 'league']).agg({'market_value_in_eur_x' : 'mean'}).reset_index()\n",
    "\n",
    "fig = px.bar(position_value, x='sub_position', y='market_value_in_eur_x', color='league', \n",
    "             barmode='group', \n",
    "             title='Average Value by Position in Major Leagues',\n",
    "             labels={'market_value_in_eur_x': 'Average Market Value (EUR)', 'sub_position': 'Position', 'league': 'League'})\n",
    "\n",
    "fig.show()\n"
   ]
  },
  {
   "cell_type": "markdown",
   "metadata": {},
   "source": [
    "<h1>Próba predykcji różnymi modelami regresji</h1>"
   ]
  },
  {
   "cell_type": "markdown",
   "metadata": {},
   "source": [
    "<h4>Random Forest dla sezonów oddzielnie dla piłkarzy top5 lig</h4>"
   ]
  },
  {
   "cell_type": "code",
   "execution_count": 215,
   "metadata": {},
   "outputs": [
    {
     "name": "stdout",
     "output_type": "stream",
     "text": [
      "Sezon 2012/2013\n",
      "MAE: 4612949.468085106\n",
      "MSE: 41911942125664.89\n",
      "R-squared: 0.47014298963194623\n",
      "Sezon 2013/2014\n",
      "MAE: 5093848.333333333\n",
      "MSE: 49646388080277.78\n",
      "R-squared: 0.21179572969029914\n",
      "Sezon 2014/2015\n",
      "MAE: 5589271.276595744\n",
      "MSE: 58035427343085.11\n",
      "R-squared: 0.35844541428689936\n",
      "Sezon 2015/2016\n",
      "MAE: 6718985.148514852\n",
      "MSE: 118241382918316.83\n",
      "R-squared: 0.10071696649686679\n",
      "Sezon 2016/2017\n",
      "MAE: 5558540.404040404\n",
      "MSE: 60359556191919.195\n",
      "R-squared: 0.2073350737903764\n",
      "Sezon 2017/2018\n",
      "MAE: 9230722.222222222\n",
      "MSE: 222218272103535.34\n",
      "R-squared: 0.5486224845153829\n",
      "Sezon 2018/2019\n",
      "MAE: 10624639.175257731\n",
      "MSE: 241363690721649.5\n",
      "R-squared: 0.4505227214355665\n",
      "Sezon 2019/2020\n",
      "MAE: 13845831.578947369\n",
      "MSE: 453405288410526.3\n",
      "R-squared: 0.26320389692293544\n",
      "Sezon 2020/2021\n",
      "MAE: 11112543.26923077\n",
      "MSE: 281136167838942.3\n",
      "R-squared: 0.37384652299563104\n",
      "Sezon 2021/2022\n",
      "MAE: 10425207.070707072\n",
      "MSE: 190576177992424.25\n",
      "R-squared: 0.37562821340377905\n",
      "Sezon 2022/2023\n",
      "MAE: 10882342.857142856\n",
      "MSE: 237623721776190.47\n",
      "R-squared: 0.1242831973748526\n",
      "Sezon 2023/2024\n",
      "MAE: 11996297.02970297\n",
      "MSE: 264990253673267.3\n",
      "R-squared: 0.2958409014153036\n",
      "0.34367128290543997\n",
      "9608288.89398004\n"
     ]
    }
   ],
   "source": [
    "total = 0\n",
    "total_mae = 0\n",
    "\n",
    "for i in range(len(seasons)):\n",
    "\n",
    "    X = seasons_all_players[i].drop(columns=[\"market_value_in_eur\", 'name', 'player_id'])\n",
    "    y = seasons_all_players[i]['market_value_in_eur']\n",
    "    X_train, X_test, y_train, y_test = train_test_split(X, y, test_size=0.2, random_state=1)\n",
    "    rf = RandomForestRegressor(random_state=42)\n",
    "    rf.fit(X_train, y_train)\n",
    "\n",
    "    y_pred = rf.predict(X_test)\n",
    "\n",
    "    mae = mean_absolute_error(y_test, y_pred)\n",
    "    mse = mean_squared_error(y_test, y_pred)\n",
    "    r2 = rf.score(X_test, y_test)\n",
    "    total += r2\n",
    "    total_mae += mae\n",
    "    print(f'Sezon {2012+i}/{2013+i}')\n",
    "    print(f'MAE: {mae}')\n",
    "    print(f'MSE: {mse}')\n",
    "    print(f'R-squared: {r2}')\n",
    "print(total/11)\n",
    "print(total_mae/11)"
   ]
  },
  {
   "cell_type": "markdown",
   "metadata": {},
   "source": [
    "<h4>Random Forest dla piłkarzy top5 lig</h4>"
   ]
  },
  {
   "cell_type": "code",
   "execution_count": 216,
   "metadata": {},
   "outputs": [
    {
     "name": "stdout",
     "output_type": "stream",
     "text": [
      "Sezon 2023/2024\n",
      "MAE: 9313297.056990026\n",
      "MSE: 198345635713877.2\n",
      "R-squared: 0.35765887220653936\n"
     ]
    }
   ],
   "source": [
    "\n",
    "\n",
    "X = combined_stats_all.drop(columns=[\"market_value_in_eur\", 'name', 'player_id'])\n",
    "y = combined_stats_all['market_value_in_eur']\n",
    "\n",
    "scaler = StandardScaler()\n",
    "X_scaled = scaler.fit_transform(X)\n",
    "\n",
    "X_train, X_test, y_train, y_test = train_test_split(X_scaled, y, test_size=0.2, random_state=1)\n",
    "rf = RandomForestRegressor(random_state=42)\n",
    "rf.fit(X_train, y_train)\n",
    "\n",
    "y_pred = rf.predict(X_test)\n",
    "\n",
    "mae = mean_absolute_error(y_test, y_pred)\n",
    "mse = mean_squared_error(y_test, y_pred)\n",
    "r2 = rf.score(X_test, y_test)\n",
    "print(f'Sezon {2012+i}/{2013+i}')\n",
    "print(f'MAE: {mae}')\n",
    "print(f'MSE: {mse}')\n",
    "print(f'R-squared: {r2}')"
   ]
  },
  {
   "cell_type": "markdown",
   "metadata": {},
   "source": [
    "<h4>Ridge Regression dla piłkarzy top5 lig</h4>"
   ]
  },
  {
   "cell_type": "code",
   "execution_count": 217,
   "metadata": {},
   "outputs": [
    {
     "name": "stdout",
     "output_type": "stream",
     "text": [
      "Best alpha: {'alpha': 100}\n",
      "MAE: 9559776.489540225\n",
      "MSE: 212531529224690.3\n",
      "R-squared: 0.3117179428601614\n"
     ]
    }
   ],
   "source": [
    "X = combined_stats_all.drop(columns=[\"market_value_in_eur\", 'name', 'player_id'])\n",
    "y = combined_stats_all['market_value_in_eur']\n",
    "\n",
    "scaler = StandardScaler()\n",
    "X_scaled = scaler.fit_transform(X)\n",
    "\n",
    "X_train, X_test, y_train, y_test = train_test_split(X_scaled, y, test_size=0.2, random_state=1)\n",
    "\n",
    "param_grid = {'alpha': [0.1, 1, 10, 100, 1000]}\n",
    "ridge = Ridge()\n",
    "grid_search = GridSearchCV(ridge, param_grid, cv=5, scoring='r2')\n",
    "grid_search.fit(X_train, y_train)\n",
    "\n",
    "\n",
    "best_model = grid_search.best_estimator_\n",
    "\n",
    "\n",
    "y_pred = best_model.predict(X_test)\n",
    "\n",
    "\n",
    "mae = mean_absolute_error(y_test, y_pred)\n",
    "mse = mean_squared_error(y_test, y_pred)\n",
    "r2 = r2_score(y_test, y_pred)\n",
    "\n",
    "print(f'Best alpha: {grid_search.best_params_}')\n",
    "print(f'MAE: {mae}')\n",
    "print(f'MSE: {mse}')\n",
    "print(f'R-squared: {r2}')"
   ]
  },
  {
   "cell_type": "markdown",
   "metadata": {},
   "source": [
    "<h4>Linear Regression dla piłkarzy top5 lig</h4>"
   ]
  },
  {
   "cell_type": "code",
   "execution_count": 218,
   "metadata": {},
   "outputs": [
    {
     "name": "stdout",
     "output_type": "stream",
     "text": [
      "Mean Absolute Error (MAE): 9566850.172313467\n"
     ]
    },
    {
     "data": {
      "text/html": [
       "<table class=\"simpletable\">\n",
       "<caption>OLS Regression Results</caption>\n",
       "<tr>\n",
       "  <th>Dep. Variable:</th>    <td>market_value_in_eur</td> <th>  R-squared:         </th> <td>   0.303</td> \n",
       "</tr>\n",
       "<tr>\n",
       "  <th>Model:</th>                    <td>OLS</td>         <th>  Adj. R-squared:    </th> <td>   0.302</td> \n",
       "</tr>\n",
       "<tr>\n",
       "  <th>Method:</th>              <td>Least Squares</td>    <th>  F-statistic:       </th> <td>   228.4</td> \n",
       "</tr>\n",
       "<tr>\n",
       "  <th>Date:</th>              <td>Mon, 08 Jul 2024</td>   <th>  Prob (F-statistic):</th>  <td>  0.00</td>  \n",
       "</tr>\n",
       "<tr>\n",
       "  <th>Time:</th>                  <td>16:50:58</td>       <th>  Log-Likelihood:    </th> <td> -84797.</td> \n",
       "</tr>\n",
       "<tr>\n",
       "  <th>No. Observations:</th>       <td>  4733</td>        <th>  AIC:               </th> <td>1.696e+05</td>\n",
       "</tr>\n",
       "<tr>\n",
       "  <th>Df Residuals:</th>           <td>  4723</td>        <th>  BIC:               </th> <td>1.697e+05</td>\n",
       "</tr>\n",
       "<tr>\n",
       "  <th>Df Model:</th>               <td>     9</td>        <th>                     </th>     <td> </td>    \n",
       "</tr>\n",
       "<tr>\n",
       "  <th>Covariance Type:</th>       <td>nonrobust</td>      <th>                     </th>     <td> </td>    \n",
       "</tr>\n",
       "</table>\n",
       "<table class=\"simpletable\">\n",
       "<tr>\n",
       "            <td></td>              <th>coef</th>     <th>std err</th>      <th>t</th>      <th>P>|t|</th>  <th>[0.025</th>    <th>0.975]</th>  \n",
       "</tr>\n",
       "<tr>\n",
       "  <th>const</th>                <td> 3.771e+06</td> <td> 6.36e+06</td> <td>    0.593</td> <td> 0.553</td> <td> -8.7e+06</td> <td> 1.62e+07</td>\n",
       "</tr>\n",
       "<tr>\n",
       "  <th>goals</th>                <td> 1.882e+06</td> <td> 8.56e+04</td> <td>   21.972</td> <td> 0.000</td> <td> 1.71e+06</td> <td> 2.05e+06</td>\n",
       "</tr>\n",
       "<tr>\n",
       "  <th>assists</th>              <td> 1.405e+06</td> <td> 1.25e+05</td> <td>   11.265</td> <td> 0.000</td> <td> 1.16e+06</td> <td> 1.65e+06</td>\n",
       "</tr>\n",
       "<tr>\n",
       "  <th>yellow_cards</th>         <td>-1.479e+05</td> <td>  1.1e+05</td> <td>   -1.346</td> <td> 0.178</td> <td>-3.63e+05</td> <td> 6.75e+04</td>\n",
       "</tr>\n",
       "<tr>\n",
       "  <th>red_cards</th>            <td>-6.011e+05</td> <td> 9.48e+05</td> <td>   -0.634</td> <td> 0.526</td> <td>-2.46e+06</td> <td> 1.26e+06</td>\n",
       "</tr>\n",
       "<tr>\n",
       "  <th>minutes_played</th>       <td> 2409.0397</td> <td>  320.525</td> <td>    7.516</td> <td> 0.000</td> <td> 1780.662</td> <td> 3037.417</td>\n",
       "</tr>\n",
       "<tr>\n",
       "  <th>age</th>                  <td>-6.982e+05</td> <td> 5.25e+04</td> <td>  -13.292</td> <td> 0.000</td> <td>-8.01e+05</td> <td>-5.95e+05</td>\n",
       "</tr>\n",
       "<tr>\n",
       "  <th>height_in_cm</th>         <td> 9.931e+04</td> <td> 3.36e+04</td> <td>    2.954</td> <td> 0.003</td> <td> 3.34e+04</td> <td> 1.65e+05</td>\n",
       "</tr>\n",
       "<tr>\n",
       "  <th>sub_position_encoded</th> <td> 1.144e+05</td> <td> 7.46e+04</td> <td>    1.533</td> <td> 0.125</td> <td>-3.19e+04</td> <td> 2.61e+05</td>\n",
       "</tr>\n",
       "<tr>\n",
       "  <th>position_encoded</th>     <td> 1.071e+06</td> <td> 2.19e+05</td> <td>    4.893</td> <td> 0.000</td> <td> 6.42e+05</td> <td>  1.5e+06</td>\n",
       "</tr>\n",
       "</table>\n",
       "<table class=\"simpletable\">\n",
       "<tr>\n",
       "  <th>Omnibus:</th>       <td>2386.311</td> <th>  Durbin-Watson:     </th> <td>   2.002</td> \n",
       "</tr>\n",
       "<tr>\n",
       "  <th>Prob(Omnibus):</th>  <td> 0.000</td>  <th>  Jarque-Bera (JB):  </th> <td>23449.022</td>\n",
       "</tr>\n",
       "<tr>\n",
       "  <th>Skew:</th>           <td> 2.193</td>  <th>  Prob(JB):          </th> <td>    0.00</td> \n",
       "</tr>\n",
       "<tr>\n",
       "  <th>Kurtosis:</th>       <td>12.983</td>  <th>  Cond. No.          </th> <td>4.97e+04</td> \n",
       "</tr>\n",
       "</table><br/><br/>Notes:<br/>[1] Standard Errors assume that the covariance matrix of the errors is correctly specified.<br/>[2] The condition number is large, 4.97e+04. This might indicate that there are<br/>strong multicollinearity or other numerical problems."
      ],
      "text/latex": [
       "\\begin{center}\n",
       "\\begin{tabular}{lclc}\n",
       "\\toprule\n",
       "\\textbf{Dep. Variable:}         & market\\_value\\_in\\_eur & \\textbf{  R-squared:         } &     0.303   \\\\\n",
       "\\textbf{Model:}                 &          OLS           & \\textbf{  Adj. R-squared:    } &     0.302   \\\\\n",
       "\\textbf{Method:}                &     Least Squares      & \\textbf{  F-statistic:       } &     228.4   \\\\\n",
       "\\textbf{Date:}                  &    Mon, 08 Jul 2024    & \\textbf{  Prob (F-statistic):} &     0.00    \\\\\n",
       "\\textbf{Time:}                  &        16:50:58        & \\textbf{  Log-Likelihood:    } &   -84797.   \\\\\n",
       "\\textbf{No. Observations:}      &           4733         & \\textbf{  AIC:               } & 1.696e+05   \\\\\n",
       "\\textbf{Df Residuals:}          &           4723         & \\textbf{  BIC:               } & 1.697e+05   \\\\\n",
       "\\textbf{Df Model:}              &              9         & \\textbf{                     } &             \\\\\n",
       "\\textbf{Covariance Type:}       &       nonrobust        & \\textbf{                     } &             \\\\\n",
       "\\bottomrule\n",
       "\\end{tabular}\n",
       "\\begin{tabular}{lcccccc}\n",
       "                                & \\textbf{coef} & \\textbf{std err} & \\textbf{t} & \\textbf{P$> |$t$|$} & \\textbf{[0.025} & \\textbf{0.975]}  \\\\\n",
       "\\midrule\n",
       "\\textbf{const}                  &    3.771e+06  &     6.36e+06     &     0.593  &         0.553        &     -8.7e+06    &     1.62e+07     \\\\\n",
       "\\textbf{goals}                  &    1.882e+06  &     8.56e+04     &    21.972  &         0.000        &     1.71e+06    &     2.05e+06     \\\\\n",
       "\\textbf{assists}                &    1.405e+06  &     1.25e+05     &    11.265  &         0.000        &     1.16e+06    &     1.65e+06     \\\\\n",
       "\\textbf{yellow\\_cards}          &   -1.479e+05  &      1.1e+05     &    -1.346  &         0.178        &    -3.63e+05    &     6.75e+04     \\\\\n",
       "\\textbf{red\\_cards}             &   -6.011e+05  &     9.48e+05     &    -0.634  &         0.526        &    -2.46e+06    &     1.26e+06     \\\\\n",
       "\\textbf{minutes\\_played}        &    2409.0397  &      320.525     &     7.516  &         0.000        &     1780.662    &     3037.417     \\\\\n",
       "\\textbf{age}                    &   -6.982e+05  &     5.25e+04     &   -13.292  &         0.000        &    -8.01e+05    &    -5.95e+05     \\\\\n",
       "\\textbf{height\\_in\\_cm}         &    9.931e+04  &     3.36e+04     &     2.954  &         0.003        &     3.34e+04    &     1.65e+05     \\\\\n",
       "\\textbf{sub\\_position\\_encoded} &    1.144e+05  &     7.46e+04     &     1.533  &         0.125        &    -3.19e+04    &     2.61e+05     \\\\\n",
       "\\textbf{position\\_encoded}      &    1.071e+06  &     2.19e+05     &     4.893  &         0.000        &     6.42e+05    &      1.5e+06     \\\\\n",
       "\\bottomrule\n",
       "\\end{tabular}\n",
       "\\begin{tabular}{lclc}\n",
       "\\textbf{Omnibus:}       & 2386.311 & \\textbf{  Durbin-Watson:     } &     2.002  \\\\\n",
       "\\textbf{Prob(Omnibus):} &   0.000  & \\textbf{  Jarque-Bera (JB):  } & 23449.022  \\\\\n",
       "\\textbf{Skew:}          &   2.193  & \\textbf{  Prob(JB):          } &      0.00  \\\\\n",
       "\\textbf{Kurtosis:}      &  12.983  & \\textbf{  Cond. No.          } &  4.97e+04  \\\\\n",
       "\\bottomrule\n",
       "\\end{tabular}\n",
       "%\\caption{OLS Regression Results}\n",
       "\\end{center}\n",
       "\n",
       "Notes: \\newline\n",
       " [1] Standard Errors assume that the covariance matrix of the errors is correctly specified. \\newline\n",
       " [2] The condition number is large, 4.97e+04. This might indicate that there are \\newline\n",
       " strong multicollinearity or other numerical problems."
      ],
      "text/plain": [
       "<class 'statsmodels.iolib.summary.Summary'>\n",
       "\"\"\"\n",
       "                             OLS Regression Results                            \n",
       "===============================================================================\n",
       "Dep. Variable:     market_value_in_eur   R-squared:                       0.303\n",
       "Model:                             OLS   Adj. R-squared:                  0.302\n",
       "Method:                  Least Squares   F-statistic:                     228.4\n",
       "Date:                 Mon, 08 Jul 2024   Prob (F-statistic):               0.00\n",
       "Time:                         16:50:58   Log-Likelihood:                -84797.\n",
       "No. Observations:                 4733   AIC:                         1.696e+05\n",
       "Df Residuals:                     4723   BIC:                         1.697e+05\n",
       "Df Model:                            9                                         \n",
       "Covariance Type:             nonrobust                                         \n",
       "========================================================================================\n",
       "                           coef    std err          t      P>|t|      [0.025      0.975]\n",
       "----------------------------------------------------------------------------------------\n",
       "const                 3.771e+06   6.36e+06      0.593      0.553    -8.7e+06    1.62e+07\n",
       "goals                 1.882e+06   8.56e+04     21.972      0.000    1.71e+06    2.05e+06\n",
       "assists               1.405e+06   1.25e+05     11.265      0.000    1.16e+06    1.65e+06\n",
       "yellow_cards         -1.479e+05    1.1e+05     -1.346      0.178   -3.63e+05    6.75e+04\n",
       "red_cards            -6.011e+05   9.48e+05     -0.634      0.526   -2.46e+06    1.26e+06\n",
       "minutes_played        2409.0397    320.525      7.516      0.000    1780.662    3037.417\n",
       "age                  -6.982e+05   5.25e+04    -13.292      0.000   -8.01e+05   -5.95e+05\n",
       "height_in_cm          9.931e+04   3.36e+04      2.954      0.003    3.34e+04    1.65e+05\n",
       "sub_position_encoded  1.144e+05   7.46e+04      1.533      0.125   -3.19e+04    2.61e+05\n",
       "position_encoded      1.071e+06   2.19e+05      4.893      0.000    6.42e+05     1.5e+06\n",
       "==============================================================================\n",
       "Omnibus:                     2386.311   Durbin-Watson:                   2.002\n",
       "Prob(Omnibus):                  0.000   Jarque-Bera (JB):            23449.022\n",
       "Skew:                           2.193   Prob(JB):                         0.00\n",
       "Kurtosis:                      12.983   Cond. No.                     4.97e+04\n",
       "==============================================================================\n",
       "\n",
       "Notes:\n",
       "[1] Standard Errors assume that the covariance matrix of the errors is correctly specified.\n",
       "[2] The condition number is large, 4.97e+04. This might indicate that there are\n",
       "strong multicollinearity or other numerical problems.\n",
       "\"\"\""
      ]
     },
     "execution_count": 218,
     "metadata": {},
     "output_type": "execute_result"
    }
   ],
   "source": [
    "X = combined_stats_all.drop(columns=[\"market_value_in_eur\", 'name', 'player_id'])\n",
    "y = combined_stats_all['market_value_in_eur']\n",
    "\n",
    "\n",
    "X_train, X_test, y_train, y_test = train_test_split(X, y, test_size=0.2, random_state=1)\n",
    "\n",
    "X_train = sm.add_constant(X_train)\n",
    "X_test = sm.add_constant(X_test)\n",
    "\n",
    "lm = sm.OLS(y_train, X_train)\n",
    "lm_fit = lm.fit()\n",
    "\n",
    "y_pred = lm_fit.predict(X_test)\n",
    "mae = mean_absolute_error(y_test, y_pred)\n",
    "\n",
    "print(f'Mean Absolute Error (MAE): {mae}')\n",
    "\n",
    "lm_fit.summary()"
   ]
  },
  {
   "cell_type": "markdown",
   "metadata": {},
   "source": [
    "<h4>Próba klasyfikacji</h4>"
   ]
  },
  {
   "cell_type": "code",
   "execution_count": 219,
   "metadata": {},
   "outputs": [],
   "source": [
    "# X = combined_stats_all.drop(columns=[\"market_value_in_eur\", 'name', 'player_id'])\n",
    "# y = combined_stats_all['market_value_in_eur']\n",
    "\n",
    "# X_train, X_test, y_train, y_test = train_test_split(X, y, test_size=0.2, random_state=1)\n",
    "# X_test, X_val, y_test, y_val = train_test_split(X_test, y_test, test_size=0.5, random_state=1)\n",
    "\n",
    "# tree = DecisionTreeClassifier()\n",
    "\n",
    "# path = tree.cost_complexity_pruning_path(X_train, y_train)\n",
    "\n",
    "# alphas, impurities = path.ccp_alphas, path.impurities\n",
    "\n",
    "# acc = list()\n",
    "\n",
    "# for alpha in alphas:\n",
    "#     t = DecisionTreeClassifier(ccp_alpha=alpha)\n",
    "#     t.fit(X_train, y_train)\n",
    "#     acc.append(t.score(X_val, y_val))\n",
    "\n",
    "# plt.plot(alphas, acc)"
   ]
  },
  {
   "cell_type": "markdown",
   "metadata": {},
   "source": [
    "<h4>Te same próby dla piłkarzy pochodzenia angielskiego z ligi angielskiej</h4>"
   ]
  },
  {
   "cell_type": "markdown",
   "metadata": {},
   "source": [
    "<h4>Random Forest z podziałem na sezony</h4>"
   ]
  },
  {
   "cell_type": "code",
   "execution_count": 220,
   "metadata": {},
   "outputs": [
    {
     "name": "stdout",
     "output_type": "stream",
     "text": [
      "Sezon 2012/2013\n",
      "MAE: 4649907.407407408\n",
      "MSE: 40980586805555.555\n",
      "R-squared: -0.0522647240762919\n",
      "Sezon 2013/2014\n",
      "MAE: 4791250.0\n",
      "MSE: 50316910336538.46\n",
      "R-squared: 0.04764756739011666\n",
      "Sezon 2014/2015\n",
      "MAE: 5375192.307692308\n",
      "MSE: 68779997596153.84\n",
      "R-squared: -0.8127520907247845\n",
      "Sezon 2015/2016\n",
      "MAE: 6199400.0\n",
      "MSE: 123454522500000.0\n",
      "R-squared: 0.03564414189923881\n",
      "Sezon 2016/2017\n",
      "MAE: 3447944.4444444445\n",
      "MSE: 22624910699074.074\n",
      "R-squared: 0.2128353217181208\n",
      "Sezon 2017/2018\n",
      "MAE: 5265648.148148148\n",
      "MSE: 37330923842592.59\n",
      "R-squared: -0.27539614330152373\n",
      "Sezon 2018/2019\n",
      "MAE: 8980288.461538462\n",
      "MSE: 179472231009615.38\n",
      "R-squared: 0.2477994361125868\n",
      "Sezon 2019/2020\n",
      "MAE: 7154446.428571428\n",
      "MSE: 94573469401785.72\n",
      "R-squared: -0.7171970996290495\n",
      "Sezon 2020/2021\n",
      "MAE: 10553290.322580645\n",
      "MSE: 253790105951612.9\n",
      "R-squared: -0.5495309126225001\n",
      "Sezon 2021/2022\n",
      "MAE: 10874448.27586207\n",
      "MSE: 229456947413793.1\n",
      "R-squared: 0.25867327186077493\n",
      "Sezon 2022/2023\n",
      "MAE: 13122120.689655172\n",
      "MSE: 327880247698275.9\n",
      "R-squared: 0.26375836663274177\n",
      "Sezon 2023/2024\n",
      "MAE: 12536666.666666666\n",
      "MSE: 399799742116666.7\n",
      "R-squared: 0.4656044493946008\n",
      "-0.07956167412236081\n"
     ]
    }
   ],
   "source": [
    "total = 0\n",
    "\n",
    "for i in range(len(seasons)):\n",
    "\n",
    "    X = seasons[i].drop(columns=[\"market_value_in_eur\", 'name', 'player_id'])\n",
    "    y = seasons[i]['market_value_in_eur']\n",
    "    X_train, X_test, y_train, y_test = train_test_split(X, y, test_size=0.2, random_state=1)\n",
    "    rf = RandomForestRegressor(random_state=42)\n",
    "    rf.fit(X_train, y_train)\n",
    "\n",
    "    y_pred = rf.predict(X_test)\n",
    "\n",
    "    mae = mean_absolute_error(y_test, y_pred)\n",
    "    mse = mean_squared_error(y_test, y_pred)\n",
    "    r2 = rf.score(X_test, y_test)\n",
    "    total += r2\n",
    "    print(f'Sezon {2012+i}/{2013+i}')\n",
    "    print(f'MAE: {mae}')\n",
    "    print(f'MSE: {mse}')\n",
    "    print(f'R-squared: {r2}')\n",
    "\n",
    "print(total/11)"
   ]
  },
  {
   "cell_type": "markdown",
   "metadata": {},
   "source": [
    "<h4>Random Forest bez podziału na sezony</h4>"
   ]
  },
  {
   "cell_type": "code",
   "execution_count": 221,
   "metadata": {},
   "outputs": [
    {
     "name": "stdout",
     "output_type": "stream",
     "text": [
      "Sezon 2023/2024\n",
      "MAE: 8553091.257668711\n",
      "MSE: 187796148792369.62\n",
      "R-squared: 0.4716363109965225\n"
     ]
    }
   ],
   "source": [
    "\n",
    "\n",
    "X = combined_stats.drop(columns=[\"market_value_in_eur\", 'name', 'player_id'])\n",
    "y = combined_stats['market_value_in_eur']\n",
    "X_train, X_test, y_train, y_test = train_test_split(X, y, test_size=0.2, random_state=1)\n",
    "rf = RandomForestRegressor(random_state=42)\n",
    "rf.fit(X_train, y_train)\n",
    "\n",
    "y_pred = rf.predict(X_test)\n",
    "\n",
    "mae = mean_absolute_error(y_test, y_pred)\n",
    "mse = mean_squared_error(y_test, y_pred)\n",
    "r2 = rf.score(X_test, y_test)\n",
    "print(f'Sezon {2012+i}/{2013+i}')\n",
    "print(f'MAE: {mae}')\n",
    "print(f'MSE: {mse}')\n",
    "print(f'R-squared: {r2}')"
   ]
  },
  {
   "cell_type": "markdown",
   "metadata": {},
   "source": [
    "<h4>Ridge Regression</h4>"
   ]
  },
  {
   "cell_type": "code",
   "execution_count": 222,
   "metadata": {},
   "outputs": [
    {
     "name": "stdout",
     "output_type": "stream",
     "text": [
      "Best alpha: {'alpha': 1000}\n",
      "MAE: 9343772.123505943\n",
      "MSE: 241038790179640.44\n",
      "R-squared: 0.3218383593528481\n"
     ]
    }
   ],
   "source": [
    "X = combined_stats.drop(columns=[\"market_value_in_eur\", 'name', 'player_id'])\n",
    "y = combined_stats['market_value_in_eur']\n",
    "\n",
    "scaler = StandardScaler()\n",
    "X_scaled = scaler.fit_transform(X)\n",
    "\n",
    "X_train, X_test, y_train, y_test = train_test_split(X, y, test_size=0.2, random_state=1)\n",
    "\n",
    "param_grid = {'alpha': [0.1, 1, 10, 100, 1000]}\n",
    "ridge = Ridge()\n",
    "grid_search = GridSearchCV(ridge, param_grid, cv=5, scoring='r2')\n",
    "grid_search.fit(X_train, y_train)\n",
    "\n",
    "\n",
    "best_model = grid_search.best_estimator_\n",
    "\n",
    "\n",
    "y_pred = best_model.predict(X_test)\n",
    "\n",
    "\n",
    "mae = mean_absolute_error(y_test, y_pred)\n",
    "mse = mean_squared_error(y_test, y_pred)\n",
    "r2 = r2_score(y_test, y_pred)\n",
    "\n",
    "print(f'Best alpha: {grid_search.best_params_}')\n",
    "print(f'MAE: {mae}')\n",
    "print(f'MSE: {mse}')\n",
    "print(f'R-squared: {r2}')"
   ]
  },
  {
   "cell_type": "markdown",
   "metadata": {},
   "source": [
    "<h4>Linear Regression</h4>"
   ]
  },
  {
   "cell_type": "code",
   "execution_count": 223,
   "metadata": {},
   "outputs": [
    {
     "name": "stdout",
     "output_type": "stream",
     "text": [
      "Mean Absolute Error (MAE): 9373016.685672412\n"
     ]
    },
    {
     "data": {
      "text/html": [
       "<table class=\"simpletable\">\n",
       "<caption>OLS Regression Results</caption>\n",
       "<tr>\n",
       "  <th>Dep. Variable:</th>    <td>market_value_in_eur</td> <th>  R-squared:         </th> <td>   0.274</td> \n",
       "</tr>\n",
       "<tr>\n",
       "  <th>Model:</th>                    <td>OLS</td>         <th>  Adj. R-squared:    </th> <td>   0.269</td> \n",
       "</tr>\n",
       "<tr>\n",
       "  <th>Method:</th>              <td>Least Squares</td>    <th>  F-statistic:       </th> <td>   54.09</td> \n",
       "</tr>\n",
       "<tr>\n",
       "  <th>Date:</th>              <td>Mon, 08 Jul 2024</td>   <th>  Prob (F-statistic):</th> <td>1.33e-83</td> \n",
       "</tr>\n",
       "<tr>\n",
       "  <th>Time:</th>                  <td>16:50:59</td>       <th>  Log-Likelihood:    </th> <td> -23159.</td> \n",
       "</tr>\n",
       "<tr>\n",
       "  <th>No. Observations:</th>       <td>  1300</td>        <th>  AIC:               </th> <td>4.634e+04</td>\n",
       "</tr>\n",
       "<tr>\n",
       "  <th>Df Residuals:</th>           <td>  1290</td>        <th>  BIC:               </th> <td>4.639e+04</td>\n",
       "</tr>\n",
       "<tr>\n",
       "  <th>Df Model:</th>               <td>     9</td>        <th>                     </th>     <td> </td>    \n",
       "</tr>\n",
       "<tr>\n",
       "  <th>Covariance Type:</th>       <td>nonrobust</td>      <th>                     </th>     <td> </td>    \n",
       "</tr>\n",
       "</table>\n",
       "<table class=\"simpletable\">\n",
       "<tr>\n",
       "            <td></td>              <th>coef</th>     <th>std err</th>      <th>t</th>      <th>P>|t|</th>  <th>[0.025</th>    <th>0.975]</th>  \n",
       "</tr>\n",
       "<tr>\n",
       "  <th>const</th>                <td>  1.21e+07</td> <td> 1.07e+07</td> <td>    1.126</td> <td> 0.260</td> <td>-8.98e+06</td> <td> 3.32e+07</td>\n",
       "</tr>\n",
       "<tr>\n",
       "  <th>goals</th>                <td>  1.27e+06</td> <td> 1.66e+05</td> <td>    7.650</td> <td> 0.000</td> <td> 9.44e+05</td> <td>  1.6e+06</td>\n",
       "</tr>\n",
       "<tr>\n",
       "  <th>assists</th>              <td> 1.693e+06</td> <td> 2.32e+05</td> <td>    7.308</td> <td> 0.000</td> <td> 1.24e+06</td> <td> 2.15e+06</td>\n",
       "</tr>\n",
       "<tr>\n",
       "  <th>yellow_cards</th>         <td>-1.183e+05</td> <td> 1.94e+05</td> <td>   -0.610</td> <td> 0.542</td> <td>-4.99e+05</td> <td> 2.62e+05</td>\n",
       "</tr>\n",
       "<tr>\n",
       "  <th>red_cards</th>            <td>-2.105e+06</td> <td> 1.58e+06</td> <td>   -1.331</td> <td> 0.183</td> <td>-5.21e+06</td> <td> 9.97e+05</td>\n",
       "</tr>\n",
       "<tr>\n",
       "  <th>minutes_played</th>       <td> 1873.8684</td> <td>  560.108</td> <td>    3.346</td> <td> 0.001</td> <td>  775.045</td> <td> 2972.691</td>\n",
       "</tr>\n",
       "<tr>\n",
       "  <th>age</th>                  <td>-7.428e+05</td> <td> 8.37e+04</td> <td>   -8.871</td> <td> 0.000</td> <td>-9.07e+05</td> <td>-5.79e+05</td>\n",
       "</tr>\n",
       "<tr>\n",
       "  <th>height_in_cm</th>         <td> 5.808e+04</td> <td> 5.66e+04</td> <td>    1.026</td> <td> 0.305</td> <td> -5.3e+04</td> <td> 1.69e+05</td>\n",
       "</tr>\n",
       "<tr>\n",
       "  <th>sub_position_encoded</th> <td> 2.193e+05</td> <td> 1.31e+05</td> <td>    1.675</td> <td> 0.094</td> <td>-3.76e+04</td> <td> 4.76e+05</td>\n",
       "</tr>\n",
       "<tr>\n",
       "  <th>position_encoded</th>     <td> 4.126e+05</td> <td>    4e+05</td> <td>    1.032</td> <td> 0.302</td> <td>-3.72e+05</td> <td>  1.2e+06</td>\n",
       "</tr>\n",
       "</table>\n",
       "<table class=\"simpletable\">\n",
       "<tr>\n",
       "  <th>Omnibus:</th>       <td>738.083</td> <th>  Durbin-Watson:     </th> <td>   1.940</td>\n",
       "</tr>\n",
       "<tr>\n",
       "  <th>Prob(Omnibus):</th> <td> 0.000</td>  <th>  Jarque-Bera (JB):  </th> <td>7604.419</td>\n",
       "</tr>\n",
       "<tr>\n",
       "  <th>Skew:</th>          <td> 2.462</td>  <th>  Prob(JB):          </th> <td>    0.00</td>\n",
       "</tr>\n",
       "<tr>\n",
       "  <th>Kurtosis:</th>      <td>13.777</td>  <th>  Cond. No.          </th> <td>4.95e+04</td>\n",
       "</tr>\n",
       "</table><br/><br/>Notes:<br/>[1] Standard Errors assume that the covariance matrix of the errors is correctly specified.<br/>[2] The condition number is large, 4.95e+04. This might indicate that there are<br/>strong multicollinearity or other numerical problems."
      ],
      "text/latex": [
       "\\begin{center}\n",
       "\\begin{tabular}{lclc}\n",
       "\\toprule\n",
       "\\textbf{Dep. Variable:}         & market\\_value\\_in\\_eur & \\textbf{  R-squared:         } &     0.274   \\\\\n",
       "\\textbf{Model:}                 &          OLS           & \\textbf{  Adj. R-squared:    } &     0.269   \\\\\n",
       "\\textbf{Method:}                &     Least Squares      & \\textbf{  F-statistic:       } &     54.09   \\\\\n",
       "\\textbf{Date:}                  &    Mon, 08 Jul 2024    & \\textbf{  Prob (F-statistic):} &  1.33e-83   \\\\\n",
       "\\textbf{Time:}                  &        16:50:59        & \\textbf{  Log-Likelihood:    } &   -23159.   \\\\\n",
       "\\textbf{No. Observations:}      &           1300         & \\textbf{  AIC:               } & 4.634e+04   \\\\\n",
       "\\textbf{Df Residuals:}          &           1290         & \\textbf{  BIC:               } & 4.639e+04   \\\\\n",
       "\\textbf{Df Model:}              &              9         & \\textbf{                     } &             \\\\\n",
       "\\textbf{Covariance Type:}       &       nonrobust        & \\textbf{                     } &             \\\\\n",
       "\\bottomrule\n",
       "\\end{tabular}\n",
       "\\begin{tabular}{lcccccc}\n",
       "                                & \\textbf{coef} & \\textbf{std err} & \\textbf{t} & \\textbf{P$> |$t$|$} & \\textbf{[0.025} & \\textbf{0.975]}  \\\\\n",
       "\\midrule\n",
       "\\textbf{const}                  &     1.21e+07  &     1.07e+07     &     1.126  &         0.260        &    -8.98e+06    &     3.32e+07     \\\\\n",
       "\\textbf{goals}                  &     1.27e+06  &     1.66e+05     &     7.650  &         0.000        &     9.44e+05    &      1.6e+06     \\\\\n",
       "\\textbf{assists}                &    1.693e+06  &     2.32e+05     &     7.308  &         0.000        &     1.24e+06    &     2.15e+06     \\\\\n",
       "\\textbf{yellow\\_cards}          &   -1.183e+05  &     1.94e+05     &    -0.610  &         0.542        &    -4.99e+05    &     2.62e+05     \\\\\n",
       "\\textbf{red\\_cards}             &   -2.105e+06  &     1.58e+06     &    -1.331  &         0.183        &    -5.21e+06    &     9.97e+05     \\\\\n",
       "\\textbf{minutes\\_played}        &    1873.8684  &      560.108     &     3.346  &         0.001        &      775.045    &     2972.691     \\\\\n",
       "\\textbf{age}                    &   -7.428e+05  &     8.37e+04     &    -8.871  &         0.000        &    -9.07e+05    &    -5.79e+05     \\\\\n",
       "\\textbf{height\\_in\\_cm}         &    5.808e+04  &     5.66e+04     &     1.026  &         0.305        &     -5.3e+04    &     1.69e+05     \\\\\n",
       "\\textbf{sub\\_position\\_encoded} &    2.193e+05  &     1.31e+05     &     1.675  &         0.094        &    -3.76e+04    &     4.76e+05     \\\\\n",
       "\\textbf{position\\_encoded}      &    4.126e+05  &        4e+05     &     1.032  &         0.302        &    -3.72e+05    &      1.2e+06     \\\\\n",
       "\\bottomrule\n",
       "\\end{tabular}\n",
       "\\begin{tabular}{lclc}\n",
       "\\textbf{Omnibus:}       & 738.083 & \\textbf{  Durbin-Watson:     } &    1.940  \\\\\n",
       "\\textbf{Prob(Omnibus):} &   0.000 & \\textbf{  Jarque-Bera (JB):  } & 7604.419  \\\\\n",
       "\\textbf{Skew:}          &   2.462 & \\textbf{  Prob(JB):          } &     0.00  \\\\\n",
       "\\textbf{Kurtosis:}      &  13.777 & \\textbf{  Cond. No.          } & 4.95e+04  \\\\\n",
       "\\bottomrule\n",
       "\\end{tabular}\n",
       "%\\caption{OLS Regression Results}\n",
       "\\end{center}\n",
       "\n",
       "Notes: \\newline\n",
       " [1] Standard Errors assume that the covariance matrix of the errors is correctly specified. \\newline\n",
       " [2] The condition number is large, 4.95e+04. This might indicate that there are \\newline\n",
       " strong multicollinearity or other numerical problems."
      ],
      "text/plain": [
       "<class 'statsmodels.iolib.summary.Summary'>\n",
       "\"\"\"\n",
       "                             OLS Regression Results                            \n",
       "===============================================================================\n",
       "Dep. Variable:     market_value_in_eur   R-squared:                       0.274\n",
       "Model:                             OLS   Adj. R-squared:                  0.269\n",
       "Method:                  Least Squares   F-statistic:                     54.09\n",
       "Date:                 Mon, 08 Jul 2024   Prob (F-statistic):           1.33e-83\n",
       "Time:                         16:50:59   Log-Likelihood:                -23159.\n",
       "No. Observations:                 1300   AIC:                         4.634e+04\n",
       "Df Residuals:                     1290   BIC:                         4.639e+04\n",
       "Df Model:                            9                                         \n",
       "Covariance Type:             nonrobust                                         \n",
       "========================================================================================\n",
       "                           coef    std err          t      P>|t|      [0.025      0.975]\n",
       "----------------------------------------------------------------------------------------\n",
       "const                  1.21e+07   1.07e+07      1.126      0.260   -8.98e+06    3.32e+07\n",
       "goals                  1.27e+06   1.66e+05      7.650      0.000    9.44e+05     1.6e+06\n",
       "assists               1.693e+06   2.32e+05      7.308      0.000    1.24e+06    2.15e+06\n",
       "yellow_cards         -1.183e+05   1.94e+05     -0.610      0.542   -4.99e+05    2.62e+05\n",
       "red_cards            -2.105e+06   1.58e+06     -1.331      0.183   -5.21e+06    9.97e+05\n",
       "minutes_played        1873.8684    560.108      3.346      0.001     775.045    2972.691\n",
       "age                  -7.428e+05   8.37e+04     -8.871      0.000   -9.07e+05   -5.79e+05\n",
       "height_in_cm          5.808e+04   5.66e+04      1.026      0.305    -5.3e+04    1.69e+05\n",
       "sub_position_encoded  2.193e+05   1.31e+05      1.675      0.094   -3.76e+04    4.76e+05\n",
       "position_encoded      4.126e+05      4e+05      1.032      0.302   -3.72e+05     1.2e+06\n",
       "==============================================================================\n",
       "Omnibus:                      738.083   Durbin-Watson:                   1.940\n",
       "Prob(Omnibus):                  0.000   Jarque-Bera (JB):             7604.419\n",
       "Skew:                           2.462   Prob(JB):                         0.00\n",
       "Kurtosis:                      13.777   Cond. No.                     4.95e+04\n",
       "==============================================================================\n",
       "\n",
       "Notes:\n",
       "[1] Standard Errors assume that the covariance matrix of the errors is correctly specified.\n",
       "[2] The condition number is large, 4.95e+04. This might indicate that there are\n",
       "strong multicollinearity or other numerical problems.\n",
       "\"\"\""
      ]
     },
     "execution_count": 223,
     "metadata": {},
     "output_type": "execute_result"
    }
   ],
   "source": [
    "X = combined_stats.drop(columns=[\"market_value_in_eur\", 'name', 'player_id'])\n",
    "y = combined_stats['market_value_in_eur']\n",
    "\n",
    "\n",
    "X_train, X_test, y_train, y_test = train_test_split(X, y, test_size=0.2, random_state=1)\n",
    "\n",
    "X_train = sm.add_constant(X_train)\n",
    "X_test = sm.add_constant(X_test)\n",
    "\n",
    "lm = sm.OLS(y_train, X_train)\n",
    "lm_fit = lm.fit()\n",
    "\n",
    "y_pred = lm_fit.predict(X_test)\n",
    "mae = mean_absolute_error(y_test, y_pred)\n",
    "\n",
    "print(f'Mean Absolute Error (MAE): {mae}')\n",
    "\n",
    "lm_fit.summary()"
   ]
  },
  {
   "cell_type": "markdown",
   "metadata": {},
   "source": [
    "<h4>Dashboard</h4>"
   ]
  },
  {
   "cell_type": "code",
   "execution_count": 224,
   "metadata": {},
   "outputs": [
    {
     "data": {
      "text/html": [
       "\n",
       "        <iframe\n",
       "            width=\"100%\"\n",
       "            height=\"650\"\n",
       "            src=\"http://127.0.0.1:8050/\"\n",
       "            frameborder=\"0\"\n",
       "            allowfullscreen\n",
       "            \n",
       "        ></iframe>\n",
       "        "
      ],
      "text/plain": [
       "<IPython.lib.display.IFrame at 0x2aa5d2ae0>"
      ]
     },
     "metadata": {},
     "output_type": "display_data"
    }
   ],
   "source": [
    "app = dash.Dash(__name__)\n",
    "\n",
    "\n",
    "unique_seasons = list(season_stats.keys())\n",
    "\n",
    "app.layout = html.Div(style={'backgroundColor' : 'black'},\n",
    "    children=[\n",
    "        html.H1(children='Football Transfer Market Dashboard', style={'color' : 'red'}),\n",
    "\n",
    "        html.Label('Select Season', style={'color' : 'red'}),\n",
    "        dcc.Dropdown(\n",
    "            id='season-dropdown',\n",
    "            options=[{'label': season, 'value': season} for season in unique_seasons],\n",
    "            value=unique_seasons[0]\n",
    "        ),\n",
    "                \n",
    "        html.Div(id='output-graph'),\n",
    "        dcc.Input(id='player-name-input', type='text', placeholder='Wpisz nazwę gracza...'),\n",
    "        html.Button('Potwierdź', id='confirm-button'),\n",
    "        html.Div(id='value-over-output')\n",
    "    ]\n",
    ")\n",
    "\n",
    "@app.callback(\n",
    "    Output(component_id='output-graph', component_property='children'),\n",
    "    Input(component_id='season-dropdown', component_property='value')\n",
    ")\n",
    "def update_graph(selected_season):\n",
    "    season_data = season_stats[selected_season]\n",
    "    top_players = season_data.nlargest(10, 'market_value_in_eur')\n",
    "\n",
    "    fig = px.bar(top_players, \n",
    "                x='market_value_in_eur', \n",
    "                y='name', \n",
    "                orientation='h', \n",
    "                title=f'Top 10 Most Valuable Players in {selected_season}',\n",
    "                labels={'market_value_in_eur': 'Market Value (in EUR)', 'name': 'Player'})\n",
    "    return dcc.Graph(figure=fig)\n",
    "\n",
    "\n",
    "fig_serie_a = go.Figure(data=[go.Pie(labels=club_value_serie_a['Club'], values=club_value_serie_a['Squad Market Value (EUR)'])])\n",
    "fig_serie_a.update_layout(title='Market value of Serie A clubs')\n",
    "\n",
    "fig_premier_league = go.Figure(data=[go.Pie(labels=club_value_premier_league['Club'], values=club_value_premier_league['Squad Market Value (EUR)'])])\n",
    "fig_premier_league.update_layout(title='Market value of Premier League clubs')\n",
    "\n",
    "fig_la_liga = go.Figure(data=[go.Pie(labels=club_value_la_liga['Club'], values=club_value_la_liga['Squad Market Value (EUR)'])])\n",
    "fig_la_liga.update_layout(title='Market value of La Liga clubs')\n",
    "\n",
    "fig_bundesliga = go.Figure(data=[go.Pie(labels=club_value_bundesliga['Club'], values=club_value_bundesliga['Squad Market Value (EUR)'])])\n",
    "fig_bundesliga.update_layout(title='Market value of Bundesliga clubs')\n",
    "\n",
    "fig_ligue = go.Figure(data=[go.Pie(labels=club_value_ligue['Club'], values=club_value_ligue['Squad Market Value (EUR)'])])\n",
    "fig_ligue.update_layout(title='Market value of Ligue 1 clubs')\n",
    "\n",
    "fig_positions = px.bar(position_value, x='sub_position', y='market_value_in_eur_x', color='league', \n",
    "             barmode='group', \n",
    "             title='Average Value by Position in Major Leagues',\n",
    "             labels={'market_value_in_eur_x': 'Average Market Value (EUR)', 'sub_position': 'Position', 'league': 'League'})\n",
    "\n",
    "data = []\n",
    "for i, season in enumerate(seasons):\n",
    "    player_data = season[season['name'] == 'Marcus Rashford']\n",
    "    if not player_data.empty:\n",
    "        season_data = {\n",
    "            'season': f'Season {2012 + i}/{2013 + i}',\n",
    "            'goals': player_data['goals'].values[0],\n",
    "            'assists': player_data['assists'].values[0],\n",
    "            'yellow_cards': player_data['yellow_cards'].values[0],\n",
    "            'red_cards': player_data['red_cards'].values[0],\n",
    "            'market_value_in_eur': player_data['market_value_in_eur'].values[0] / 1000000\n",
    "        }\n",
    "        data.append(season_data)\n",
    "df = pd.DataFrame(data)\n",
    "fig_stats = go.Figure()\n",
    "\n",
    "fig_stats.add_trace(go.Bar(\n",
    "    x=df['season'],\n",
    "    y=df['goals'],\n",
    "    name='Goals'\n",
    "))\n",
    "\n",
    "fig_stats.add_trace(go.Bar(\n",
    "    x=df['season'],\n",
    "    y=df['assists'],\n",
    "    name='Assists'\n",
    "))\n",
    "\n",
    "fig_stats.add_trace(go.Bar(\n",
    "    x=df['season'],\n",
    "    y=df['yellow_cards'],\n",
    "    name='Yellow Cards'\n",
    "))\n",
    "\n",
    "fig_stats.add_trace(go.Bar(\n",
    "    x=df['season'],\n",
    "    y=df['red_cards'],\n",
    "    name='Red Cards'\n",
    "))\n",
    "\n",
    "fig_stats.add_trace(go.Bar(\n",
    "    x=df['season'],\n",
    "    y=df['market_value_in_eur'],\n",
    "    name='Value'\n",
    "))\n",
    "\n",
    "fig_stats.update_layout(\n",
    "    title='Statistics of Marcus Rashford Over Seasons',\n",
    "    xaxis_title='Season',\n",
    "    yaxis_title='Count',\n",
    "    barmode='group',\n",
    "    legend_title='Statistics'\n",
    ")\n",
    "\n",
    "\n",
    "app.layout.children.append(html.Div([\n",
    "    dcc.Graph(figure=fig_serie_a),\n",
    "    dcc.Graph(figure=fig_premier_league),\n",
    "    dcc.Graph(figure=fig_la_liga),\n",
    "    dcc.Graph(figure=fig_bundesliga),\n",
    "    dcc.Graph(figure=fig_ligue),\n",
    "    dcc.Graph(figure=fig_positions),\n",
    "    dcc.Graph(figure=fig_stats),\n",
    "    html.Div(id='value-over-input')\n",
    "]))\n",
    "\n",
    "\n",
    "@app.callback(\n",
    "    Output('value-over-output', 'children'),\n",
    "    Input('confirm-button', 'n_clicks'),\n",
    "    State('player-name-input', 'value')\n",
    ")\n",
    "\n",
    "\n",
    "def update_value_over(n_clicks, player_name):\n",
    "    if n_clicks is not None and player_name:\n",
    "        result = value_over(player_name)\n",
    "        return str(result)\n",
    "    else:\n",
    "        return \"Proszę wpisać nazwę gracza i potwierdzić.\"\n",
    "\n",
    "\n",
    "if __name__ == '__main__':\n",
    "    app.run_server(debug=True)"
   ]
  },
  {
   "cell_type": "code",
   "execution_count": null,
   "metadata": {},
   "outputs": [],
   "source": []
  }
 ],
 "metadata": {
  "kernelspec": {
   "display_name": "Python 3",
   "language": "python",
   "name": "python3"
  },
  "language_info": {
   "codemirror_mode": {
    "name": "ipython",
    "version": 3
   },
   "file_extension": ".py",
   "mimetype": "text/x-python",
   "name": "python",
   "nbconvert_exporter": "python",
   "pygments_lexer": "ipython3",
   "version": "3.12.3"
  }
 },
 "nbformat": 4,
 "nbformat_minor": 2
}
